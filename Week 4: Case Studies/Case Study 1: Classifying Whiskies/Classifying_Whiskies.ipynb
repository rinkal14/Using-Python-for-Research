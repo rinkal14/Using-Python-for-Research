{
  "nbformat": 4,
  "nbformat_minor": 0,
  "metadata": {
    "colab": {
      "name": "Classifying Whiskies.ipynb",
      "provenance": []
    },
    "kernelspec": {
      "name": "python3",
      "display_name": "Python 3"
    }
  },
  "cells": [
    {
      "cell_type": "code",
      "metadata": {
        "id": "mvvSGw_bofT6",
        "colab_type": "code",
        "colab": {}
      },
      "source": [
        "import numpy as np\n",
        "import pandas as pd"
      ],
      "execution_count": 0,
      "outputs": []
    },
    {
      "cell_type": "code",
      "metadata": {
        "id": "yKuqxu3youYF",
        "colab_type": "code",
        "colab": {}
      },
      "source": [
        "# import data as a pandas dataframe\n",
        "whisky = pd.read_csv('whiskies.txt')\n",
        "whisky['Region'] = pd.read_csv('regions.txt')"
      ],
      "execution_count": 0,
      "outputs": []
    },
    {
      "cell_type": "code",
      "metadata": {
        "id": "F8_EFdlsrVUF",
        "colab_type": "code",
        "colab": {
          "base_uri": "https://localhost:8080/",
          "height": 284
        },
        "outputId": "160566dc-4f5f-4d44-809e-3835078c0290"
      },
      "source": [
        "whisky.head(5)"
      ],
      "execution_count": 18,
      "outputs": [
        {
          "output_type": "execute_result",
          "data": {
            "text/html": [
              "<div>\n",
              "<style scoped>\n",
              "    .dataframe tbody tr th:only-of-type {\n",
              "        vertical-align: middle;\n",
              "    }\n",
              "\n",
              "    .dataframe tbody tr th {\n",
              "        vertical-align: top;\n",
              "    }\n",
              "\n",
              "    .dataframe thead th {\n",
              "        text-align: right;\n",
              "    }\n",
              "</style>\n",
              "<table border=\"1\" class=\"dataframe\">\n",
              "  <thead>\n",
              "    <tr style=\"text-align: right;\">\n",
              "      <th></th>\n",
              "      <th>RowID</th>\n",
              "      <th>Distillery</th>\n",
              "      <th>Body</th>\n",
              "      <th>Sweetness</th>\n",
              "      <th>Smoky</th>\n",
              "      <th>Medicinal</th>\n",
              "      <th>Tobacco</th>\n",
              "      <th>Honey</th>\n",
              "      <th>Spicy</th>\n",
              "      <th>Winey</th>\n",
              "      <th>Nutty</th>\n",
              "      <th>Malty</th>\n",
              "      <th>Fruity</th>\n",
              "      <th>Floral</th>\n",
              "      <th>Postcode</th>\n",
              "      <th>Latitude</th>\n",
              "      <th>Longitude</th>\n",
              "      <th>Region</th>\n",
              "    </tr>\n",
              "  </thead>\n",
              "  <tbody>\n",
              "    <tr>\n",
              "      <th>0</th>\n",
              "      <td>1</td>\n",
              "      <td>Aberfeldy</td>\n",
              "      <td>2</td>\n",
              "      <td>2</td>\n",
              "      <td>2</td>\n",
              "      <td>0</td>\n",
              "      <td>0</td>\n",
              "      <td>2</td>\n",
              "      <td>1</td>\n",
              "      <td>2</td>\n",
              "      <td>2</td>\n",
              "      <td>2</td>\n",
              "      <td>2</td>\n",
              "      <td>2</td>\n",
              "      <td>\\tPH15 2EB</td>\n",
              "      <td>286580</td>\n",
              "      <td>749680</td>\n",
              "      <td>Highlands</td>\n",
              "    </tr>\n",
              "    <tr>\n",
              "      <th>1</th>\n",
              "      <td>2</td>\n",
              "      <td>Aberlour</td>\n",
              "      <td>3</td>\n",
              "      <td>3</td>\n",
              "      <td>1</td>\n",
              "      <td>0</td>\n",
              "      <td>0</td>\n",
              "      <td>4</td>\n",
              "      <td>3</td>\n",
              "      <td>2</td>\n",
              "      <td>2</td>\n",
              "      <td>3</td>\n",
              "      <td>3</td>\n",
              "      <td>2</td>\n",
              "      <td>\\tAB38 9PJ</td>\n",
              "      <td>326340</td>\n",
              "      <td>842570</td>\n",
              "      <td>Speyside</td>\n",
              "    </tr>\n",
              "    <tr>\n",
              "      <th>2</th>\n",
              "      <td>3</td>\n",
              "      <td>AnCnoc</td>\n",
              "      <td>1</td>\n",
              "      <td>3</td>\n",
              "      <td>2</td>\n",
              "      <td>0</td>\n",
              "      <td>0</td>\n",
              "      <td>2</td>\n",
              "      <td>0</td>\n",
              "      <td>0</td>\n",
              "      <td>2</td>\n",
              "      <td>2</td>\n",
              "      <td>3</td>\n",
              "      <td>2</td>\n",
              "      <td>\\tAB5 5LI</td>\n",
              "      <td>352960</td>\n",
              "      <td>839320</td>\n",
              "      <td>Highlands</td>\n",
              "    </tr>\n",
              "    <tr>\n",
              "      <th>3</th>\n",
              "      <td>4</td>\n",
              "      <td>Ardbeg</td>\n",
              "      <td>4</td>\n",
              "      <td>1</td>\n",
              "      <td>4</td>\n",
              "      <td>4</td>\n",
              "      <td>0</td>\n",
              "      <td>0</td>\n",
              "      <td>2</td>\n",
              "      <td>0</td>\n",
              "      <td>1</td>\n",
              "      <td>2</td>\n",
              "      <td>1</td>\n",
              "      <td>0</td>\n",
              "      <td>\\tPA42 7EB</td>\n",
              "      <td>141560</td>\n",
              "      <td>646220</td>\n",
              "      <td>Islay</td>\n",
              "    </tr>\n",
              "    <tr>\n",
              "      <th>4</th>\n",
              "      <td>5</td>\n",
              "      <td>Ardmore</td>\n",
              "      <td>2</td>\n",
              "      <td>2</td>\n",
              "      <td>2</td>\n",
              "      <td>0</td>\n",
              "      <td>0</td>\n",
              "      <td>1</td>\n",
              "      <td>1</td>\n",
              "      <td>1</td>\n",
              "      <td>2</td>\n",
              "      <td>3</td>\n",
              "      <td>1</td>\n",
              "      <td>1</td>\n",
              "      <td>\\tAB54 4NH</td>\n",
              "      <td>355350</td>\n",
              "      <td>829140</td>\n",
              "      <td>Highlands</td>\n",
              "    </tr>\n",
              "  </tbody>\n",
              "</table>\n",
              "</div>"
            ],
            "text/plain": [
              "   RowID Distillery  Body  ...   Latitude   Longitude     Region\n",
              "0      1  Aberfeldy     2  ...     286580      749680  Highlands\n",
              "1      2   Aberlour     3  ...     326340      842570   Speyside\n",
              "2      3     AnCnoc     1  ...     352960      839320  Highlands\n",
              "3      4     Ardbeg     4  ...     141560      646220      Islay\n",
              "4      5    Ardmore     2  ...     355350      829140  Highlands\n",
              "\n",
              "[5 rows x 18 columns]"
            ]
          },
          "metadata": {
            "tags": []
          },
          "execution_count": 18
        }
      ]
    },
    {
      "cell_type": "code",
      "metadata": {
        "id": "3rIUWihTrXd5",
        "colab_type": "code",
        "colab": {
          "base_uri": "https://localhost:8080/",
          "height": 267
        },
        "outputId": "ac164f18-a418-45e2-d360-35a833a85e9b"
      },
      "source": [
        "whisky.tail(5)"
      ],
      "execution_count": 19,
      "outputs": [
        {
          "output_type": "execute_result",
          "data": {
            "text/html": [
              "<div>\n",
              "<style scoped>\n",
              "    .dataframe tbody tr th:only-of-type {\n",
              "        vertical-align: middle;\n",
              "    }\n",
              "\n",
              "    .dataframe tbody tr th {\n",
              "        vertical-align: top;\n",
              "    }\n",
              "\n",
              "    .dataframe thead th {\n",
              "        text-align: right;\n",
              "    }\n",
              "</style>\n",
              "<table border=\"1\" class=\"dataframe\">\n",
              "  <thead>\n",
              "    <tr style=\"text-align: right;\">\n",
              "      <th></th>\n",
              "      <th>RowID</th>\n",
              "      <th>Distillery</th>\n",
              "      <th>Body</th>\n",
              "      <th>Sweetness</th>\n",
              "      <th>Smoky</th>\n",
              "      <th>Medicinal</th>\n",
              "      <th>Tobacco</th>\n",
              "      <th>Honey</th>\n",
              "      <th>Spicy</th>\n",
              "      <th>Winey</th>\n",
              "      <th>Nutty</th>\n",
              "      <th>Malty</th>\n",
              "      <th>Fruity</th>\n",
              "      <th>Floral</th>\n",
              "      <th>Postcode</th>\n",
              "      <th>Latitude</th>\n",
              "      <th>Longitude</th>\n",
              "      <th>Region</th>\n",
              "    </tr>\n",
              "  </thead>\n",
              "  <tbody>\n",
              "    <tr>\n",
              "      <th>81</th>\n",
              "      <td>82</td>\n",
              "      <td>Tobermory</td>\n",
              "      <td>1</td>\n",
              "      <td>1</td>\n",
              "      <td>1</td>\n",
              "      <td>0</td>\n",
              "      <td>0</td>\n",
              "      <td>1</td>\n",
              "      <td>0</td>\n",
              "      <td>0</td>\n",
              "      <td>1</td>\n",
              "      <td>2</td>\n",
              "      <td>2</td>\n",
              "      <td>2</td>\n",
              "      <td>PA75 6NR</td>\n",
              "      <td>150450</td>\n",
              "      <td>755070</td>\n",
              "      <td>Islands</td>\n",
              "    </tr>\n",
              "    <tr>\n",
              "      <th>82</th>\n",
              "      <td>83</td>\n",
              "      <td>Tomatin</td>\n",
              "      <td>2</td>\n",
              "      <td>3</td>\n",
              "      <td>2</td>\n",
              "      <td>0</td>\n",
              "      <td>0</td>\n",
              "      <td>2</td>\n",
              "      <td>2</td>\n",
              "      <td>1</td>\n",
              "      <td>1</td>\n",
              "      <td>2</td>\n",
              "      <td>0</td>\n",
              "      <td>1</td>\n",
              "      <td>IV13 7YT</td>\n",
              "      <td>279120</td>\n",
              "      <td>829630</td>\n",
              "      <td>Highlands</td>\n",
              "    </tr>\n",
              "    <tr>\n",
              "      <th>83</th>\n",
              "      <td>84</td>\n",
              "      <td>Tomintoul</td>\n",
              "      <td>0</td>\n",
              "      <td>3</td>\n",
              "      <td>1</td>\n",
              "      <td>0</td>\n",
              "      <td>0</td>\n",
              "      <td>2</td>\n",
              "      <td>2</td>\n",
              "      <td>1</td>\n",
              "      <td>1</td>\n",
              "      <td>2</td>\n",
              "      <td>1</td>\n",
              "      <td>2</td>\n",
              "      <td>AB37 9AQ</td>\n",
              "      <td>315100</td>\n",
              "      <td>825560</td>\n",
              "      <td>Speyside</td>\n",
              "    </tr>\n",
              "    <tr>\n",
              "      <th>84</th>\n",
              "      <td>85</td>\n",
              "      <td>Tormore</td>\n",
              "      <td>2</td>\n",
              "      <td>2</td>\n",
              "      <td>1</td>\n",
              "      <td>0</td>\n",
              "      <td>0</td>\n",
              "      <td>1</td>\n",
              "      <td>0</td>\n",
              "      <td>1</td>\n",
              "      <td>2</td>\n",
              "      <td>1</td>\n",
              "      <td>0</td>\n",
              "      <td>0</td>\n",
              "      <td>PH26 3LR</td>\n",
              "      <td>315180</td>\n",
              "      <td>834960</td>\n",
              "      <td>Speyside</td>\n",
              "    </tr>\n",
              "    <tr>\n",
              "      <th>85</th>\n",
              "      <td>86</td>\n",
              "      <td>Tullibardine</td>\n",
              "      <td>2</td>\n",
              "      <td>3</td>\n",
              "      <td>0</td>\n",
              "      <td>0</td>\n",
              "      <td>1</td>\n",
              "      <td>0</td>\n",
              "      <td>2</td>\n",
              "      <td>1</td>\n",
              "      <td>1</td>\n",
              "      <td>2</td>\n",
              "      <td>2</td>\n",
              "      <td>1</td>\n",
              "      <td>PH4 1QG</td>\n",
              "      <td>289690</td>\n",
              "      <td>708850</td>\n",
              "      <td>Highlands</td>\n",
              "    </tr>\n",
              "  </tbody>\n",
              "</table>\n",
              "</div>"
            ],
            "text/plain": [
              "    RowID    Distillery  Body  ...   Latitude   Longitude     Region\n",
              "81     82     Tobermory     1  ...     150450      755070    Islands\n",
              "82     83       Tomatin     2  ...     279120      829630  Highlands\n",
              "83     84     Tomintoul     0  ...     315100      825560   Speyside\n",
              "84     85       Tormore     2  ...     315180      834960   Speyside\n",
              "85     86  Tullibardine     2  ...     289690      708850  Highlands\n",
              "\n",
              "[5 rows x 18 columns]"
            ]
          },
          "metadata": {
            "tags": []
          },
          "execution_count": 19
        }
      ]
    },
    {
      "cell_type": "code",
      "metadata": {
        "id": "4gCpwG2QrbTY",
        "colab_type": "code",
        "colab": {
          "base_uri": "https://localhost:8080/",
          "height": 197
        },
        "outputId": "fa5c6124-b37b-4fef-a8b5-dbaed3aff7e0"
      },
      "source": [
        "whisky.iloc[45:50, 3:14]"
      ],
      "execution_count": 20,
      "outputs": [
        {
          "output_type": "execute_result",
          "data": {
            "text/html": [
              "<div>\n",
              "<style scoped>\n",
              "    .dataframe tbody tr th:only-of-type {\n",
              "        vertical-align: middle;\n",
              "    }\n",
              "\n",
              "    .dataframe tbody tr th {\n",
              "        vertical-align: top;\n",
              "    }\n",
              "\n",
              "    .dataframe thead th {\n",
              "        text-align: right;\n",
              "    }\n",
              "</style>\n",
              "<table border=\"1\" class=\"dataframe\">\n",
              "  <thead>\n",
              "    <tr style=\"text-align: right;\">\n",
              "      <th></th>\n",
              "      <th>Sweetness</th>\n",
              "      <th>Smoky</th>\n",
              "      <th>Medicinal</th>\n",
              "      <th>Tobacco</th>\n",
              "      <th>Honey</th>\n",
              "      <th>Spicy</th>\n",
              "      <th>Winey</th>\n",
              "      <th>Nutty</th>\n",
              "      <th>Malty</th>\n",
              "      <th>Fruity</th>\n",
              "      <th>Floral</th>\n",
              "    </tr>\n",
              "  </thead>\n",
              "  <tbody>\n",
              "    <tr>\n",
              "      <th>45</th>\n",
              "      <td>3</td>\n",
              "      <td>1</td>\n",
              "      <td>0</td>\n",
              "      <td>0</td>\n",
              "      <td>0</td>\n",
              "      <td>0</td>\n",
              "      <td>0</td>\n",
              "      <td>0</td>\n",
              "      <td>2</td>\n",
              "      <td>2</td>\n",
              "      <td>2</td>\n",
              "    </tr>\n",
              "    <tr>\n",
              "      <th>46</th>\n",
              "      <td>2</td>\n",
              "      <td>0</td>\n",
              "      <td>0</td>\n",
              "      <td>0</td>\n",
              "      <td>1</td>\n",
              "      <td>1</td>\n",
              "      <td>1</td>\n",
              "      <td>2</td>\n",
              "      <td>2</td>\n",
              "      <td>3</td>\n",
              "      <td>2</td>\n",
              "    </tr>\n",
              "    <tr>\n",
              "      <th>47</th>\n",
              "      <td>2</td>\n",
              "      <td>1</td>\n",
              "      <td>0</td>\n",
              "      <td>0</td>\n",
              "      <td>1</td>\n",
              "      <td>2</td>\n",
              "      <td>0</td>\n",
              "      <td>0</td>\n",
              "      <td>2</td>\n",
              "      <td>2</td>\n",
              "      <td>2</td>\n",
              "    </tr>\n",
              "    <tr>\n",
              "      <th>48</th>\n",
              "      <td>3</td>\n",
              "      <td>1</td>\n",
              "      <td>0</td>\n",
              "      <td>0</td>\n",
              "      <td>2</td>\n",
              "      <td>2</td>\n",
              "      <td>2</td>\n",
              "      <td>1</td>\n",
              "      <td>2</td>\n",
              "      <td>2</td>\n",
              "      <td>3</td>\n",
              "    </tr>\n",
              "    <tr>\n",
              "      <th>49</th>\n",
              "      <td>2</td>\n",
              "      <td>1</td>\n",
              "      <td>0</td>\n",
              "      <td>0</td>\n",
              "      <td>1</td>\n",
              "      <td>2</td>\n",
              "      <td>0</td>\n",
              "      <td>1</td>\n",
              "      <td>2</td>\n",
              "      <td>2</td>\n",
              "      <td>2</td>\n",
              "    </tr>\n",
              "  </tbody>\n",
              "</table>\n",
              "</div>"
            ],
            "text/plain": [
              "    Sweetness  Smoky  Medicinal  Tobacco  ...  Nutty  Malty  Fruity  Floral\n",
              "45          3      1          0        0  ...      0      2       2       2\n",
              "46          2      0          0        0  ...      2      2       3       2\n",
              "47          2      1          0        0  ...      0      2       2       2\n",
              "48          3      1          0        0  ...      1      2       2       3\n",
              "49          2      1          0        0  ...      1      2       2       2\n",
              "\n",
              "[5 rows x 11 columns]"
            ]
          },
          "metadata": {
            "tags": []
          },
          "execution_count": 20
        }
      ]
    },
    {
      "cell_type": "code",
      "metadata": {
        "id": "SgkMnwdjrkYY",
        "colab_type": "code",
        "colab": {}
      },
      "source": [
        "flavors = whisky.iloc[:, 2:14]"
      ],
      "execution_count": 0,
      "outputs": []
    },
    {
      "cell_type": "code",
      "metadata": {
        "id": "bFK3Umi_sodH",
        "colab_type": "code",
        "colab": {
          "base_uri": "https://localhost:8080/",
          "height": 406
        },
        "outputId": "e0f25804-7286-4564-afe6-c48c91613eaa"
      },
      "source": [
        "flavors"
      ],
      "execution_count": 22,
      "outputs": [
        {
          "output_type": "execute_result",
          "data": {
            "text/html": [
              "<div>\n",
              "<style scoped>\n",
              "    .dataframe tbody tr th:only-of-type {\n",
              "        vertical-align: middle;\n",
              "    }\n",
              "\n",
              "    .dataframe tbody tr th {\n",
              "        vertical-align: top;\n",
              "    }\n",
              "\n",
              "    .dataframe thead th {\n",
              "        text-align: right;\n",
              "    }\n",
              "</style>\n",
              "<table border=\"1\" class=\"dataframe\">\n",
              "  <thead>\n",
              "    <tr style=\"text-align: right;\">\n",
              "      <th></th>\n",
              "      <th>Body</th>\n",
              "      <th>Sweetness</th>\n",
              "      <th>Smoky</th>\n",
              "      <th>Medicinal</th>\n",
              "      <th>Tobacco</th>\n",
              "      <th>Honey</th>\n",
              "      <th>Spicy</th>\n",
              "      <th>Winey</th>\n",
              "      <th>Nutty</th>\n",
              "      <th>Malty</th>\n",
              "      <th>Fruity</th>\n",
              "      <th>Floral</th>\n",
              "    </tr>\n",
              "  </thead>\n",
              "  <tbody>\n",
              "    <tr>\n",
              "      <th>0</th>\n",
              "      <td>2</td>\n",
              "      <td>2</td>\n",
              "      <td>2</td>\n",
              "      <td>0</td>\n",
              "      <td>0</td>\n",
              "      <td>2</td>\n",
              "      <td>1</td>\n",
              "      <td>2</td>\n",
              "      <td>2</td>\n",
              "      <td>2</td>\n",
              "      <td>2</td>\n",
              "      <td>2</td>\n",
              "    </tr>\n",
              "    <tr>\n",
              "      <th>1</th>\n",
              "      <td>3</td>\n",
              "      <td>3</td>\n",
              "      <td>1</td>\n",
              "      <td>0</td>\n",
              "      <td>0</td>\n",
              "      <td>4</td>\n",
              "      <td>3</td>\n",
              "      <td>2</td>\n",
              "      <td>2</td>\n",
              "      <td>3</td>\n",
              "      <td>3</td>\n",
              "      <td>2</td>\n",
              "    </tr>\n",
              "    <tr>\n",
              "      <th>2</th>\n",
              "      <td>1</td>\n",
              "      <td>3</td>\n",
              "      <td>2</td>\n",
              "      <td>0</td>\n",
              "      <td>0</td>\n",
              "      <td>2</td>\n",
              "      <td>0</td>\n",
              "      <td>0</td>\n",
              "      <td>2</td>\n",
              "      <td>2</td>\n",
              "      <td>3</td>\n",
              "      <td>2</td>\n",
              "    </tr>\n",
              "    <tr>\n",
              "      <th>3</th>\n",
              "      <td>4</td>\n",
              "      <td>1</td>\n",
              "      <td>4</td>\n",
              "      <td>4</td>\n",
              "      <td>0</td>\n",
              "      <td>0</td>\n",
              "      <td>2</td>\n",
              "      <td>0</td>\n",
              "      <td>1</td>\n",
              "      <td>2</td>\n",
              "      <td>1</td>\n",
              "      <td>0</td>\n",
              "    </tr>\n",
              "    <tr>\n",
              "      <th>4</th>\n",
              "      <td>2</td>\n",
              "      <td>2</td>\n",
              "      <td>2</td>\n",
              "      <td>0</td>\n",
              "      <td>0</td>\n",
              "      <td>1</td>\n",
              "      <td>1</td>\n",
              "      <td>1</td>\n",
              "      <td>2</td>\n",
              "      <td>3</td>\n",
              "      <td>1</td>\n",
              "      <td>1</td>\n",
              "    </tr>\n",
              "    <tr>\n",
              "      <th>...</th>\n",
              "      <td>...</td>\n",
              "      <td>...</td>\n",
              "      <td>...</td>\n",
              "      <td>...</td>\n",
              "      <td>...</td>\n",
              "      <td>...</td>\n",
              "      <td>...</td>\n",
              "      <td>...</td>\n",
              "      <td>...</td>\n",
              "      <td>...</td>\n",
              "      <td>...</td>\n",
              "      <td>...</td>\n",
              "    </tr>\n",
              "    <tr>\n",
              "      <th>81</th>\n",
              "      <td>1</td>\n",
              "      <td>1</td>\n",
              "      <td>1</td>\n",
              "      <td>0</td>\n",
              "      <td>0</td>\n",
              "      <td>1</td>\n",
              "      <td>0</td>\n",
              "      <td>0</td>\n",
              "      <td>1</td>\n",
              "      <td>2</td>\n",
              "      <td>2</td>\n",
              "      <td>2</td>\n",
              "    </tr>\n",
              "    <tr>\n",
              "      <th>82</th>\n",
              "      <td>2</td>\n",
              "      <td>3</td>\n",
              "      <td>2</td>\n",
              "      <td>0</td>\n",
              "      <td>0</td>\n",
              "      <td>2</td>\n",
              "      <td>2</td>\n",
              "      <td>1</td>\n",
              "      <td>1</td>\n",
              "      <td>2</td>\n",
              "      <td>0</td>\n",
              "      <td>1</td>\n",
              "    </tr>\n",
              "    <tr>\n",
              "      <th>83</th>\n",
              "      <td>0</td>\n",
              "      <td>3</td>\n",
              "      <td>1</td>\n",
              "      <td>0</td>\n",
              "      <td>0</td>\n",
              "      <td>2</td>\n",
              "      <td>2</td>\n",
              "      <td>1</td>\n",
              "      <td>1</td>\n",
              "      <td>2</td>\n",
              "      <td>1</td>\n",
              "      <td>2</td>\n",
              "    </tr>\n",
              "    <tr>\n",
              "      <th>84</th>\n",
              "      <td>2</td>\n",
              "      <td>2</td>\n",
              "      <td>1</td>\n",
              "      <td>0</td>\n",
              "      <td>0</td>\n",
              "      <td>1</td>\n",
              "      <td>0</td>\n",
              "      <td>1</td>\n",
              "      <td>2</td>\n",
              "      <td>1</td>\n",
              "      <td>0</td>\n",
              "      <td>0</td>\n",
              "    </tr>\n",
              "    <tr>\n",
              "      <th>85</th>\n",
              "      <td>2</td>\n",
              "      <td>3</td>\n",
              "      <td>0</td>\n",
              "      <td>0</td>\n",
              "      <td>1</td>\n",
              "      <td>0</td>\n",
              "      <td>2</td>\n",
              "      <td>1</td>\n",
              "      <td>1</td>\n",
              "      <td>2</td>\n",
              "      <td>2</td>\n",
              "      <td>1</td>\n",
              "    </tr>\n",
              "  </tbody>\n",
              "</table>\n",
              "<p>86 rows × 12 columns</p>\n",
              "</div>"
            ],
            "text/plain": [
              "    Body  Sweetness  Smoky  Medicinal  ...  Nutty  Malty  Fruity  Floral\n",
              "0      2          2      2          0  ...      2      2       2       2\n",
              "1      3          3      1          0  ...      2      3       3       2\n",
              "2      1          3      2          0  ...      2      2       3       2\n",
              "3      4          1      4          4  ...      1      2       1       0\n",
              "4      2          2      2          0  ...      2      3       1       1\n",
              "..   ...        ...    ...        ...  ...    ...    ...     ...     ...\n",
              "81     1          1      1          0  ...      1      2       2       2\n",
              "82     2          3      2          0  ...      1      2       0       1\n",
              "83     0          3      1          0  ...      1      2       1       2\n",
              "84     2          2      1          0  ...      2      1       0       0\n",
              "85     2          3      0          0  ...      1      2       2       1\n",
              "\n",
              "[86 rows x 12 columns]"
            ]
          },
          "metadata": {
            "tags": []
          },
          "execution_count": 22
        }
      ]
    },
    {
      "cell_type": "code",
      "metadata": {
        "id": "X-bNyAE-sp0q",
        "colab_type": "code",
        "colab": {}
      },
      "source": [
        "corr_flavors = pd.DataFrame.corr(flavors)"
      ],
      "execution_count": 0,
      "outputs": []
    },
    {
      "cell_type": "code",
      "metadata": {
        "id": "QhLoHJPGt_EZ",
        "colab_type": "code",
        "colab": {
          "base_uri": "https://localhost:8080/",
          "height": 407
        },
        "outputId": "89db8906-1e4f-4911-eddd-49ba63b02800"
      },
      "source": [
        "corr_flavors"
      ],
      "execution_count": 24,
      "outputs": [
        {
          "output_type": "execute_result",
          "data": {
            "text/html": [
              "<div>\n",
              "<style scoped>\n",
              "    .dataframe tbody tr th:only-of-type {\n",
              "        vertical-align: middle;\n",
              "    }\n",
              "\n",
              "    .dataframe tbody tr th {\n",
              "        vertical-align: top;\n",
              "    }\n",
              "\n",
              "    .dataframe thead th {\n",
              "        text-align: right;\n",
              "    }\n",
              "</style>\n",
              "<table border=\"1\" class=\"dataframe\">\n",
              "  <thead>\n",
              "    <tr style=\"text-align: right;\">\n",
              "      <th></th>\n",
              "      <th>Body</th>\n",
              "      <th>Sweetness</th>\n",
              "      <th>Smoky</th>\n",
              "      <th>Medicinal</th>\n",
              "      <th>Tobacco</th>\n",
              "      <th>Honey</th>\n",
              "      <th>Spicy</th>\n",
              "      <th>Winey</th>\n",
              "      <th>Nutty</th>\n",
              "      <th>Malty</th>\n",
              "      <th>Fruity</th>\n",
              "      <th>Floral</th>\n",
              "    </tr>\n",
              "  </thead>\n",
              "  <tbody>\n",
              "    <tr>\n",
              "      <th>Body</th>\n",
              "      <td>1.000000</td>\n",
              "      <td>-0.136518</td>\n",
              "      <td>0.524032</td>\n",
              "      <td>0.354050</td>\n",
              "      <td>0.168718</td>\n",
              "      <td>0.082031</td>\n",
              "      <td>0.188500</td>\n",
              "      <td>0.408576</td>\n",
              "      <td>0.126323</td>\n",
              "      <td>-0.116859</td>\n",
              "      <td>-0.013205</td>\n",
              "      <td>-0.461203</td>\n",
              "    </tr>\n",
              "    <tr>\n",
              "      <th>Sweetness</th>\n",
              "      <td>-0.136518</td>\n",
              "      <td>1.000000</td>\n",
              "      <td>-0.405897</td>\n",
              "      <td>-0.392017</td>\n",
              "      <td>-0.147871</td>\n",
              "      <td>0.132558</td>\n",
              "      <td>-0.054200</td>\n",
              "      <td>0.115727</td>\n",
              "      <td>-0.032493</td>\n",
              "      <td>-0.001516</td>\n",
              "      <td>0.019820</td>\n",
              "      <td>0.144987</td>\n",
              "    </tr>\n",
              "    <tr>\n",
              "      <th>Smoky</th>\n",
              "      <td>0.524032</td>\n",
              "      <td>-0.405897</td>\n",
              "      <td>1.000000</td>\n",
              "      <td>0.686071</td>\n",
              "      <td>0.365501</td>\n",
              "      <td>-0.195318</td>\n",
              "      <td>0.231745</td>\n",
              "      <td>-0.028190</td>\n",
              "      <td>-0.023132</td>\n",
              "      <td>-0.192875</td>\n",
              "      <td>-0.312970</td>\n",
              "      <td>-0.431663</td>\n",
              "    </tr>\n",
              "    <tr>\n",
              "      <th>Medicinal</th>\n",
              "      <td>0.354050</td>\n",
              "      <td>-0.392017</td>\n",
              "      <td>0.686071</td>\n",
              "      <td>1.000000</td>\n",
              "      <td>0.425106</td>\n",
              "      <td>-0.396629</td>\n",
              "      <td>0.044903</td>\n",
              "      <td>-0.202651</td>\n",
              "      <td>-0.113671</td>\n",
              "      <td>-0.258959</td>\n",
              "      <td>-0.330975</td>\n",
              "      <td>-0.511323</td>\n",
              "    </tr>\n",
              "    <tr>\n",
              "      <th>Tobacco</th>\n",
              "      <td>0.168718</td>\n",
              "      <td>-0.147871</td>\n",
              "      <td>0.365501</td>\n",
              "      <td>0.425106</td>\n",
              "      <td>1.000000</td>\n",
              "      <td>-0.275490</td>\n",
              "      <td>0.054068</td>\n",
              "      <td>0.009097</td>\n",
              "      <td>-0.117717</td>\n",
              "      <td>-0.059347</td>\n",
              "      <td>-0.235145</td>\n",
              "      <td>-0.212375</td>\n",
              "    </tr>\n",
              "    <tr>\n",
              "      <th>Honey</th>\n",
              "      <td>0.082031</td>\n",
              "      <td>0.132558</td>\n",
              "      <td>-0.195318</td>\n",
              "      <td>-0.396629</td>\n",
              "      <td>-0.275490</td>\n",
              "      <td>1.000000</td>\n",
              "      <td>0.139563</td>\n",
              "      <td>0.362021</td>\n",
              "      <td>0.188492</td>\n",
              "      <td>0.310184</td>\n",
              "      <td>0.108822</td>\n",
              "      <td>0.183029</td>\n",
              "    </tr>\n",
              "    <tr>\n",
              "      <th>Spicy</th>\n",
              "      <td>0.188500</td>\n",
              "      <td>-0.054200</td>\n",
              "      <td>0.231745</td>\n",
              "      <td>0.044903</td>\n",
              "      <td>0.054068</td>\n",
              "      <td>0.139563</td>\n",
              "      <td>1.000000</td>\n",
              "      <td>0.092704</td>\n",
              "      <td>-0.042856</td>\n",
              "      <td>0.036303</td>\n",
              "      <td>0.144714</td>\n",
              "      <td>0.034663</td>\n",
              "    </tr>\n",
              "    <tr>\n",
              "      <th>Winey</th>\n",
              "      <td>0.408576</td>\n",
              "      <td>0.115727</td>\n",
              "      <td>-0.028190</td>\n",
              "      <td>-0.202651</td>\n",
              "      <td>0.009097</td>\n",
              "      <td>0.362021</td>\n",
              "      <td>0.092704</td>\n",
              "      <td>1.000000</td>\n",
              "      <td>0.198467</td>\n",
              "      <td>0.112368</td>\n",
              "      <td>0.090694</td>\n",
              "      <td>-0.126932</td>\n",
              "    </tr>\n",
              "    <tr>\n",
              "      <th>Nutty</th>\n",
              "      <td>0.126323</td>\n",
              "      <td>-0.032493</td>\n",
              "      <td>-0.023132</td>\n",
              "      <td>-0.113671</td>\n",
              "      <td>-0.117717</td>\n",
              "      <td>0.188492</td>\n",
              "      <td>-0.042856</td>\n",
              "      <td>0.198467</td>\n",
              "      <td>1.000000</td>\n",
              "      <td>0.066157</td>\n",
              "      <td>0.071765</td>\n",
              "      <td>0.018302</td>\n",
              "    </tr>\n",
              "    <tr>\n",
              "      <th>Malty</th>\n",
              "      <td>-0.116859</td>\n",
              "      <td>-0.001516</td>\n",
              "      <td>-0.192875</td>\n",
              "      <td>-0.258959</td>\n",
              "      <td>-0.059347</td>\n",
              "      <td>0.310184</td>\n",
              "      <td>0.036303</td>\n",
              "      <td>0.112368</td>\n",
              "      <td>0.066157</td>\n",
              "      <td>1.000000</td>\n",
              "      <td>0.207288</td>\n",
              "      <td>0.106309</td>\n",
              "    </tr>\n",
              "    <tr>\n",
              "      <th>Fruity</th>\n",
              "      <td>-0.013205</td>\n",
              "      <td>0.019820</td>\n",
              "      <td>-0.312970</td>\n",
              "      <td>-0.330975</td>\n",
              "      <td>-0.235145</td>\n",
              "      <td>0.108822</td>\n",
              "      <td>0.144714</td>\n",
              "      <td>0.090694</td>\n",
              "      <td>0.071765</td>\n",
              "      <td>0.207288</td>\n",
              "      <td>1.000000</td>\n",
              "      <td>0.262336</td>\n",
              "    </tr>\n",
              "    <tr>\n",
              "      <th>Floral</th>\n",
              "      <td>-0.461203</td>\n",
              "      <td>0.144987</td>\n",
              "      <td>-0.431663</td>\n",
              "      <td>-0.511323</td>\n",
              "      <td>-0.212375</td>\n",
              "      <td>0.183029</td>\n",
              "      <td>0.034663</td>\n",
              "      <td>-0.126932</td>\n",
              "      <td>0.018302</td>\n",
              "      <td>0.106309</td>\n",
              "      <td>0.262336</td>\n",
              "      <td>1.000000</td>\n",
              "    </tr>\n",
              "  </tbody>\n",
              "</table>\n",
              "</div>"
            ],
            "text/plain": [
              "               Body  Sweetness     Smoky  ...     Malty    Fruity    Floral\n",
              "Body       1.000000  -0.136518  0.524032  ... -0.116859 -0.013205 -0.461203\n",
              "Sweetness -0.136518   1.000000 -0.405897  ... -0.001516  0.019820  0.144987\n",
              "Smoky      0.524032  -0.405897  1.000000  ... -0.192875 -0.312970 -0.431663\n",
              "Medicinal  0.354050  -0.392017  0.686071  ... -0.258959 -0.330975 -0.511323\n",
              "Tobacco    0.168718  -0.147871  0.365501  ... -0.059347 -0.235145 -0.212375\n",
              "Honey      0.082031   0.132558 -0.195318  ...  0.310184  0.108822  0.183029\n",
              "Spicy      0.188500  -0.054200  0.231745  ...  0.036303  0.144714  0.034663\n",
              "Winey      0.408576   0.115727 -0.028190  ...  0.112368  0.090694 -0.126932\n",
              "Nutty      0.126323  -0.032493 -0.023132  ...  0.066157  0.071765  0.018302\n",
              "Malty     -0.116859  -0.001516 -0.192875  ...  1.000000  0.207288  0.106309\n",
              "Fruity    -0.013205   0.019820 -0.312970  ...  0.207288  1.000000  0.262336\n",
              "Floral    -0.461203   0.144987 -0.431663  ...  0.106309  0.262336  1.000000\n",
              "\n",
              "[12 rows x 12 columns]"
            ]
          },
          "metadata": {
            "tags": []
          },
          "execution_count": 24
        }
      ]
    },
    {
      "cell_type": "code",
      "metadata": {
        "id": "SYNCexQVuAaQ",
        "colab_type": "code",
        "colab": {}
      },
      "source": [
        "import matplotlib.pyplot as plt"
      ],
      "execution_count": 0,
      "outputs": []
    },
    {
      "cell_type": "code",
      "metadata": {
        "id": "_B2fzOgCuHEH",
        "colab_type": "code",
        "colab": {
          "base_uri": "https://localhost:8080/",
          "height": 432
        },
        "outputId": "0559585f-9102-4ccd-8ff5-4fac4a4a7da6"
      },
      "source": [
        "plt.figure(figsize=(7,7))\n",
        "plt.pcolor(corr_flavors)\n",
        "plt.colorbar()\n",
        "plt.savefig(\"corr_flavors.pdf\")"
      ],
      "execution_count": 26,
      "outputs": [
        {
          "output_type": "display_data",
          "data": {
            "image/png": "[encoded data removed]",
            "text/plain": [
              "<Figure size 504x504 with 2 Axes>"
            ]
          },
          "metadata": {
            "tags": [],
            "needs_background": "light"
          }
        }
      ]
    },
    {
      "cell_type": "code",
      "metadata": {
        "id": "stcMt81fujpK",
        "colab_type": "code",
        "colab": {
          "base_uri": "https://localhost:8080/",
          "height": 432
        },
        "outputId": "e2086a9c-7877-4ba0-892e-d15c99e77c08"
      },
      "source": [
        "corr_whisky = pd.DataFrame.corr(flavors.transpose())\n",
        "plt.figure(figsize=(7,7))\n",
        "plt.pcolor(corr_whisky)\n",
        "plt.colorbar()\n",
        "plt.axis(\"tight\")\n",
        "plt.savefig(\"corr_whisky.pdf\")"
      ],
      "execution_count": 27,
      "outputs": [
        {
          "output_type": "display_data",
          "data": {
            "image/png": "[encoded data removed]",
            "text/plain": [
              "<Figure size 504x504 with 2 Axes>"
            ]
          },
          "metadata": {
            "tags": [],
            "needs_background": "light"
          }
        }
      ]
    },
    {
      "cell_type": "code",
      "metadata": {
        "id": "VSXBoN6LxG2n",
        "colab_type": "code",
        "colab": {}
      },
      "source": [
        "from sklearn.cluster.bicluster import SpectralCoclustering "
      ],
      "execution_count": 0,
      "outputs": []
    },
    {
      "cell_type": "code",
      "metadata": {
        "id": "3wqfLLaM3zuQ",
        "colab_type": "code",
        "colab": {}
      },
      "source": [
        "model = SpectralCoclustering(n_clusters= 6, random_state= 0)"
      ],
      "execution_count": 0,
      "outputs": []
    },
    {
      "cell_type": "code",
      "metadata": {
        "id": "L6i7XB-d36jX",
        "colab_type": "code",
        "colab": {
          "base_uri": "https://localhost:8080/",
          "height": 70
        },
        "outputId": "2c57084b-ec95-4366-eaca-3dae18f0a492"
      },
      "source": [
        "model.fit(corr_whisky)"
      ],
      "execution_count": 30,
      "outputs": [
        {
          "output_type": "execute_result",
          "data": {
            "text/plain": [
              "SpectralCoclustering(init='k-means++', mini_batch=False, n_clusters=6,\n",
              "                     n_init=10, n_jobs=None, n_svd_vecs=None, random_state=0,\n",
              "                     svd_method='randomized')"
            ]
          },
          "metadata": {
            "tags": []
          },
          "execution_count": 30
        }
      ]
    },
    {
      "cell_type": "code",
      "metadata": {
        "id": "SvTlXJDr37xl",
        "colab_type": "code",
        "colab": {
          "base_uri": "https://localhost:8080/",
          "height": 1000
        },
        "outputId": "e507966c-efc5-4bfc-e43b-72835f4b3427"
      },
      "source": [
        "model.rows_"
      ],
      "execution_count": 31,
      "outputs": [
        {
          "output_type": "execute_result",
          "data": {
            "text/plain": [
              "array([[False, False, False, False, False, False, False, False, False,\n",
              "        False, False, False, False, False, False, False, False, False,\n",
              "        False,  True, False, False, False, False, False, False, False,\n",
              "        False, False, False, False, False, False, False, False, False,\n",
              "        False, False, False,  True, False, False, False, False, False,\n",
              "        False, False, False, False, False, False, False, False, False,\n",
              "        False,  True, False, False, False, False, False, False, False,\n",
              "        False, False, False,  True, False,  True, False, False, False,\n",
              "        False, False, False, False, False, False, False, False, False,\n",
              "        False, False, False, False, False],\n",
              "       [False, False, False, False, False,  True, False, False, False,\n",
              "        False, False,  True, False,  True, False, False,  True, False,\n",
              "         True, False, False, False, False, False, False, False, False,\n",
              "        False, False, False, False, False,  True,  True,  True, False,\n",
              "        False, False,  True, False,  True, False, False, False, False,\n",
              "         True, False,  True,  True, False, False, False, False, False,\n",
              "         True, False, False, False, False,  True, False, False, False,\n",
              "        False, False, False, False, False, False,  True, False, False,\n",
              "         True, False, False, False, False, False, False, False,  True,\n",
              "        False, False,  True, False,  True],\n",
              "       [ True, False, False, False,  True, False, False, False,  True,\n",
              "        False, False, False,  True, False,  True,  True, False,  True,\n",
              "        False, False, False, False, False, False, False, False, False,\n",
              "        False, False, False, False,  True, False, False, False,  True,\n",
              "        False, False, False, False, False, False, False, False, False,\n",
              "        False,  True, False, False, False, False, False, False, False,\n",
              "        False, False,  True, False, False, False, False,  True, False,\n",
              "         True,  True, False, False,  True, False, False, False,  True,\n",
              "        False,  True, False,  True, False, False,  True, False, False,\n",
              "        False, False, False, False, False],\n",
              "       [False, False, False,  True, False, False, False, False, False,\n",
              "        False, False, False, False, False, False, False, False, False,\n",
              "        False, False, False,  True, False,  True, False, False, False,\n",
              "        False, False, False, False, False, False, False, False, False,\n",
              "        False, False, False, False, False, False, False, False, False,\n",
              "        False, False, False, False, False, False, False, False, False,\n",
              "        False, False, False,  True,  True, False, False, False, False,\n",
              "        False, False, False, False, False, False, False, False, False,\n",
              "        False, False, False, False, False,  True, False, False, False,\n",
              "        False, False, False, False, False],\n",
              "       [False,  True, False, False, False, False, False,  True, False,\n",
              "        False,  True, False, False, False, False, False, False, False,\n",
              "        False, False, False, False, False, False, False, False,  True,\n",
              "         True, False,  True, False, False, False, False, False, False,\n",
              "         True, False, False, False, False, False,  True,  True,  True,\n",
              "        False, False, False, False, False, False,  True,  True,  True,\n",
              "        False, False, False, False, False, False, False, False,  True,\n",
              "        False, False,  True, False, False, False, False,  True, False,\n",
              "        False, False,  True, False, False, False, False, False, False,\n",
              "        False,  True, False,  True, False],\n",
              "       [False, False,  True, False, False, False,  True, False, False,\n",
              "         True, False, False, False, False, False, False, False, False,\n",
              "        False, False,  True, False,  True, False,  True,  True, False,\n",
              "        False,  True, False,  True, False, False, False, False, False,\n",
              "        False,  True, False, False, False,  True, False, False, False,\n",
              "        False, False, False, False,  True,  True, False, False, False,\n",
              "        False, False, False, False, False, False,  True, False, False,\n",
              "        False, False, False, False, False, False, False, False, False,\n",
              "        False, False, False, False,  True, False, False,  True, False,\n",
              "         True, False, False, False, False]])"
            ]
          },
          "metadata": {
            "tags": []
          },
          "execution_count": 31
        }
      ]
    },
    {
      "cell_type": "code",
      "metadata": {
        "id": "1txO2OZN4VLm",
        "colab_type": "code",
        "colab": {
          "base_uri": "https://localhost:8080/",
          "height": 34
        },
        "outputId": "a2515afb-a647-4ea4-9411-8de1b0201a15"
      },
      "source": [
        "np.sum(model.rows_, axis= 1)"
      ],
      "execution_count": 32,
      "outputs": [
        {
          "output_type": "execute_result",
          "data": {
            "text/plain": [
              "array([ 5, 20, 19,  6, 19, 17])"
            ]
          },
          "metadata": {
            "tags": []
          },
          "execution_count": 32
        }
      ]
    },
    {
      "cell_type": "code",
      "metadata": {
        "id": "BtetylKL4e9n",
        "colab_type": "code",
        "colab": {
          "base_uri": "https://localhost:8080/",
          "height": 87
        },
        "outputId": "4ac9c4c6-50fa-4f8c-ecce-571bbbc293b0"
      },
      "source": [
        "np.sum(model.rows_, axis=0)"
      ],
      "execution_count": 33,
      "outputs": [
        {
          "output_type": "execute_result",
          "data": {
            "text/plain": [
              "array([1, 1, 1, 1, 1, 1, 1, 1, 1, 1, 1, 1, 1, 1, 1, 1, 1, 1, 1, 1, 1, 1,\n",
              "       1, 1, 1, 1, 1, 1, 1, 1, 1, 1, 1, 1, 1, 1, 1, 1, 1, 1, 1, 1, 1, 1,\n",
              "       1, 1, 1, 1, 1, 1, 1, 1, 1, 1, 1, 1, 1, 1, 1, 1, 1, 1, 1, 1, 1, 1,\n",
              "       1, 1, 1, 1, 1, 1, 1, 1, 1, 1, 1, 1, 1, 1, 1, 1, 1, 1, 1, 1])"
            ]
          },
          "metadata": {
            "tags": []
          },
          "execution_count": 33
        }
      ]
    },
    {
      "cell_type": "code",
      "metadata": {
        "id": "1RlLwbzR4hO8",
        "colab_type": "code",
        "colab": {
          "base_uri": "https://localhost:8080/",
          "height": 105
        },
        "outputId": "c2e92ab0-af4d-4e14-a5f2-3d71172a77bc"
      },
      "source": [
        "model.row_labels_"
      ],
      "execution_count": 34,
      "outputs": [
        {
          "output_type": "execute_result",
          "data": {
            "text/plain": [
              "array([2, 4, 5, 3, 2, 1, 5, 4, 2, 5, 4, 1, 2, 1, 2, 2, 1, 2, 1, 0, 5, 3,\n",
              "       5, 3, 5, 5, 4, 4, 5, 4, 5, 2, 1, 1, 1, 2, 4, 5, 1, 0, 1, 5, 4, 4,\n",
              "       4, 1, 2, 1, 1, 5, 5, 4, 4, 4, 1, 0, 2, 3, 3, 1, 5, 2, 4, 2, 2, 4,\n",
              "       0, 2, 0, 1, 4, 2, 1, 2, 4, 2, 5, 3, 2, 5, 1, 5, 4, 1, 4, 1],\n",
              "      dtype=int32)"
            ]
          },
          "metadata": {
            "tags": []
          },
          "execution_count": 34
        }
      ]
    },
    {
      "cell_type": "code",
      "metadata": {
        "id": "eSxDzJJX4n5c",
        "colab_type": "code",
        "colab": {}
      },
      "source": [
        "whisky['Group']= pd.Series(model.row_labels_, index= whisky.index)"
      ],
      "execution_count": 0,
      "outputs": []
    },
    {
      "cell_type": "code",
      "metadata": {
        "id": "r_Dm5_tO6VxO",
        "colab_type": "code",
        "colab": {}
      },
      "source": [
        "whisky= whisky.iloc[np.argsort(model.row_labels_)]"
      ],
      "execution_count": 0,
      "outputs": []
    },
    {
      "cell_type": "code",
      "metadata": {
        "id": "4jiwLjdG6cFY",
        "colab_type": "code",
        "colab": {}
      },
      "source": [
        "whisky= whisky.reset_index(drop= True)"
      ],
      "execution_count": 0,
      "outputs": []
    },
    {
      "cell_type": "code",
      "metadata": {
        "id": "3pRcMk6e7DLQ",
        "colab_type": "code",
        "colab": {}
      },
      "source": [
        "correlations= pd.DataFrame.corr(whisky.iloc[:,2:14].transpose())\n",
        "correlations= np.array(correlations)"
      ],
      "execution_count": 0,
      "outputs": []
    },
    {
      "cell_type": "code",
      "metadata": {
        "id": "kyVV0nm36jpv",
        "colab_type": "code",
        "colab": {
          "base_uri": "https://localhost:8080/",
          "height": 444
        },
        "outputId": "691de5a1-7864-4dd8-ff4d-3e47bfafedad"
      },
      "source": [
        "plt.figure(figsize= (14,7))\n",
        "plt.subplot(121)\n",
        "plt.pcolor(corr_whisky)\n",
        "plt.title(\"Original\")\n",
        "plt.axis(\"tight\")\n",
        "plt.subplot(122)\n",
        "plt.pcolor(correlations)\n",
        "plt.title(\"Rearranged\")\n",
        "plt.axis(\"tight\")\n",
        "plt.savefig(\"correlations.pdf\")"
      ],
      "execution_count": 39,
      "outputs": [
        {
          "output_type": "display_data",
          "data": {
            "image/png": "[encoded data removed]",
            "text/plain": [
              "<Figure size 1008x504 with 2 Axes>"
            ]
          },
          "metadata": {
            "tags": [],
            "needs_background": "light"
          }
        }
      ]
    },
    {
      "cell_type": "code",
      "metadata": {
        "id": "FDJzrVDx7VMt",
        "colab_type": "code",
        "colab": {}
      },
      "source": [
        ""
      ],
      "execution_count": 0,
      "outputs": []
    }
  ]
}