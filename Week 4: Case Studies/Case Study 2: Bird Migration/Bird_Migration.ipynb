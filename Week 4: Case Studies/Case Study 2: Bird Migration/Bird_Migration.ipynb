{
  "nbformat": 4,
  "nbformat_minor": 0,
  "metadata": {
    "colab": {
      "name": "Bird Migration.ipynb",
      "provenance": []
    },
    "kernelspec": {
      "name": "python3",
      "display_name": "Python 3"
    }
  },
  "cells": [
    {
      "cell_type": "code",
      "metadata": {
        "id": "qyT3rSG9AGtS",
        "colab_type": "code",
        "colab": {}
      },
      "source": [
        "import pandas as pd"
      ],
      "execution_count": 0,
      "outputs": []
    },
    {
      "cell_type": "code",
      "metadata": {
        "id": "didlnE12AJ7G",
        "colab_type": "code",
        "colab": {}
      },
      "source": [
        "bird_data = pd.read_csv(\"bird_tracking.csv\", index_col = 0)"
      ],
      "execution_count": 0,
      "outputs": []
    },
    {
      "cell_type": "code",
      "metadata": {
        "id": "qjrPSHZaAmji",
        "colab_type": "code",
        "outputId": "eabf07b5-66b4-4da6-82ed-e87062a7e7b1",
        "colab": {
          "base_uri": "https://localhost:8080/",
          "height": 283
        }
      },
      "source": [
        "bird_data.info()"
      ],
      "execution_count": 10,
      "outputs": [
        {
          "output_type": "stream",
          "text": [
            "<class 'pandas.core.frame.DataFrame'>\n",
            "Int64Index: 61920 entries, 0 to 61919\n",
            "Data columns (total 8 columns):\n",
            " #   Column              Non-Null Count  Dtype  \n",
            "---  ------              --------------  -----  \n",
            " 0   altitude            61920 non-null  int64  \n",
            " 1   date_time           61920 non-null  object \n",
            " 2   device_info_serial  61920 non-null  int64  \n",
            " 3   direction           61477 non-null  float64\n",
            " 4   latitude            61920 non-null  float64\n",
            " 5   longitude           61920 non-null  float64\n",
            " 6   speed_2d            61477 non-null  float64\n",
            " 7   bird_name           61920 non-null  object \n",
            "dtypes: float64(4), int64(2), object(2)\n",
            "memory usage: 4.3+ MB\n"
          ],
          "name": "stdout"
        }
      ]
    },
    {
      "cell_type": "code",
      "metadata": {
        "id": "nHyCN22JAn7q",
        "colab_type": "code",
        "outputId": "b0fcd5f6-7526-46dd-bfe2-f58c3b86e8bb",
        "colab": {
          "base_uri": "https://localhost:8080/",
          "height": 197
        }
      },
      "source": [
        "bird_data.head()"
      ],
      "execution_count": 11,
      "outputs": [
        {
          "output_type": "execute_result",
          "data": {
            "text/html": [
              "<div>\n",
              "<style scoped>\n",
              "    .dataframe tbody tr th:only-of-type {\n",
              "        vertical-align: middle;\n",
              "    }\n",
              "\n",
              "    .dataframe tbody tr th {\n",
              "        vertical-align: top;\n",
              "    }\n",
              "\n",
              "    .dataframe thead th {\n",
              "        text-align: right;\n",
              "    }\n",
              "</style>\n",
              "<table border=\"1\" class=\"dataframe\">\n",
              "  <thead>\n",
              "    <tr style=\"text-align: right;\">\n",
              "      <th></th>\n",
              "      <th>altitude</th>\n",
              "      <th>date_time</th>\n",
              "      <th>device_info_serial</th>\n",
              "      <th>direction</th>\n",
              "      <th>latitude</th>\n",
              "      <th>longitude</th>\n",
              "      <th>speed_2d</th>\n",
              "      <th>bird_name</th>\n",
              "    </tr>\n",
              "  </thead>\n",
              "  <tbody>\n",
              "    <tr>\n",
              "      <th>0</th>\n",
              "      <td>71</td>\n",
              "      <td>2013-08-15 00:18:08+00</td>\n",
              "      <td>851</td>\n",
              "      <td>-150.469753</td>\n",
              "      <td>49.419860</td>\n",
              "      <td>2.120733</td>\n",
              "      <td>0.150000</td>\n",
              "      <td>Eric</td>\n",
              "    </tr>\n",
              "    <tr>\n",
              "      <th>1</th>\n",
              "      <td>68</td>\n",
              "      <td>2013-08-15 00:48:07+00</td>\n",
              "      <td>851</td>\n",
              "      <td>-136.151141</td>\n",
              "      <td>49.419880</td>\n",
              "      <td>2.120746</td>\n",
              "      <td>2.438360</td>\n",
              "      <td>Eric</td>\n",
              "    </tr>\n",
              "    <tr>\n",
              "      <th>2</th>\n",
              "      <td>68</td>\n",
              "      <td>2013-08-15 01:17:58+00</td>\n",
              "      <td>851</td>\n",
              "      <td>160.797477</td>\n",
              "      <td>49.420310</td>\n",
              "      <td>2.120885</td>\n",
              "      <td>0.596657</td>\n",
              "      <td>Eric</td>\n",
              "    </tr>\n",
              "    <tr>\n",
              "      <th>3</th>\n",
              "      <td>73</td>\n",
              "      <td>2013-08-15 01:47:51+00</td>\n",
              "      <td>851</td>\n",
              "      <td>32.769360</td>\n",
              "      <td>49.420359</td>\n",
              "      <td>2.120859</td>\n",
              "      <td>0.310161</td>\n",
              "      <td>Eric</td>\n",
              "    </tr>\n",
              "    <tr>\n",
              "      <th>4</th>\n",
              "      <td>69</td>\n",
              "      <td>2013-08-15 02:17:42+00</td>\n",
              "      <td>851</td>\n",
              "      <td>45.191230</td>\n",
              "      <td>49.420331</td>\n",
              "      <td>2.120887</td>\n",
              "      <td>0.193132</td>\n",
              "      <td>Eric</td>\n",
              "    </tr>\n",
              "  </tbody>\n",
              "</table>\n",
              "</div>"
            ],
            "text/plain": [
              "   altitude               date_time  ...  speed_2d  bird_name\n",
              "0        71  2013-08-15 00:18:08+00  ...  0.150000       Eric\n",
              "1        68  2013-08-15 00:48:07+00  ...  2.438360       Eric\n",
              "2        68  2013-08-15 01:17:58+00  ...  0.596657       Eric\n",
              "3        73  2013-08-15 01:47:51+00  ...  0.310161       Eric\n",
              "4        69  2013-08-15 02:17:42+00  ...  0.193132       Eric\n",
              "\n",
              "[5 rows x 8 columns]"
            ]
          },
          "metadata": {
            "tags": []
          },
          "execution_count": 11
        }
      ]
    },
    {
      "cell_type": "code",
      "metadata": {
        "id": "xrytIxTzA0gZ",
        "colab_type": "code",
        "colab": {}
      },
      "source": [
        "import matplotlib.pyplot as plt\n",
        "import numpy as np"
      ],
      "execution_count": 0,
      "outputs": []
    },
    {
      "cell_type": "code",
      "metadata": {
        "id": "YVGmTxyzEGIM",
        "colab_type": "code",
        "colab": {}
      },
      "source": [
        "ix = bird_data.bird_name == 'Eric'"
      ],
      "execution_count": 0,
      "outputs": []
    },
    {
      "cell_type": "code",
      "metadata": {
        "id": "2sOhe8_SEUoz",
        "colab_type": "code",
        "colab": {}
      },
      "source": [
        "x, y = bird_data.longitude[ix], bird_data.latitude[ix]"
      ],
      "execution_count": 0,
      "outputs": []
    },
    {
      "cell_type": "code",
      "metadata": {
        "id": "wuM9wVX2EVwv",
        "colab_type": "code",
        "outputId": "931b6f1c-ba8b-4fce-a221-0bdc4b7601d8",
        "colab": {
          "base_uri": "https://localhost:8080/",
          "height": 445
        }
      },
      "source": [
        "plt.figure(figsize= (7,7))\n",
        "plt.plot(x, y, \".\")"
      ],
      "execution_count": 15,
      "outputs": [
        {
          "output_type": "execute_result",
          "data": {
            "text/plain": [
              "[<matplotlib.lines.Line2D at 0x7f56f62e9208>]"
            ]
          },
          "metadata": {
            "tags": []
          },
          "execution_count": 15
        },
        {
          "output_type": "display_data",
          "data": {
            "image/png": "[encoded data removed]",
            "text/plain": [
              "<Figure size 504x504 with 1 Axes>"
            ]
          },
          "metadata": {
            "tags": [],
            "needs_background": "light"
          }
        }
      ]
    },
    {
      "cell_type": "code",
      "metadata": {
        "id": "YRriVTmnEm33",
        "colab_type": "code",
        "outputId": "7928d6b2-1ff5-418e-adae-f484da3e71d6",
        "colab": {
          "base_uri": "https://localhost:8080/",
          "height": 442
        }
      },
      "source": [
        "bird_names = pd.unique(bird_data.bird_name)\n",
        "plt.figure(figsize = (7,7))\n",
        "for bird_name in bird_names:\n",
        "  ix = bird_data.bird_name == bird_name\n",
        "  x, y = bird_data.longitude[ix], bird_data.latitude[ix]\n",
        "  plt.plot(x, y, \".\", label = bird_name)\n",
        "plt.xlabel(\"Longitude\")\n",
        "plt.ylabel(\"Latitude\")\n",
        "plt.legend(loc=\"lower right\")\n",
        "plt.savefig('3traj.pdf')"
      ],
      "execution_count": 16,
      "outputs": [
        {
          "output_type": "display_data",
          "data": {
            "image/png": "[encoded data removed]",
            "text/plain": [
              "<Figure size 504x504 with 1 Axes>"
            ]
          },
          "metadata": {
            "tags": [],
            "needs_background": "light"
          }
        }
      ]
    },
    {
      "cell_type": "code",
      "metadata": {
        "id": "n66pgD7XFdR1",
        "colab_type": "code",
        "outputId": "e315484e-04f6-428d-dc7c-eb8a83abcb01",
        "colab": {
          "base_uri": "https://localhost:8080/",
          "height": 335
        }
      },
      "source": [
        "ix = bird_data.bird_name == 'Eric'\n",
        "speed = bird_data.speed_2d[ix]\n",
        "plt.hist(speed);"
      ],
      "execution_count": 17,
      "outputs": [
        {
          "output_type": "stream",
          "text": [
            "/usr/local/lib/python3.6/dist-packages/numpy/lib/histograms.py:839: RuntimeWarning: invalid value encountered in greater_equal\n",
            "  keep = (tmp_a >= first_edge)\n",
            "/usr/local/lib/python3.6/dist-packages/numpy/lib/histograms.py:840: RuntimeWarning: invalid value encountered in less_equal\n",
            "  keep &= (tmp_a <= last_edge)\n"
          ],
          "name": "stderr"
        },
        {
          "output_type": "display_data",
          "data": {
            "image/png": "[encoded data removed]",
            "text/plain": [
              "<Figure size 432x288 with 1 Axes>"
            ]
          },
          "metadata": {
            "tags": [],
            "needs_background": "light"
          }
        }
      ]
    },
    {
      "cell_type": "code",
      "metadata": {
        "id": "3_lYhnTKFeQx",
        "colab_type": "code",
        "outputId": "652534fc-b944-442c-b3d4-9d2982ed4d89",
        "colab": {
          "base_uri": "https://localhost:8080/",
          "height": 34
        }
      },
      "source": [
        "np.isnan(speed).any()"
      ],
      "execution_count": 18,
      "outputs": [
        {
          "output_type": "execute_result",
          "data": {
            "text/plain": [
              "True"
            ]
          },
          "metadata": {
            "tags": []
          },
          "execution_count": 18
        }
      ]
    },
    {
      "cell_type": "code",
      "metadata": {
        "id": "R5EhMg-WOD7_",
        "colab_type": "code",
        "outputId": "56a5ec6a-6d1e-47dd-ede2-092323b74272",
        "colab": {
          "base_uri": "https://localhost:8080/",
          "height": 34
        }
      },
      "source": [
        "np.sum(np.isnan(speed))"
      ],
      "execution_count": 19,
      "outputs": [
        {
          "output_type": "execute_result",
          "data": {
            "text/plain": [
              "85"
            ]
          },
          "metadata": {
            "tags": []
          },
          "execution_count": 19
        }
      ]
    },
    {
      "cell_type": "code",
      "metadata": {
        "id": "RFob5XHBQWh3",
        "colab_type": "code",
        "colab": {}
      },
      "source": [
        "ind= np.isnan(speed)"
      ],
      "execution_count": 0,
      "outputs": []
    },
    {
      "cell_type": "code",
      "metadata": {
        "id": "QZRr3euRQsVv",
        "colab_type": "code",
        "outputId": "eda0d31b-5149-4353-95c6-c246d01e95c4",
        "colab": {
          "base_uri": "https://localhost:8080/",
          "height": 230
        }
      },
      "source": [
        "~ind"
      ],
      "execution_count": 21,
      "outputs": [
        {
          "output_type": "execute_result",
          "data": {
            "text/plain": [
              "0        True\n",
              "1        True\n",
              "2        True\n",
              "3        True\n",
              "4        True\n",
              "         ... \n",
              "19790    True\n",
              "19791    True\n",
              "19792    True\n",
              "19793    True\n",
              "19794    True\n",
              "Name: speed_2d, Length: 19795, dtype: bool"
            ]
          },
          "metadata": {
            "tags": []
          },
          "execution_count": 21
        }
      ]
    },
    {
      "cell_type": "code",
      "metadata": {
        "id": "_rdajaebQs7T",
        "colab_type": "code",
        "outputId": "c321bdf3-c263-45a6-c76e-55d99b756b6f",
        "colab": {
          "base_uri": "https://localhost:8080/",
          "height": 264
        }
      },
      "source": [
        "ix = bird_data.bird_name == 'Eric'\n",
        "speed = bird_data.speed_2d[ix]\n",
        "ind= np.isnan(speed)\n",
        "plt.hist(speed[~ind]);\n",
        "plt.savefig(\"hist.pdf\")"
      ],
      "execution_count": 22,
      "outputs": [
        {
          "output_type": "display_data",
          "data": {
            "image/png": "[encoded data removed]",
            "text/plain": [
              "<Figure size 432x288 with 1 Axes>"
            ]
          },
          "metadata": {
            "tags": [],
            "needs_background": "light"
          }
        }
      ]
    },
    {
      "cell_type": "code",
      "metadata": {
        "id": "MMjg7DJdRDUi",
        "colab_type": "code",
        "outputId": "cf51e174-ebf0-4796-ba67-e683a504fc01",
        "colab": {
          "base_uri": "https://localhost:8080/",
          "height": 278
        }
      },
      "source": [
        "plt.figure(figsize=(8,4))\n",
        "speed = bird_data.speed_2d[bird_data.bird_name == 'Eric']\n",
        "ind= np.isnan(speed)\n",
        "plt.hist(speed[~ind], bins= np.linspace(0,30,20));\n",
        "plt.xlabel(\"2D speed(m/s)\")\n",
        "plt.ylabel(\"Frequency\")\n",
        "plt.savefig(\"hist2.pdf\")"
      ],
      "execution_count": 23,
      "outputs": [
        {
          "output_type": "display_data",
          "data": {
            "image/png": "[encoded data removed]",
            "text/plain": [
              "<Figure size 576x288 with 1 Axes>"
            ]
          },
          "metadata": {
            "tags": [],
            "needs_background": "light"
          }
        }
      ]
    },
    {
      "cell_type": "code",
      "metadata": {
        "id": "NwDna0BHR0Ta",
        "colab_type": "code",
        "outputId": "bfebe7ad-7718-4153-f9b9-88c8f0742a93",
        "colab": {
          "base_uri": "https://localhost:8080/",
          "height": 278
        }
      },
      "source": [
        "bird_data.speed_2d.plot(kind = 'hist', range= [0,30])\n",
        "plt.xlabel(\"2D speed(m/s)\")\n",
        "plt.ylabel(\"Frequency\")\n",
        "plt.savefig(\"pd_hist.pdf\")"
      ],
      "execution_count": 24,
      "outputs": [
        {
          "output_type": "display_data",
          "data": {
            "image/png": "[encoded data removed]",
            "text/plain": [
              "<Figure size 432x288 with 1 Axes>"
            ]
          },
          "metadata": {
            "tags": [],
            "needs_background": "light"
          }
        }
      ]
    },
    {
      "cell_type": "code",
      "metadata": {
        "id": "_0Fje6h7SdEL",
        "colab_type": "code",
        "colab": {
          "base_uri": "https://localhost:8080/",
          "height": 70
        },
        "outputId": "a7bd9414-820e-4ca4-93c1-a33884fd9f62"
      },
      "source": [
        "bird_data.columns"
      ],
      "execution_count": 25,
      "outputs": [
        {
          "output_type": "execute_result",
          "data": {
            "text/plain": [
              "Index(['altitude', 'date_time', 'device_info_serial', 'direction', 'latitude',\n",
              "       'longitude', 'speed_2d', 'bird_name'],\n",
              "      dtype='object')"
            ]
          },
          "metadata": {
            "tags": []
          },
          "execution_count": 25
        }
      ]
    },
    {
      "cell_type": "code",
      "metadata": {
        "id": "k5bBMp9AsCfU",
        "colab_type": "code",
        "colab": {
          "base_uri": "https://localhost:8080/",
          "height": 123
        },
        "outputId": "d96f473f-6d07-4316-e1d3-6ab258be86e4"
      },
      "source": [
        "bird_data.date_time.head()"
      ],
      "execution_count": 26,
      "outputs": [
        {
          "output_type": "execute_result",
          "data": {
            "text/plain": [
              "0    2013-08-15 00:18:08+00\n",
              "1    2013-08-15 00:48:07+00\n",
              "2    2013-08-15 01:17:58+00\n",
              "3    2013-08-15 01:47:51+00\n",
              "4    2013-08-15 02:17:42+00\n",
              "Name: date_time, dtype: object"
            ]
          },
          "metadata": {
            "tags": []
          },
          "execution_count": 26
        }
      ]
    },
    {
      "cell_type": "code",
      "metadata": {
        "id": "gUvwJG2jsF_C",
        "colab_type": "code",
        "colab": {}
      },
      "source": [
        "import datetime"
      ],
      "execution_count": 0,
      "outputs": []
    },
    {
      "cell_type": "code",
      "metadata": {
        "id": "BpPE7tjhsOeX",
        "colab_type": "code",
        "colab": {
          "base_uri": "https://localhost:8080/",
          "height": 34
        },
        "outputId": "99ffb04e-5e82-408a-e672-b7285823c9b2"
      },
      "source": [
        "datetime.datetime.today()"
      ],
      "execution_count": 28,
      "outputs": [
        {
          "output_type": "execute_result",
          "data": {
            "text/plain": [
              "datetime.datetime(2020, 5, 24, 23, 48, 13, 10033)"
            ]
          },
          "metadata": {
            "tags": []
          },
          "execution_count": 28
        }
      ]
    },
    {
      "cell_type": "code",
      "metadata": {
        "id": "f2PIhdQesPu1",
        "colab_type": "code",
        "colab": {}
      },
      "source": [
        "time1 = datetime.datetime.today()"
      ],
      "execution_count": 0,
      "outputs": []
    },
    {
      "cell_type": "code",
      "metadata": {
        "id": "3GVfS5ESsXWp",
        "colab_type": "code",
        "colab": {}
      },
      "source": [
        "time2=datetime.datetime.today()"
      ],
      "execution_count": 0,
      "outputs": []
    },
    {
      "cell_type": "code",
      "metadata": {
        "id": "kJ-r7wnmscCa",
        "colab_type": "code",
        "colab": {
          "base_uri": "https://localhost:8080/",
          "height": 34
        },
        "outputId": "dfcd5c1b-8b74-446e-927e-47669f2e5a57"
      },
      "source": [
        "time2-time1"
      ],
      "execution_count": 31,
      "outputs": [
        {
          "output_type": "execute_result",
          "data": {
            "text/plain": [
              "datetime.timedelta(0, 0, 4844)"
            ]
          },
          "metadata": {
            "tags": []
          },
          "execution_count": 31
        }
      ]
    },
    {
      "cell_type": "code",
      "metadata": {
        "id": "rKg1WmXIsdQg",
        "colab_type": "code",
        "colab": {}
      },
      "source": [
        "date_str = bird_data.date_time[0]"
      ],
      "execution_count": 0,
      "outputs": []
    },
    {
      "cell_type": "code",
      "metadata": {
        "id": "PXy0lifQsp2F",
        "colab_type": "code",
        "colab": {
          "base_uri": "https://localhost:8080/",
          "height": 34
        },
        "outputId": "79f67c8b-afa8-4165-a629-ea2667241e1b"
      },
      "source": [
        "type(date_str)"
      ],
      "execution_count": 33,
      "outputs": [
        {
          "output_type": "execute_result",
          "data": {
            "text/plain": [
              "str"
            ]
          },
          "metadata": {
            "tags": []
          },
          "execution_count": 33
        }
      ]
    },
    {
      "cell_type": "code",
      "metadata": {
        "id": "BpfdjPa3ssCf",
        "colab_type": "code",
        "colab": {
          "base_uri": "https://localhost:8080/",
          "height": 34
        },
        "outputId": "909b2407-1cb0-4a76-a6f9-70016e02a8a0"
      },
      "source": [
        "date_str"
      ],
      "execution_count": 34,
      "outputs": [
        {
          "output_type": "execute_result",
          "data": {
            "text/plain": [
              "'2013-08-15 00:18:08+00'"
            ]
          },
          "metadata": {
            "tags": []
          },
          "execution_count": 34
        }
      ]
    },
    {
      "cell_type": "code",
      "metadata": {
        "id": "9pm54pT8stal",
        "colab_type": "code",
        "colab": {
          "base_uri": "https://localhost:8080/",
          "height": 34
        },
        "outputId": "343dfadd-69d5-42fc-9a42-81dc7c5c6b9a"
      },
      "source": [
        "date_str[:-3]"
      ],
      "execution_count": 35,
      "outputs": [
        {
          "output_type": "execute_result",
          "data": {
            "text/plain": [
              "'2013-08-15 00:18:08'"
            ]
          },
          "metadata": {
            "tags": []
          },
          "execution_count": 35
        }
      ]
    },
    {
      "cell_type": "code",
      "metadata": {
        "id": "zFud2DntsxZx",
        "colab_type": "code",
        "colab": {
          "base_uri": "https://localhost:8080/",
          "height": 34
        },
        "outputId": "eee98819-6e27-45ef-a78b-fea7a617abee"
      },
      "source": [
        "datetime.datetime.strptime(date_str[:-3], \"%Y-%m-%d %H:%M:%S\")"
      ],
      "execution_count": 36,
      "outputs": [
        {
          "output_type": "execute_result",
          "data": {
            "text/plain": [
              "datetime.datetime(2013, 8, 15, 0, 18, 8)"
            ]
          },
          "metadata": {
            "tags": []
          },
          "execution_count": 36
        }
      ]
    },
    {
      "cell_type": "code",
      "metadata": {
        "id": "pTvKjj4zs6bY",
        "colab_type": "code",
        "colab": {}
      },
      "source": [
        "timestamp = []\n",
        "for k in range(len(bird_data)):\n",
        "  timestamp.append(datetime.datetime.strptime(bird_data.date_time.iloc[k][:-3], \"%Y-%m-%d %H:%M:%S\"))"
      ],
      "execution_count": 0,
      "outputs": []
    },
    {
      "cell_type": "code",
      "metadata": {
        "id": "39gxS_VYuCbR",
        "colab_type": "code",
        "colab": {
          "base_uri": "https://localhost:8080/",
          "height": 70
        },
        "outputId": "ab8d51ed-1cdc-4142-8036-eb7bc2f9d4c0"
      },
      "source": [
        "timestamp[0:3]"
      ],
      "execution_count": 38,
      "outputs": [
        {
          "output_type": "execute_result",
          "data": {
            "text/plain": [
              "[datetime.datetime(2013, 8, 15, 0, 18, 8),\n",
              " datetime.datetime(2013, 8, 15, 0, 48, 7),\n",
              " datetime.datetime(2013, 8, 15, 1, 17, 58)]"
            ]
          },
          "metadata": {
            "tags": []
          },
          "execution_count": 38
        }
      ]
    },
    {
      "cell_type": "code",
      "metadata": {
        "id": "MhFjp-xouMlb",
        "colab_type": "code",
        "colab": {}
      },
      "source": [
        "bird_data[\"timestamp\"] = pd.Series(timestamp, index = bird_data.index)"
      ],
      "execution_count": 0,
      "outputs": []
    },
    {
      "cell_type": "code",
      "metadata": {
        "id": "i29ljQomuZGQ",
        "colab_type": "code",
        "colab": {
          "base_uri": "https://localhost:8080/",
          "height": 197
        },
        "outputId": "54cc12a6-1f94-4172-a777-a33a9b440c42"
      },
      "source": [
        "bird_data.head()"
      ],
      "execution_count": 40,
      "outputs": [
        {
          "output_type": "execute_result",
          "data": {
            "text/html": [
              "<div>\n",
              "<style scoped>\n",
              "    .dataframe tbody tr th:only-of-type {\n",
              "        vertical-align: middle;\n",
              "    }\n",
              "\n",
              "    .dataframe tbody tr th {\n",
              "        vertical-align: top;\n",
              "    }\n",
              "\n",
              "    .dataframe thead th {\n",
              "        text-align: right;\n",
              "    }\n",
              "</style>\n",
              "<table border=\"1\" class=\"dataframe\">\n",
              "  <thead>\n",
              "    <tr style=\"text-align: right;\">\n",
              "      <th></th>\n",
              "      <th>altitude</th>\n",
              "      <th>date_time</th>\n",
              "      <th>device_info_serial</th>\n",
              "      <th>direction</th>\n",
              "      <th>latitude</th>\n",
              "      <th>longitude</th>\n",
              "      <th>speed_2d</th>\n",
              "      <th>bird_name</th>\n",
              "      <th>timestamp</th>\n",
              "    </tr>\n",
              "  </thead>\n",
              "  <tbody>\n",
              "    <tr>\n",
              "      <th>0</th>\n",
              "      <td>71</td>\n",
              "      <td>2013-08-15 00:18:08+00</td>\n",
              "      <td>851</td>\n",
              "      <td>-150.469753</td>\n",
              "      <td>49.419860</td>\n",
              "      <td>2.120733</td>\n",
              "      <td>0.150000</td>\n",
              "      <td>Eric</td>\n",
              "      <td>2013-08-15 00:18:08</td>\n",
              "    </tr>\n",
              "    <tr>\n",
              "      <th>1</th>\n",
              "      <td>68</td>\n",
              "      <td>2013-08-15 00:48:07+00</td>\n",
              "      <td>851</td>\n",
              "      <td>-136.151141</td>\n",
              "      <td>49.419880</td>\n",
              "      <td>2.120746</td>\n",
              "      <td>2.438360</td>\n",
              "      <td>Eric</td>\n",
              "      <td>2013-08-15 00:48:07</td>\n",
              "    </tr>\n",
              "    <tr>\n",
              "      <th>2</th>\n",
              "      <td>68</td>\n",
              "      <td>2013-08-15 01:17:58+00</td>\n",
              "      <td>851</td>\n",
              "      <td>160.797477</td>\n",
              "      <td>49.420310</td>\n",
              "      <td>2.120885</td>\n",
              "      <td>0.596657</td>\n",
              "      <td>Eric</td>\n",
              "      <td>2013-08-15 01:17:58</td>\n",
              "    </tr>\n",
              "    <tr>\n",
              "      <th>3</th>\n",
              "      <td>73</td>\n",
              "      <td>2013-08-15 01:47:51+00</td>\n",
              "      <td>851</td>\n",
              "      <td>32.769360</td>\n",
              "      <td>49.420359</td>\n",
              "      <td>2.120859</td>\n",
              "      <td>0.310161</td>\n",
              "      <td>Eric</td>\n",
              "      <td>2013-08-15 01:47:51</td>\n",
              "    </tr>\n",
              "    <tr>\n",
              "      <th>4</th>\n",
              "      <td>69</td>\n",
              "      <td>2013-08-15 02:17:42+00</td>\n",
              "      <td>851</td>\n",
              "      <td>45.191230</td>\n",
              "      <td>49.420331</td>\n",
              "      <td>2.120887</td>\n",
              "      <td>0.193132</td>\n",
              "      <td>Eric</td>\n",
              "      <td>2013-08-15 02:17:42</td>\n",
              "    </tr>\n",
              "  </tbody>\n",
              "</table>\n",
              "</div>"
            ],
            "text/plain": [
              "   altitude               date_time  ...  bird_name           timestamp\n",
              "0        71  2013-08-15 00:18:08+00  ...       Eric 2013-08-15 00:18:08\n",
              "1        68  2013-08-15 00:48:07+00  ...       Eric 2013-08-15 00:48:07\n",
              "2        68  2013-08-15 01:17:58+00  ...       Eric 2013-08-15 01:17:58\n",
              "3        73  2013-08-15 01:47:51+00  ...       Eric 2013-08-15 01:47:51\n",
              "4        69  2013-08-15 02:17:42+00  ...       Eric 2013-08-15 02:17:42\n",
              "\n",
              "[5 rows x 9 columns]"
            ]
          },
          "metadata": {
            "tags": []
          },
          "execution_count": 40
        }
      ]
    },
    {
      "cell_type": "code",
      "metadata": {
        "id": "jRthk5U1ua0l",
        "colab_type": "code",
        "colab": {
          "base_uri": "https://localhost:8080/",
          "height": 34
        },
        "outputId": "5e0b81dc-20f1-4f2c-99ef-302a91188216"
      },
      "source": [
        "bird_data.timestamp[4] - bird_data.timestamp[3]"
      ],
      "execution_count": 41,
      "outputs": [
        {
          "output_type": "execute_result",
          "data": {
            "text/plain": [
              "Timedelta('0 days 00:29:51')"
            ]
          },
          "metadata": {
            "tags": []
          },
          "execution_count": 41
        }
      ]
    },
    {
      "cell_type": "code",
      "metadata": {
        "id": "WcTzHKYLuk6F",
        "colab_type": "code",
        "colab": {}
      },
      "source": [
        "times = bird_data.timestamp[bird_data.bird_name == 'Eric']"
      ],
      "execution_count": 0,
      "outputs": []
    },
    {
      "cell_type": "code",
      "metadata": {
        "id": "dZGYt0-CAgIy",
        "colab_type": "code",
        "colab": {
          "base_uri": "https://localhost:8080/",
          "height": 230
        },
        "outputId": "4e368d23-f2ae-42fb-a5cd-f37629f7b30c"
      },
      "source": [
        "times"
      ],
      "execution_count": 43,
      "outputs": [
        {
          "output_type": "execute_result",
          "data": {
            "text/plain": [
              "0       2013-08-15 00:18:08\n",
              "1       2013-08-15 00:48:07\n",
              "2       2013-08-15 01:17:58\n",
              "3       2013-08-15 01:47:51\n",
              "4       2013-08-15 02:17:42\n",
              "                ...        \n",
              "19790   2014-04-30 21:51:26\n",
              "19791   2014-04-30 22:21:33\n",
              "19792   2014-04-30 22:51:41\n",
              "19793   2014-04-30 23:21:34\n",
              "19794   2014-04-30 23:51:29\n",
              "Name: timestamp, Length: 19795, dtype: datetime64[ns]"
            ]
          },
          "metadata": {
            "tags": []
          },
          "execution_count": 43
        }
      ]
    },
    {
      "cell_type": "code",
      "metadata": {
        "id": "QTVQN-JtuxSy",
        "colab_type": "code",
        "colab": {}
      },
      "source": [
        "elapsed_time= [time - times[0] for time in times]"
      ],
      "execution_count": 0,
      "outputs": []
    },
    {
      "cell_type": "code",
      "metadata": {
        "id": "Xbr90w8bu7UL",
        "colab_type": "code",
        "colab": {
          "base_uri": "https://localhost:8080/",
          "height": 34
        },
        "outputId": "17a7465b-a479-4a9c-90de-adcf8e17adde"
      },
      "source": [
        "elapsed_time[0]"
      ],
      "execution_count": 45,
      "outputs": [
        {
          "output_type": "execute_result",
          "data": {
            "text/plain": [
              "Timedelta('0 days 00:00:00')"
            ]
          },
          "metadata": {
            "tags": []
          },
          "execution_count": 45
        }
      ]
    },
    {
      "cell_type": "code",
      "metadata": {
        "id": "ndN2Ni1X2N4v",
        "colab_type": "code",
        "colab": {
          "base_uri": "https://localhost:8080/",
          "height": 34
        },
        "outputId": "64f58982-a6e8-4736-f62a-42441c20b661"
      },
      "source": [
        "elapsed_time[1000]"
      ],
      "execution_count": 46,
      "outputs": [
        {
          "output_type": "execute_result",
          "data": {
            "text/plain": [
              "Timedelta('12 days 02:02:00')"
            ]
          },
          "metadata": {
            "tags": []
          },
          "execution_count": 46
        }
      ]
    },
    {
      "cell_type": "code",
      "metadata": {
        "id": "4dJkovoL2Y3F",
        "colab_type": "code",
        "colab": {
          "base_uri": "https://localhost:8080/",
          "height": 34
        },
        "outputId": "4ef2e01b-1247-411a-83c8-fb7b0d2fe32d"
      },
      "source": [
        "elapsed_time[1000]/datetime.timedelta(days=1)"
      ],
      "execution_count": 47,
      "outputs": [
        {
          "output_type": "execute_result",
          "data": {
            "text/plain": [
              "12.084722222222222"
            ]
          },
          "metadata": {
            "tags": []
          },
          "execution_count": 47
        }
      ]
    },
    {
      "cell_type": "code",
      "metadata": {
        "id": "V7TLvvx02kqq",
        "colab_type": "code",
        "colab": {
          "base_uri": "https://localhost:8080/",
          "height": 34
        },
        "outputId": "c8b810db-b7fd-4c8e-d5da-1a65400f9d49"
      },
      "source": [
        "elapsed_time[1000]/datetime.timedelta(hours=1)"
      ],
      "execution_count": 48,
      "outputs": [
        {
          "output_type": "execute_result",
          "data": {
            "text/plain": [
              "290.03333333333336"
            ]
          },
          "metadata": {
            "tags": []
          },
          "execution_count": 48
        }
      ]
    },
    {
      "cell_type": "code",
      "metadata": {
        "id": "ylPHDzCP2pT6",
        "colab_type": "code",
        "colab": {
          "base_uri": "https://localhost:8080/",
          "height": 278
        },
        "outputId": "dd98ac24-e119-40ab-838e-9207ae75e7d2"
      },
      "source": [
        "plt.plot(np.array(elapsed_time)/datetime.timedelta(days=1))\n",
        "plt.xlabel(\"Oberservations\")\n",
        "plt.ylabel(\"Elapsed time (days)\")\n",
        "plt.savefig(\"timeplot.pdf\")"
      ],
      "execution_count": 49,
      "outputs": [
        {
          "output_type": "display_data",
          "data": {
            "image/png": "[encoded data removed]",
            "text/plain": [
              "<Figure size 432x288 with 1 Axes>"
            ]
          },
          "metadata": {
            "tags": [],
            "needs_background": "light"
          }
        }
      ]
    },
    {
      "cell_type": "code",
      "metadata": {
        "id": "2fI5DfwD3LZH",
        "colab_type": "code",
        "colab": {}
      },
      "source": [
        "data = bird_data[bird_data.bird_name == 'Eric']"
      ],
      "execution_count": 0,
      "outputs": []
    },
    {
      "cell_type": "code",
      "metadata": {
        "id": "IQhQtlys8-nt",
        "colab_type": "code",
        "colab": {}
      },
      "source": [
        "times = data.timestamp"
      ],
      "execution_count": 0,
      "outputs": []
    },
    {
      "cell_type": "code",
      "metadata": {
        "id": "yYNdevMh9CMc",
        "colab_type": "code",
        "colab": {}
      },
      "source": [
        "elapsed_time = [time - times[0] for time in times]"
      ],
      "execution_count": 0,
      "outputs": []
    },
    {
      "cell_type": "code",
      "metadata": {
        "id": "mmC6DDQI9afb",
        "colab_type": "code",
        "colab": {}
      },
      "source": [
        "elapsed_days = np.array(elapsed_time)/datetime.timedelta(days=1)"
      ],
      "execution_count": 0,
      "outputs": []
    },
    {
      "cell_type": "code",
      "metadata": {
        "id": "_AwNzVOk9qUz",
        "colab_type": "code",
        "colab": {}
      },
      "source": [
        "next_day = 1\n",
        "inds= []\n",
        "daily_mean_speed = []\n",
        "for (i,t) in enumerate(elapsed_days):\n",
        "  if (t<next_day):\n",
        "    inds.append(i)\n",
        "  else:\n",
        "    daily_mean_speed.append(np.mean(data.speed_2d[inds]))\n",
        "    next_day+=1\n",
        "    ind=[]"
      ],
      "execution_count": 0,
      "outputs": []
    },
    {
      "cell_type": "code",
      "metadata": {
        "id": "UZCuB-G1-91d",
        "colab_type": "code",
        "colab": {
          "base_uri": "https://localhost:8080/",
          "height": 387
        },
        "outputId": "8643129b-c4fd-447e-f634-ef11a7306038"
      },
      "source": [
        "plt.figure(figsize = (8,6))\n",
        "plt.plot(daily_mean_speed)\n",
        "plt.xlabel(\"Day\")\n",
        "plt.ylabel(\"Mean Speed (m/s)\");\n",
        "plt.savefig(\"dms.pdf\")"
      ],
      "execution_count": 55,
      "outputs": [
        {
          "output_type": "display_data",
          "data": {
            "image/png": "[encoded data removed]",
            "text/plain": [
              "<Figure size 576x432 with 1 Axes>"
            ]
          },
          "metadata": {
            "tags": [],
            "needs_background": "light"
          }
        }
      ]
    },
    {
      "cell_type": "code",
      "metadata": {
        "id": "W4L1hr1gCG2C",
        "colab_type": "code",
        "colab": {}
      },
      "source": [
        "!apt-get -qq install python-cartopy python3-cartopy"
      ],
      "execution_count": 0,
      "outputs": []
    },
    {
      "cell_type": "code",
      "metadata": {
        "id": "g2PHbkmQFFVU",
        "colab_type": "code",
        "colab": {
          "base_uri": "https://localhost:8080/",
          "height": 285
        },
        "outputId": "091fff42-0aab-41e5-e20c-3b9123579192"
      },
      "source": [
        "!pip uninstall shapely\n",
        "!pip install shapely --no-binary shapely"
      ],
      "execution_count": 57,
      "outputs": [
        {
          "output_type": "stream",
          "text": [
            "Uninstalling Shapely-1.6.4:\n",
            "  Would remove:\n",
            "    /usr/lib/python3/dist-packages/Shapely-1.6.4.egg-info\n",
            "    /usr/lib/python3/dist-packages/shapely\n",
            "Proceed (y/n)? y\n",
            "  Successfully uninstalled Shapely-1.6.4\n",
            "Collecting shapely\n",
            "\u001b[?25l  Downloading https://files.pythonhosted.org/packages/44/ec/4eddbf9d17a917c51fb4ad159aa7137f506681e91ab559cf87d120e1d78d/Shapely-1.7.0.tar.gz (349kB)\n",
            "\u001b[K     |████████████████████████████████| 358kB 2.9MB/s \n",
            "\u001b[?25hSkipping wheel build for shapely, due to binaries being disabled for it.\n",
            "\u001b[31mERROR: albumentations 0.1.12 has requirement imgaug<0.2.7,>=0.2.5, but you'll have imgaug 0.2.9 which is incompatible.\u001b[0m\n",
            "Installing collected packages: shapely\n",
            "    Running setup.py install for shapely ... \u001b[?25l\u001b[?25hdone\n",
            "Successfully installed shapely-1.7.0\n"
          ],
          "name": "stdout"
        }
      ]
    },
    {
      "cell_type": "code",
      "metadata": {
        "id": "OxmqsQRHBtcY",
        "colab_type": "code",
        "colab": {}
      },
      "source": [
        "import cartopy.crs as ccrs\n",
        "import cartopy.feature as cfeature"
      ],
      "execution_count": 0,
      "outputs": []
    },
    {
      "cell_type": "code",
      "metadata": {
        "id": "djvyQKjeCmGb",
        "colab_type": "code",
        "colab": {}
      },
      "source": [
        "proj = ccrs.Mercator()"
      ],
      "execution_count": 0,
      "outputs": []
    },
    {
      "cell_type": "code",
      "metadata": {
        "id": "_w1NsKV8C65J",
        "colab_type": "code",
        "colab": {}
      },
      "source": [
        "plt.figure(figsize=(10,10))\n",
        "ax = plt.axes(projection = proj)\n",
        "ax.set_extent((-25.0, 20.0, 52.0, 10.0))\n",
        "ax.add_feature(cfeature.LAND)\n",
        "ax.add_feature(cfeature.OCEAN)\n",
        "ax.add_feature(cfeature.COASTLINE)\n",
        "ax.add_feature(cfeature.BORDERS, linestyle = ':')\n",
        "\n",
        "for name in bird_name:\n",
        "  ix= bird_data['bird_name'] == name\n",
        "  x, y = bird_data.longitude[ix], bird_data.latitude[ix]\n",
        "  ax.plot(x, y, '.', transform = ccrs.Geodetic(), label = name)\n",
        "plt.legend(loc= \"upperleft\")\n",
        "plt.savefig(\"map.pdf\")"
      ],
      "execution_count": 0,
      "outputs": []
    },
    {
      "cell_type": "code",
      "metadata": {
        "id": "St5FRcAtEJH_",
        "colab_type": "code",
        "colab": {}
      },
      "source": [
        ""
      ],
      "execution_count": 0,
      "outputs": []
    }
  ]
}