{
  "nbformat": 4,
  "nbformat_minor": 0,
  "metadata": {
    "kernelspec": {
      "display_name": "Python 3",
      "language": "python",
      "name": "python3"
    },
    "language_info": {
      "codemirror_mode": {
        "name": "ipython",
        "version": 3
      },
      "file_extension": ".py",
      "mimetype": "text/x-python",
      "name": "python",
      "nbconvert_exporter": "python",
      "pygments_lexer": "ipython3",
      "version": "3.7.4"
    },
    "colab": {
      "name": "Homework_Week 1.ipynb",
      "provenance": []
    }
  },
  "cells": [
    {
      "cell_type": "markdown",
      "metadata": {
        "id": "1EKHIdIWQ9dG",
        "colab_type": "text"
      },
      "source": [
        "# Using Python for Research Homework: Week 1\n",
        "\n",
        "In this homework, we will use objects, functions, and randomness to find the length of documents, approximate $\\pi$, and smooth out random noise."
      ]
    },
    {
      "cell_type": "markdown",
      "metadata": {
        "id": "o9AafPzrQ9dH",
        "colab_type": "text"
      },
      "source": [
        "### Exercise 1\n",
        "\n",
        "In this five-part exercise, we will count the frequency of each letter in a given string.\n",
        "\n",
        "#### Exercise 1a\n",
        "\n",
        "- Import the `string` library.\n",
        "- Create a variable `alphabet` that consists of the lowercase and uppercase letters in the English alphabet using the `ascii_letters` data attribute of the `string` library."
      ]
    },
    {
      "cell_type": "code",
      "metadata": {
        "id": "wYGj0GFzQ9dI",
        "colab_type": "code",
        "colab": {}
      },
      "source": [
        "# write your code here!\n",
        "import string\n",
        "alphabet = string.ascii_letters   "
      ],
      "execution_count": 0,
      "outputs": []
    },
    {
      "cell_type": "markdown",
      "metadata": {
        "id": "ew1ybcRxQ9dO",
        "colab_type": "text"
      },
      "source": [
        "#### Exercise 1b\n",
        "- The lower and upper case letters of the English alphabet should stored as the string variable `alphabet`.\n",
        "- Consider the sentence 'Jim quickly realized that the beautiful gowns are expensive'. Create a dictionary `count_letters` with keys consisting of each unique letter in the sentence and values consisting of the number of times each letter is used in this sentence. Count upper case and lower case letters separately in the dictionary."
      ]
    },
    {
      "cell_type": "code",
      "metadata": {
        "id": "zNzPGFOZQ9dQ",
        "colab_type": "code",
        "colab": {}
      },
      "source": [
        "sentence = 'Jim quickly realized that the beautiful gowns are expensive'\n",
        "\n",
        "count_letters = {}\n",
        "\n",
        "for letter in sentence:\n",
        "    if letter in alphabet:\n",
        "        if letter in count_letters:\n",
        "            count_letters[letter] +=1\n",
        "        else:\n",
        "            count_letters[letter] = 1\n",
        " "
      ],
      "execution_count": 0,
      "outputs": []
    },
    {
      "cell_type": "code",
      "metadata": {
        "id": "BpkxccmNQ9dU",
        "colab_type": "code",
        "colab": {},
        "outputId": "17b52bba-188a-41a0-8502-40524641aabe"
      },
      "source": [
        "count_letters"
      ],
      "execution_count": 0,
      "outputs": [
        {
          "output_type": "execute_result",
          "data": {
            "text/plain": [
              "{'J': 1,\n",
              " 'i': 5,\n",
              " 'm': 1,\n",
              " 'q': 1,\n",
              " 'u': 3,\n",
              " 'c': 1,\n",
              " 'k': 1,\n",
              " 'l': 3,\n",
              " 'y': 1,\n",
              " 'r': 2,\n",
              " 'e': 8,\n",
              " 'a': 4,\n",
              " 'z': 1,\n",
              " 'd': 1,\n",
              " 't': 4,\n",
              " 'h': 2,\n",
              " 'b': 1,\n",
              " 'f': 1,\n",
              " 'g': 1,\n",
              " 'o': 1,\n",
              " 'w': 1,\n",
              " 'n': 2,\n",
              " 's': 2,\n",
              " 'x': 1,\n",
              " 'p': 1,\n",
              " 'v': 1}"
            ]
          },
          "metadata": {
            "tags": []
          },
          "execution_count": 25
        }
      ]
    },
    {
      "cell_type": "markdown",
      "metadata": {
        "id": "MdmH1jxNQ9dY",
        "colab_type": "text"
      },
      "source": [
        "#### Exercise 1c\n",
        "- Rewrite your code from 1b to make a function called `counter` that takes a string `input_string` and returns a dictionary of letter counts `count_letters`.\n",
        "- Use your function to call `counter(sentence)`."
      ]
    },
    {
      "cell_type": "code",
      "metadata": {
        "id": "wSLWdubfQ9dZ",
        "colab_type": "code",
        "colab": {},
        "outputId": "395955e6-4756-466a-815b-8724074520cf"
      },
      "source": [
        "# write your code here!\n",
        "def counter(input_string):\n",
        "    count_letters= {}\n",
        "    for letter in input_string:\n",
        "        if letter in alphabet:\n",
        "            if letter in count_letters:\n",
        "                count_letters[letter] +=1\n",
        "            else:\n",
        "                count_letters[letter] = 1\n",
        "    return count_letters\n",
        "\n",
        "counter(sentence)"
      ],
      "execution_count": 0,
      "outputs": [
        {
          "output_type": "execute_result",
          "data": {
            "text/plain": [
              "{'J': 1,\n",
              " 'i': 5,\n",
              " 'm': 1,\n",
              " 'q': 1,\n",
              " 'u': 3,\n",
              " 'c': 1,\n",
              " 'k': 1,\n",
              " 'l': 3,\n",
              " 'y': 1,\n",
              " 'r': 2,\n",
              " 'e': 8,\n",
              " 'a': 4,\n",
              " 'z': 1,\n",
              " 'd': 1,\n",
              " 't': 4,\n",
              " 'h': 2,\n",
              " 'b': 1,\n",
              " 'f': 1,\n",
              " 'g': 1,\n",
              " 'o': 1,\n",
              " 'w': 1,\n",
              " 'n': 2,\n",
              " 's': 2,\n",
              " 'x': 1,\n",
              " 'p': 1,\n",
              " 'v': 1}"
            ]
          },
          "metadata": {
            "tags": []
          },
          "execution_count": 20
        }
      ]
    },
    {
      "cell_type": "markdown",
      "metadata": {
        "id": "8C15dXlnQ9dd",
        "colab_type": "text"
      },
      "source": [
        "#### Exercise 1d\n",
        "- Abraham Lincoln was a president during the American Civil War. His famous 1863 Gettysburg Address has been stored as `address`. Use the `counter` function from 1c to return a dictionary consisting of the count of each letter in this address and save it as `address_count`."
      ]
    },
    {
      "cell_type": "code",
      "metadata": {
        "id": "iCmavs8KQ9dd",
        "colab_type": "code",
        "colab": {}
      },
      "source": [
        "address = \"\"\"Four score and seven years ago our fathers brought forth on this continent, a new nation, \n",
        "conceived in Liberty, and dedicated to the proposition that all men are created equal. Now we are engaged in a \n",
        "great civil war, testing whether that nation, or any nation so conceived and so dedicated, can long endure. \n",
        "We are met on a great battle-field of that war. We have come to dedicate a portion of that field, as a final \n",
        "resting place for those who here gave their lives that that nation might live. It is altogether fitting and proper \n",
        "that we should do this. But, in a larger sense, we can not dedicate -- we can not consecrate -- we can not hallow -- \n",
        "this ground. The brave men, living and dead, who struggled here, have consecrated it, far above our poor power to add \n",
        "or detract. The world will little note, nor long remember what we say here, but it can never forget what they did here. \n",
        "It is for us the living, rather, to be dedicated here to the unfinished work which they who fought here have thus far so \n",
        "nobly advanced. It is rather for us to be here dedicated to the great task remaining before us -- that from these honored \n",
        "dead we take increased devotion to that cause for which they gave the last full measure of devotion -- that we here \n",
        "highly resolve that these dead shall not have died in vain -- that this nation, under God, shall have a new birth of \n",
        "freedom -- and that government of the people, by the people, for the people, shall not perish from the earth.\"\"\"   \n",
        "\n",
        "# Write your code here!\n",
        "address_count = counter(address)"
      ],
      "execution_count": 0,
      "outputs": []
    },
    {
      "cell_type": "code",
      "metadata": {
        "id": "_ruIynRoQ9dg",
        "colab_type": "code",
        "colab": {},
        "outputId": "c5f44395-71e2-4b5c-ca03-f6d4607c59e6"
      },
      "source": [
        "address_count"
      ],
      "execution_count": 0,
      "outputs": [
        {
          "output_type": "execute_result",
          "data": {
            "text/plain": [
              "{'F': 1,\n",
              " 'o': 93,\n",
              " 'u': 21,\n",
              " 'r': 79,\n",
              " 's': 44,\n",
              " 'c': 31,\n",
              " 'e': 165,\n",
              " 'a': 102,\n",
              " 'n': 76,\n",
              " 'd': 58,\n",
              " 'v': 24,\n",
              " 'y': 10,\n",
              " 'g': 27,\n",
              " 'f': 26,\n",
              " 't': 124,\n",
              " 'h': 80,\n",
              " 'b': 13,\n",
              " 'i': 65,\n",
              " 'w': 26,\n",
              " 'L': 1,\n",
              " 'p': 15,\n",
              " 'l': 41,\n",
              " 'm': 13,\n",
              " 'q': 1,\n",
              " 'N': 1,\n",
              " 'W': 2,\n",
              " 'I': 3,\n",
              " 'B': 1,\n",
              " 'T': 2,\n",
              " 'k': 3,\n",
              " 'G': 1}"
            ]
          },
          "metadata": {
            "tags": []
          },
          "execution_count": 26
        }
      ]
    },
    {
      "cell_type": "markdown",
      "metadata": {
        "id": "W3MaK0C7Q9dj",
        "colab_type": "text"
      },
      "source": [
        "#### Exercise 1f\n",
        "- The frequency of each letter in the Gettysburg Address is already stored as `address_count`. Use this dictionary to find the most common letter in the Gettysburg address."
      ]
    },
    {
      "cell_type": "code",
      "metadata": {
        "id": "oLlwSERvQ9dk",
        "colab_type": "code",
        "colab": {},
        "outputId": "58e8dd11-b2d7-418e-b618-e1d2d47ab92f"
      },
      "source": [
        "# write your code here!\n",
        "import operator\n",
        "max(address_count.items(), key=operator.itemgetter(1))[0]"
      ],
      "execution_count": 0,
      "outputs": [
        {
          "output_type": "execute_result",
          "data": {
            "text/plain": [
              "'e'"
            ]
          },
          "metadata": {
            "tags": []
          },
          "execution_count": 33
        }
      ]
    },
    {
      "cell_type": "markdown",
      "metadata": {
        "id": "skLZjlLsQ9dn",
        "colab_type": "text"
      },
      "source": [
        "### Exercise 2\n",
        "\n",
        "Consider a circle inscribed in a square. The ratio of their areas (the ratio of the area of the circle to the area of the square) is $\\frac{\\pi}{4}$. In this six-part exercise, we will find a way to approximate this value.\n",
        "\n",
        "#### Exercise 2a\n",
        "- Using the `math` library, calculate and print the value of $\\frac{\\pi}{4}$"
      ]
    },
    {
      "cell_type": "code",
      "metadata": {
        "id": "lXYfWzQJQ9do",
        "colab_type": "code",
        "colab": {},
        "outputId": "33ae38e7-0a78-4703-8b80-8aee4d03f0f8"
      },
      "source": [
        "# write your code here\n",
        "import math\n",
        "print(math.pi/4)"
      ],
      "execution_count": 0,
      "outputs": [
        {
          "output_type": "stream",
          "text": [
            "0.7853981633974483\n"
          ],
          "name": "stdout"
        }
      ]
    },
    {
      "cell_type": "markdown",
      "metadata": {
        "id": "8ZnmpwmuQ9dq",
        "colab_type": "text"
      },
      "source": [
        "#### Exercise 2b\n",
        "- Using `random.uniform()`, create a function `rand()` that generates a single float between $-1$ and $1$.\n",
        "- Call `rand()` once. For us to be able to check your solution, we will use `random.seed()` to fix the seed value of the random number generator."
      ]
    },
    {
      "cell_type": "code",
      "metadata": {
        "id": "3GQ3jaajQ9dr",
        "colab_type": "code",
        "colab": {},
        "outputId": "24b9a211-14a0-4432-b8dd-a8d926410676"
      },
      "source": [
        "import random\n",
        "\n",
        "random.seed(1) # Fixes the see of the random number generator.\n",
        "\n",
        "def rand():\n",
        "   # define `rand` here!\n",
        "    return random.uniform(-1,1)\n",
        "\n",
        "rand()"
      ],
      "execution_count": 0,
      "outputs": [
        {
          "output_type": "execute_result",
          "data": {
            "text/plain": [
              "-0.7312715117751976"
            ]
          },
          "metadata": {
            "tags": []
          },
          "execution_count": 53
        }
      ]
    },
    {
      "cell_type": "markdown",
      "metadata": {
        "id": "Tlpvz8BpQ9du",
        "colab_type": "text"
      },
      "source": [
        "#### Exercise 2c\n",
        "- The distance between two points x and y is the square root of the sum of squared differences along each dimension of x and y. Write a function` distance(x, y)` that takes two vectors as its input and outputs the distance between them. Use your function to find the distance between $x=(0,0)$ and $y=(1,1)$."
      ]
    },
    {
      "cell_type": "code",
      "metadata": {
        "id": "l1cvVsMeQ9du",
        "colab_type": "code",
        "colab": {},
        "outputId": "3c632aa7-49ea-48e2-a65e-df5940297d63"
      },
      "source": [
        "def distance(x, y):\n",
        "    # define your function here!\n",
        "    distance = math.sqrt((y[0]-x[0])**2 + (y[1]-x[1])**2)\n",
        "    return(distance)\n",
        "\n",
        "distance((0,0), (1,1))\n"
      ],
      "execution_count": 0,
      "outputs": [
        {
          "output_type": "execute_result",
          "data": {
            "text/plain": [
              "1.4142135623730951"
            ]
          },
          "metadata": {
            "tags": []
          },
          "execution_count": 57
        }
      ]
    },
    {
      "cell_type": "markdown",
      "metadata": {
        "id": "JRUF9eyoQ9dx",
        "colab_type": "text"
      },
      "source": [
        "#### Exercise 2d\n",
        "\n",
        "- Write a function `in_circle(x, origin)` that determines whether a point in a two dimensional plane falls within a unit circle surrounding a given origin.\n",
        "    - Your function should return a boolean `True` if the distance between `x` and `origin` is less than 1 and `False` otherwise.\n",
        "    - Use `distance(x, y)` as defined in 2c.\n",
        "- Use your function to determine whether the point (1,1) lies within the unit circle centered at (0,0)."
      ]
    },
    {
      "cell_type": "code",
      "metadata": {
        "id": "HJxkJau3Q9dx",
        "colab_type": "code",
        "colab": {},
        "outputId": "9e7958d1-1f06-47c2-d8d7-b42f9b3ce49a"
      },
      "source": [
        "def in_circle(x, origin = [0,0]):\n",
        "   # Define your function here!\n",
        "    dist= distance(x, origin)\n",
        "    if(dist< 1):\n",
        "        return True\n",
        "    else:\n",
        "        return False\n",
        "    \n",
        "in_circle((1,1),(0,0))"
      ],
      "execution_count": 0,
      "outputs": [
        {
          "output_type": "execute_result",
          "data": {
            "text/plain": [
              "False"
            ]
          },
          "metadata": {
            "tags": []
          },
          "execution_count": 63
        }
      ]
    },
    {
      "cell_type": "markdown",
      "metadata": {
        "id": "bO34GrRbQ9d0",
        "colab_type": "text"
      },
      "source": [
        "#### Exercise 2e\n",
        "\n",
        "- Create a list `inside` of `R=10000` booleans that determines whether or not a point falls within the unit circle centered at `(0,0)`. \n",
        "    - Use the `rand` function from 2b to generate `R` randomly located points.\n",
        "    - Use the function `in_circle` to test whether or not a given pint falls within the unit circle.\n",
        "- Find the proportion of points that fall within the circle by summing all `True` values in the `inside` list; then divide the answer by `R` to obtain a proportion.\n",
        "- Print your answer. This proportion is an estimate of the ratio of the two areas!"
      ]
    },
    {
      "cell_type": "code",
      "metadata": {
        "id": "n0JIMc3EQ9d0",
        "colab_type": "code",
        "colab": {},
        "outputId": "43c05e8a-14e9-449e-dc90-4113b01ff36f"
      },
      "source": [
        "random.seed(1)\n",
        "\n",
        "R = 10000\n",
        "x = [(rand(), rand()) for i in range(R) ]\n",
        "inside = [ in_circle(p) for p in x ]\n",
        "proportion = sum(inside)/R \n",
        "print(proportion)"
      ],
      "execution_count": 0,
      "outputs": [
        {
          "output_type": "stream",
          "text": [
            "0.779\n"
          ],
          "name": "stdout"
        }
      ]
    },
    {
      "cell_type": "markdown",
      "metadata": {
        "id": "Wnxa28_TQ9d3",
        "colab_type": "text"
      },
      "source": [
        "#### Exercise 2f\n",
        "\n",
        "- Find the difference between your estimate from part 2e and `math.pi / 4`. Note: `inside` and `R` are defined as in Exercise 2e."
      ]
    },
    {
      "cell_type": "code",
      "metadata": {
        "id": "5BJkO-8RQ9d3",
        "colab_type": "code",
        "colab": {},
        "outputId": "fa02069b-bc0e-48ab-8873-4311425031a7"
      },
      "source": [
        "# write your code here!\n",
        "diff = (math.pi/4) - proportion\n",
        "diff"
      ],
      "execution_count": 0,
      "outputs": [
        {
          "output_type": "execute_result",
          "data": {
            "text/plain": [
              "0.006398163397448253"
            ]
          },
          "metadata": {
            "tags": []
          },
          "execution_count": 78
        }
      ]
    },
    {
      "cell_type": "markdown",
      "metadata": {
        "id": "pEIMco0CQ9d6",
        "colab_type": "text"
      },
      "source": [
        "### Exercise 3\n",
        "\n",
        "A list of numbers representing measurements obtained from a system of interest can often be noisy. One way to deal with noise to smoothen the values by replacing each value with the average of the value and the values of its neighbors.\n",
        "\n",
        "#### Exercise 3a\n",
        "\n",
        "- Write a function `moving_window_average(x, n_neighbors)` that takes a list `x` and the number of neighbors `n_neighbors` on either side of a given member of the list to consider.\n",
        "- For each value in `x`, `moving_window_average(x, n_neighbors)` computes the average of the value and the values of its neighbors.\n",
        "- `moving_window_average` should return a list of averaged values that is the same length as the original list.\n",
        "- If there are not enough neighbors (for cases near the edge), substitute the original value for a neighbor for each missing neighbor.\n",
        "- Use your function to find the moving window sum of `x=[0,10,5,3,1,5]` and `n_neighbors=1`."
      ]
    },
    {
      "cell_type": "code",
      "metadata": {
        "id": "GtJRyy_sQ9d7",
        "colab_type": "code",
        "colab": {},
        "outputId": "717fffa1-547b-4ac6-a813-f98f8620347d"
      },
      "source": [
        "def moving_window_average(x, n_neighbors=1):\n",
        "    n = len(x)\n",
        "    width = n_neighbors*2 + 1\n",
        "    x = [x[0]]*n_neighbors + x + [x[-1]]*n_neighbors\n",
        "    # To complete the function,\n",
        "    # return a list of the mean of values from i to i+width for all values i from 0 to n-1.\n",
        "    average_list = []\n",
        "    for i in range(n):\n",
        "         average_list.append(sum(x[i:i+width])/width)\n",
        "    return(average_list)\n",
        "        \n",
        "\n",
        "\n",
        "x = [0,10,5,3,1,5]\n",
        "print(moving_window_average(x, 1))"
      ],
      "execution_count": 0,
      "outputs": [
        {
          "output_type": "stream",
          "text": [
            "[3.3333333333333335, 5.0, 6.0, 3.0, 3.0, 3.6666666666666665]\n"
          ],
          "name": "stdout"
        }
      ]
    },
    {
      "cell_type": "markdown",
      "metadata": {
        "id": "_XwMAusEQ9eB",
        "colab_type": "text"
      },
      "source": [
        "#### Exercise 3b\n",
        "- Compute and store `R=1000` random values from 0-1 as `x`.\n",
        "- Compute the moving window average for `x` for values of `n_neighbors` ranging from 1 to 9 inclusive.\n",
        "- Store `x` as well as each of these averages as consecutive lists in a list called `Y`"
      ]
    },
    {
      "cell_type": "code",
      "metadata": {
        "id": "0XpcR-g-Q9eC",
        "colab_type": "code",
        "colab": {},
        "outputId": "40b53ace-ff3c-41c1-a0f2-6039262711eb"
      },
      "source": [
        "random.seed(1) # This line fixes the value called by your function,\n",
        "               # and is used for answer-checking.\n",
        "# write your code here!\n",
        "R = 1000\n",
        "x = [random.uniform(0,1) for i in range(R)]\n",
        "Y = [x] + [moving_window_average(x, i) for i in range(1, 10)]\n",
        "\n",
        "Y[5][9]"
      ],
      "execution_count": 0,
      "outputs": [
        {
          "output_type": "execute_result",
          "data": {
            "text/plain": [
              "0.45325045824763405"
            ]
          },
          "metadata": {
            "tags": []
          },
          "execution_count": 142
        }
      ]
    },
    {
      "cell_type": "markdown",
      "metadata": {
        "id": "P2Dtw4ZuQ9eF",
        "colab_type": "text"
      },
      "source": [
        "#### Exercise 3c\n",
        "\n",
        "- For each list in `Y`, calculate and store the range (the maximum minus the minimum) in a new list ranges.\n",
        "- Print your answer. As the window width increases, does the range of each list increase or decrease? Why do you think that is?"
      ]
    },
    {
      "cell_type": "code",
      "metadata": {
        "id": "DXpn5GmvQ9eG",
        "colab_type": "code",
        "colab": {}
      },
      "source": [
        "# write your code here!\n",
        "ranges=[]\n",
        "for i in range(len(Y)):\n",
        "    diff = max(Y[i])-min(Y[i])\n",
        "    ranges.append(diff)\n",
        "    "
      ],
      "execution_count": 0,
      "outputs": []
    },
    {
      "cell_type": "code",
      "metadata": {
        "id": "YYX8vElZQ9eJ",
        "colab_type": "code",
        "colab": {},
        "outputId": "3c309756-c2b8-4670-b588-1cc01ab73579"
      },
      "source": [
        "ranges"
      ],
      "execution_count": 0,
      "outputs": [
        {
          "output_type": "execute_result",
          "data": {
            "text/plain": [
              "[0.9973152343362711,\n",
              " 0.9128390185520854,\n",
              " 0.801645771909397,\n",
              " 0.7137391224212468,\n",
              " 0.6230146948375028,\n",
              " 0.5042284086774562,\n",
              " 0.5071013753101629,\n",
              " 0.4590090496908159,\n",
              " 0.44659549539083265,\n",
              " 0.4433696944090051]"
            ]
          },
          "metadata": {
            "tags": []
          },
          "execution_count": 140
        }
      ]
    },
    {
      "cell_type": "code",
      "metadata": {
        "id": "nLmBiRzqQ9eL",
        "colab_type": "code",
        "colab": {}
      },
      "source": [
        ""
      ],
      "execution_count": 0,
      "outputs": []
    }
  ]
}