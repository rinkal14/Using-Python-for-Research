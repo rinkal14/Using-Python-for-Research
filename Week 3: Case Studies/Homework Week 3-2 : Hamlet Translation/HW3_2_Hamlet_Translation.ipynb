{
  "nbformat": 4,
  "nbformat_minor": 0,
  "metadata": {
    "kernelspec": {
      "display_name": "BST263",
      "language": "python",
      "name": "myenv"
    },
    "language_info": {
      "codemirror_mode": {
        "name": "ipython",
        "version": 3
      },
      "file_extension": ".py",
      "mimetype": "text/x-python",
      "name": "python",
      "nbconvert_exporter": "python",
      "pygments_lexer": "ipython3",
      "version": "3.8.1"
    },
    "toc": {
      "base_numbering": 1,
      "nav_menu": {},
      "number_sections": true,
      "sideBar": true,
      "skip_h1_title": false,
      "title_cell": "Table of Contents",
      "title_sidebar": "Contents",
      "toc_cell": false,
      "toc_position": {},
      "toc_section_display": true,
      "toc_window_display": false
    },
    "colab": {
      "name": "HW3-2-Hamlet_Translation.ipynb",
      "provenance": []
    }
  },
  "cells": [
    {
      "cell_type": "markdown",
      "metadata": {
        "id": "GDKfQeUQ01Ax",
        "colab_type": "text"
      },
      "source": [
        "# Using Python for Research Homework: Week 3, Case Study 2\n",
        "\n",
        "In this case study, we will find and plot the distribution of word frequencies for each translation of Hamlet.  Perhaps the distribution of word frequencies of Hamlet depends on the translation --- let's find out!"
      ]
    },
    {
      "cell_type": "code",
      "metadata": {
        "id": "kUBKeziQ01Az",
        "colab_type": "code",
        "colab": {}
      },
      "source": [
        "# DO NOT EDIT THIS CODE!\n",
        "import os\n",
        "import pandas as pd\n",
        "import numpy as np\n",
        "from collections import Counter\n",
        "\n",
        "def count_words_fast(text):\n",
        "    text = text.lower()\n",
        "    skips = [\".\", \",\", \";\", \":\", \"'\", '\"', \"\\n\", \"!\", \"?\", \"(\", \")\"]\n",
        "    for ch in skips:\n",
        "        text = text.replace(ch, \"\")\n",
        "    word_counts = Counter(text.split(\" \"))\n",
        "    return word_counts\n",
        "\n",
        "def word_stats(word_counts):\n",
        "    num_unique = len(word_counts)\n",
        "    counts = word_counts.values()\n",
        "    return (num_unique, counts)"
      ],
      "execution_count": 0,
      "outputs": []
    },
    {
      "cell_type": "markdown",
      "metadata": {
        "id": "7Crx5XBI01A5",
        "colab_type": "text"
      },
      "source": [
        "### Exercise 1 \n",
        "\n",
        "In this case study, we will find and visualize summary statistics of the text of different translations of Hamlet. For this case study, functions `count_words_fast` and `word_stats` are already defined as in the Case 2 Videos (Videos 3.2.x).\n",
        "\n",
        "#### Instructions \n",
        "- Read in the data as a pandas dataframe using `pd.read_csv`. Use the `index_col` argument to set the first column in the csv file as the index for the dataframe. The data can be found at https://courses.edx.org/asset-v1:HarvardX+PH526x+2T2019+type@asset+block@hamlets.csv"
      ]
    },
    {
      "cell_type": "code",
      "metadata": {
        "id": "YXHsVsJL01A6",
        "colab_type": "code",
        "outputId": "c8f58499-4ae5-499a-ea98-33071941fd41",
        "colab": {
          "base_uri": "https://localhost:8080/",
          "height": 137
        }
      },
      "source": [
        "hamlets = pd.read_csv(\"https://courses.edx.org/asset-v1:HarvardX+PH526x+2T2019+type@asset+block@hamlets.csv\", index_col=0)\n",
        "hamlets"
      ],
      "execution_count": 7,
      "outputs": [
        {
          "output_type": "execute_result",
          "data": {
            "text/html": [
              "<div>\n",
              "<style scoped>\n",
              "    .dataframe tbody tr th:only-of-type {\n",
              "        vertical-align: middle;\n",
              "    }\n",
              "\n",
              "    .dataframe tbody tr th {\n",
              "        vertical-align: top;\n",
              "    }\n",
              "\n",
              "    .dataframe thead th {\n",
              "        text-align: right;\n",
              "    }\n",
              "</style>\n",
              "<table border=\"1\" class=\"dataframe\">\n",
              "  <thead>\n",
              "    <tr style=\"text-align: right;\">\n",
              "      <th></th>\n",
              "      <th>language</th>\n",
              "      <th>text</th>\n",
              "    </tr>\n",
              "  </thead>\n",
              "  <tbody>\n",
              "    <tr>\n",
              "      <th>1</th>\n",
              "      <td>English</td>\n",
              "      <td>The Tragedie of Hamlet\\n                      ...</td>\n",
              "    </tr>\n",
              "    <tr>\n",
              "      <th>2</th>\n",
              "      <td>German</td>\n",
              "      <td>Hamlet, Prinz von Dännemark.\\n                ...</td>\n",
              "    </tr>\n",
              "    <tr>\n",
              "      <th>3</th>\n",
              "      <td>Portuguese</td>\n",
              "      <td>HAMLET\\n                             DRAMA EM ...</td>\n",
              "    </tr>\n",
              "  </tbody>\n",
              "</table>\n",
              "</div>"
            ],
            "text/plain": [
              "     language                                               text\n",
              "1     English  The Tragedie of Hamlet\\n                      ...\n",
              "2      German  Hamlet, Prinz von Dännemark.\\n                ...\n",
              "3  Portuguese  HAMLET\\n                             DRAMA EM ..."
            ]
          },
          "metadata": {
            "tags": []
          },
          "execution_count": 7
        }
      ]
    },
    {
      "cell_type": "markdown",
      "metadata": {
        "id": "41cTeWe601A_",
        "colab_type": "text"
      },
      "source": [
        "### Exercise 2 \n",
        "\n",
        "In this exercise, we will summarize the text for a single translation of Hamlet in a `pandas` dataframe. \n",
        "\n",
        "#### Instructions\n",
        "- Find the dictionary of word frequency in `text` by calling `count_words_fast()`. Store this as `counted_text`.\n",
        "- Create a `pandas` dataframe named `data`.\n",
        "- Using `counted_text`, define two columns in data:\n",
        "    - `word`, consisting of each unique word in text.\n",
        "    - `count`, consisting of the number of times each word in `word` is included in the text."
      ]
    },
    {
      "cell_type": "code",
      "metadata": {
        "id": "4KmB2edO01BA",
        "colab_type": "code",
        "colab": {}
      },
      "source": [
        "language, text = hamlets.iloc[0]\n",
        "\n",
        "counted_text = count_words_fast(text)\n",
        "data= pd.DataFrame(counted_text.items(), columns=[\"word\",\"count\"])"
      ],
      "execution_count": 0,
      "outputs": []
    },
    {
      "cell_type": "code",
      "metadata": {
        "id": "9_ecfFh3_kwL",
        "colab_type": "code",
        "outputId": "b1243d8c-addb-46d6-9929-e3d35d49bcef",
        "colab": {
          "base_uri": "https://localhost:8080/",
          "height": 406
        }
      },
      "source": [
        "data"
      ],
      "execution_count": 0,
      "outputs": [
        {
          "output_type": "execute_result",
          "data": {
            "text/html": [
              "<div>\n",
              "<style scoped>\n",
              "    .dataframe tbody tr th:only-of-type {\n",
              "        vertical-align: middle;\n",
              "    }\n",
              "\n",
              "    .dataframe tbody tr th {\n",
              "        vertical-align: top;\n",
              "    }\n",
              "\n",
              "    .dataframe thead th {\n",
              "        text-align: right;\n",
              "    }\n",
              "</style>\n",
              "<table border=\"1\" class=\"dataframe\">\n",
              "  <thead>\n",
              "    <tr style=\"text-align: right;\">\n",
              "      <th></th>\n",
              "      <th>word</th>\n",
              "      <th>count</th>\n",
              "    </tr>\n",
              "  </thead>\n",
              "  <tbody>\n",
              "    <tr>\n",
              "      <th>0</th>\n",
              "      <td>the</td>\n",
              "      <td>935</td>\n",
              "    </tr>\n",
              "    <tr>\n",
              "      <th>1</th>\n",
              "      <td>tragedie</td>\n",
              "      <td>3</td>\n",
              "    </tr>\n",
              "    <tr>\n",
              "      <th>2</th>\n",
              "      <td>of</td>\n",
              "      <td>576</td>\n",
              "    </tr>\n",
              "    <tr>\n",
              "      <th>3</th>\n",
              "      <td>hamlet</td>\n",
              "      <td>97</td>\n",
              "    </tr>\n",
              "    <tr>\n",
              "      <th>4</th>\n",
              "      <td></td>\n",
              "      <td>45513</td>\n",
              "    </tr>\n",
              "    <tr>\n",
              "      <th>...</th>\n",
              "      <td>...</td>\n",
              "      <td>...</td>\n",
              "    </tr>\n",
              "    <tr>\n",
              "      <th>5108</th>\n",
              "      <td>shooteexeunt</td>\n",
              "      <td>1</td>\n",
              "    </tr>\n",
              "    <tr>\n",
              "      <th>5109</th>\n",
              "      <td>marching</td>\n",
              "      <td>1</td>\n",
              "    </tr>\n",
              "    <tr>\n",
              "      <th>5110</th>\n",
              "      <td>peale</td>\n",
              "      <td>1</td>\n",
              "    </tr>\n",
              "    <tr>\n",
              "      <th>5111</th>\n",
              "      <td>ord</td>\n",
              "      <td>1</td>\n",
              "    </tr>\n",
              "    <tr>\n",
              "      <th>5112</th>\n",
              "      <td>finis</td>\n",
              "      <td>1</td>\n",
              "    </tr>\n",
              "  </tbody>\n",
              "</table>\n",
              "<p>5113 rows × 2 columns</p>\n",
              "</div>"
            ],
            "text/plain": [
              "              word  count\n",
              "0              the    935\n",
              "1         tragedie      3\n",
              "2               of    576\n",
              "3           hamlet     97\n",
              "4                   45513\n",
              "...            ...    ...\n",
              "5108  shooteexeunt      1\n",
              "5109      marching      1\n",
              "5110         peale      1\n",
              "5111           ord      1\n",
              "5112         finis      1\n",
              "\n",
              "[5113 rows x 2 columns]"
            ]
          },
          "metadata": {
            "tags": []
          },
          "execution_count": 64
        }
      ]
    },
    {
      "cell_type": "markdown",
      "metadata": {
        "id": "0EC4EOxW01BE",
        "colab_type": "text"
      },
      "source": [
        "### Exercise 3\n",
        "\n",
        "In this exercise, we will continue to define summary statistics for a single translation of Hamlet. \n",
        "\n",
        "#### Instructions\n",
        "- Add a column to data named `length`, defined as the length of each word.\n",
        "- Add another column named `frequency`, which is defined as follows for each word in `data`:\n",
        "    - If `count > 10`, `frequency` is \"frequent\".\n",
        "    - If `1 < count <= 10`, `frequency` is \"infrequent\".\n",
        "    - If `count == 1`, `frequency` is \"unique\"."
      ]
    },
    {
      "cell_type": "code",
      "metadata": {
        "id": "nuAXGS3v01BF",
        "colab_type": "code",
        "colab": {}
      },
      "source": [
        "length = [len(word_length) for word_length in data.word]\n",
        "\n",
        "data['length'] = length"
      ],
      "execution_count": 0,
      "outputs": []
    },
    {
      "cell_type": "code",
      "metadata": {
        "id": "Xzv0RO0dYLCD",
        "colab_type": "code",
        "colab": {}
      },
      "source": [
        "\n",
        "frequency = []\n",
        "for i in range(len(data)):\n",
        "  if(data['count'].loc[i]>10):\n",
        "    frequency.append(\"frequent\")\n",
        "  elif(1<data['count'].loc[i]<=10):\n",
        "    frequency.append(\"infrequent\")\n",
        "  else:\n",
        "    frequency.append(\"unique\")\n",
        "\n",
        "data['frequency'] = frequency"
      ],
      "execution_count": 0,
      "outputs": []
    },
    {
      "cell_type": "code",
      "metadata": {
        "id": "9KIeIxAyhQsj",
        "colab_type": "code",
        "outputId": "91c4e2c3-5faf-4158-f8b3-dd92126711c9",
        "colab": {
          "base_uri": "https://localhost:8080/",
          "height": 406
        }
      },
      "source": [
        "data"
      ],
      "execution_count": 43,
      "outputs": [
        {
          "output_type": "execute_result",
          "data": {
            "text/html": [
              "<div>\n",
              "<style scoped>\n",
              "    .dataframe tbody tr th:only-of-type {\n",
              "        vertical-align: middle;\n",
              "    }\n",
              "\n",
              "    .dataframe tbody tr th {\n",
              "        vertical-align: top;\n",
              "    }\n",
              "\n",
              "    .dataframe thead th {\n",
              "        text-align: right;\n",
              "    }\n",
              "</style>\n",
              "<table border=\"1\" class=\"dataframe\">\n",
              "  <thead>\n",
              "    <tr style=\"text-align: right;\">\n",
              "      <th></th>\n",
              "      <th>word</th>\n",
              "      <th>count</th>\n",
              "      <th>length</th>\n",
              "      <th>frequency</th>\n",
              "    </tr>\n",
              "  </thead>\n",
              "  <tbody>\n",
              "    <tr>\n",
              "      <th>0</th>\n",
              "      <td>the</td>\n",
              "      <td>935</td>\n",
              "      <td>3</td>\n",
              "      <td>frequent</td>\n",
              "    </tr>\n",
              "    <tr>\n",
              "      <th>1</th>\n",
              "      <td>tragedie</td>\n",
              "      <td>3</td>\n",
              "      <td>8</td>\n",
              "      <td>infrequent</td>\n",
              "    </tr>\n",
              "    <tr>\n",
              "      <th>2</th>\n",
              "      <td>of</td>\n",
              "      <td>576</td>\n",
              "      <td>2</td>\n",
              "      <td>frequent</td>\n",
              "    </tr>\n",
              "    <tr>\n",
              "      <th>3</th>\n",
              "      <td>hamlet</td>\n",
              "      <td>97</td>\n",
              "      <td>6</td>\n",
              "      <td>frequent</td>\n",
              "    </tr>\n",
              "    <tr>\n",
              "      <th>4</th>\n",
              "      <td></td>\n",
              "      <td>45513</td>\n",
              "      <td>0</td>\n",
              "      <td>frequent</td>\n",
              "    </tr>\n",
              "    <tr>\n",
              "      <th>...</th>\n",
              "      <td>...</td>\n",
              "      <td>...</td>\n",
              "      <td>...</td>\n",
              "      <td>...</td>\n",
              "    </tr>\n",
              "    <tr>\n",
              "      <th>5108</th>\n",
              "      <td>shooteexeunt</td>\n",
              "      <td>1</td>\n",
              "      <td>12</td>\n",
              "      <td>unique</td>\n",
              "    </tr>\n",
              "    <tr>\n",
              "      <th>5109</th>\n",
              "      <td>marching</td>\n",
              "      <td>1</td>\n",
              "      <td>8</td>\n",
              "      <td>unique</td>\n",
              "    </tr>\n",
              "    <tr>\n",
              "      <th>5110</th>\n",
              "      <td>peale</td>\n",
              "      <td>1</td>\n",
              "      <td>5</td>\n",
              "      <td>unique</td>\n",
              "    </tr>\n",
              "    <tr>\n",
              "      <th>5111</th>\n",
              "      <td>ord</td>\n",
              "      <td>1</td>\n",
              "      <td>3</td>\n",
              "      <td>unique</td>\n",
              "    </tr>\n",
              "    <tr>\n",
              "      <th>5112</th>\n",
              "      <td>finis</td>\n",
              "      <td>1</td>\n",
              "      <td>5</td>\n",
              "      <td>unique</td>\n",
              "    </tr>\n",
              "  </tbody>\n",
              "</table>\n",
              "<p>5113 rows × 4 columns</p>\n",
              "</div>"
            ],
            "text/plain": [
              "              word  count  length   frequency\n",
              "0              the    935       3    frequent\n",
              "1         tragedie      3       8  infrequent\n",
              "2               of    576       2    frequent\n",
              "3           hamlet     97       6    frequent\n",
              "4                   45513       0    frequent\n",
              "...            ...    ...     ...         ...\n",
              "5108  shooteexeunt      1      12      unique\n",
              "5109      marching      1       8      unique\n",
              "5110         peale      1       5      unique\n",
              "5111           ord      1       3      unique\n",
              "5112         finis      1       5      unique\n",
              "\n",
              "[5113 rows x 4 columns]"
            ]
          },
          "metadata": {
            "tags": []
          },
          "execution_count": 43
        }
      ]
    },
    {
      "cell_type": "markdown",
      "metadata": {
        "id": "NTiYpZi701BJ",
        "colab_type": "text"
      },
      "source": [
        "### Exercise 4\n",
        "\n",
        "In this exercise, we will summarize the statistics in data into a smaller pandas dataframe. \n",
        "\n",
        "#### Instructions \n",
        "- Create a `pandas` dataframe named `sub_data` including the following columns:\n",
        "    - `language`, which is the language of the text (defined in Exercise 2).\n",
        "    - `frequency`, which is a list containing the strings \"frequent\", \"infrequent\", and \"unique\".\n",
        "    - `mean_word_length`, which is the mean word length of each value in frequency.\n",
        "    - `num_words`, which is the total number of words in each frequency category."
      ]
    },
    {
      "cell_type": "code",
      "metadata": {
        "id": "208bwEFkcu39",
        "colab_type": "code",
        "colab": {}
      },
      "source": [
        "sub_data = pd.DataFrame({\n",
        "    \"language\": language,\n",
        "    \"frequency\": [\"frequent\",\"infrequent\",\"unique\"],\n",
        "    \"mean_word_length\": data.groupby(by = \"frequency\")[\"length\"].mean(),\n",
        "    \"num_words\": data.groupby(by = \"frequency\").size()\n",
        "})"
      ],
      "execution_count": 0,
      "outputs": []
    },
    {
      "cell_type": "code",
      "metadata": {
        "id": "Iqc62wWg01BJ",
        "colab_type": "code",
        "colab": {
          "base_uri": "https://localhost:8080/",
          "height": 167
        },
        "outputId": "468ec665-ed12-480c-af49-c652a2d91c49"
      },
      "source": [
        "sub_data"
      ],
      "execution_count": 26,
      "outputs": [
        {
          "output_type": "execute_result",
          "data": {
            "text/html": [
              "<div>\n",
              "<style scoped>\n",
              "    .dataframe tbody tr th:only-of-type {\n",
              "        vertical-align: middle;\n",
              "    }\n",
              "\n",
              "    .dataframe tbody tr th {\n",
              "        vertical-align: top;\n",
              "    }\n",
              "\n",
              "    .dataframe thead th {\n",
              "        text-align: right;\n",
              "    }\n",
              "</style>\n",
              "<table border=\"1\" class=\"dataframe\">\n",
              "  <thead>\n",
              "    <tr style=\"text-align: right;\">\n",
              "      <th></th>\n",
              "      <th>language</th>\n",
              "      <th>frequency</th>\n",
              "      <th>mean_word_length</th>\n",
              "      <th>num_words</th>\n",
              "    </tr>\n",
              "    <tr>\n",
              "      <th>frequency</th>\n",
              "      <th></th>\n",
              "      <th></th>\n",
              "      <th></th>\n",
              "      <th></th>\n",
              "    </tr>\n",
              "  </thead>\n",
              "  <tbody>\n",
              "    <tr>\n",
              "      <th>frequent</th>\n",
              "      <td>English</td>\n",
              "      <td>frequent</td>\n",
              "      <td>4.371517</td>\n",
              "      <td>323</td>\n",
              "    </tr>\n",
              "    <tr>\n",
              "      <th>infrequent</th>\n",
              "      <td>English</td>\n",
              "      <td>infrequent</td>\n",
              "      <td>5.825243</td>\n",
              "      <td>1442</td>\n",
              "    </tr>\n",
              "    <tr>\n",
              "      <th>unique</th>\n",
              "      <td>English</td>\n",
              "      <td>unique</td>\n",
              "      <td>7.005675</td>\n",
              "      <td>3348</td>\n",
              "    </tr>\n",
              "  </tbody>\n",
              "</table>\n",
              "</div>"
            ],
            "text/plain": [
              "           language   frequency  mean_word_length  num_words\n",
              "frequency                                                   \n",
              "frequent    English    frequent          4.371517        323\n",
              "infrequent  English  infrequent          5.825243       1442\n",
              "unique      English      unique          7.005675       3348"
            ]
          },
          "metadata": {
            "tags": []
          },
          "execution_count": 26
        }
      ]
    },
    {
      "cell_type": "markdown",
      "metadata": {
        "id": "XxWFMnOi01BN",
        "colab_type": "text"
      },
      "source": [
        "### Exercise 5\n",
        "\n",
        "In this exercise, we will join all the data summaries for text Hamlet translation.\n",
        "\n",
        "#### Instructions \n",
        "- The previous code for summarizing a particular translation of Hamlet is consolidated into a single function called `summarize_text`. Create a pandas dataframe` grouped_data` consisting of the results of `summarize_text` for each translation of Hamlet in `hamlets`.\n",
        "    - Use a `for` loop across the row indices of `hamlets` to assign each translation to a new row.\n",
        "    - Obtain the `ith` row of `hamlets` to variables using the `.iloc` method, and assign the output to variables `language` and `text`.\n",
        "    - Call `summarize_text` using `language` and `text`, and assign the output to `sub_data`.\n",
        "    - Use the pandas `.append()` function to append to pandas dataframes row-wise to `grouped_data`."
      ]
    },
    {
      "cell_type": "code",
      "metadata": {
        "id": "wYO6rGf701BO",
        "colab_type": "code",
        "colab": {}
      },
      "source": [
        "def summarize_text(language, text):\n",
        "    counted_text = count_words_fast(text)\n",
        "\n",
        "    data = pd.DataFrame({\n",
        "        \"word\": list(counted_text.keys()),\n",
        "        \"count\": list(counted_text.values())\n",
        "    })\n",
        "    \n",
        "    data.loc[data[\"count\"] > 10,  \"frequency\"] = \"frequent\"\n",
        "    data.loc[data[\"count\"] <= 10, \"frequency\"] = \"infrequent\"\n",
        "    data.loc[data[\"count\"] == 1,  \"frequency\"] = \"unique\"\n",
        "    \n",
        "    data[\"length\"] = data[\"word\"].apply(len)\n",
        "    \n",
        "    sub_data = pd.DataFrame({\n",
        "        \"language\": language,\n",
        "        \"frequency\": [\"frequent\",\"infrequent\",\"unique\"],\n",
        "        \"mean_word_length\": data.groupby(by = \"frequency\")[\"length\"].mean(),\n",
        "        \"num_words\": data.groupby(by = \"frequency\").size()\n",
        "    })\n",
        "    \n",
        "    return(sub_data)\n",
        "    \n",
        "# write your code here!\n"
      ],
      "execution_count": 0,
      "outputs": []
    },
    {
      "cell_type": "code",
      "metadata": {
        "id": "3-zQlqYjj7Bt",
        "colab_type": "code",
        "colab": {
          "base_uri": "https://localhost:8080/",
          "height": 33
        },
        "outputId": "0a68e8d3-cbc4-4ddf-e703-d145b089bb5c"
      },
      "source": [
        "len(hamlets)"
      ],
      "execution_count": 28,
      "outputs": [
        {
          "output_type": "execute_result",
          "data": {
            "text/plain": [
              "3"
            ]
          },
          "metadata": {
            "tags": []
          },
          "execution_count": 28
        }
      ]
    },
    {
      "cell_type": "code",
      "metadata": {
        "id": "7H6Je6Hjj0Oq",
        "colab_type": "code",
        "colab": {}
      },
      "source": [
        "grouped_data = pd.DataFrame()\n",
        "for i in range(len(hamlets)):\n",
        "  language, text = hamlets.iloc[i]\n",
        "  sub_data = summarize_text(language, text)\n",
        "  grouped_data = grouped_data.append(sub_data)\n",
        "\n",
        "  "
      ],
      "execution_count": 0,
      "outputs": []
    },
    {
      "cell_type": "code",
      "metadata": {
        "id": "Tcm-U3R1lT5t",
        "colab_type": "code",
        "colab": {
          "base_uri": "https://localhost:8080/",
          "height": 347
        },
        "outputId": "7b7fbda2-5e81-4d7a-c9cd-a423e7ac5d22"
      },
      "source": [
        "grouped_data"
      ],
      "execution_count": 36,
      "outputs": [
        {
          "output_type": "execute_result",
          "data": {
            "text/html": [
              "<div>\n",
              "<style scoped>\n",
              "    .dataframe tbody tr th:only-of-type {\n",
              "        vertical-align: middle;\n",
              "    }\n",
              "\n",
              "    .dataframe tbody tr th {\n",
              "        vertical-align: top;\n",
              "    }\n",
              "\n",
              "    .dataframe thead th {\n",
              "        text-align: right;\n",
              "    }\n",
              "</style>\n",
              "<table border=\"1\" class=\"dataframe\">\n",
              "  <thead>\n",
              "    <tr style=\"text-align: right;\">\n",
              "      <th></th>\n",
              "      <th>language</th>\n",
              "      <th>frequency</th>\n",
              "      <th>mean_word_length</th>\n",
              "      <th>num_words</th>\n",
              "    </tr>\n",
              "    <tr>\n",
              "      <th>frequency</th>\n",
              "      <th></th>\n",
              "      <th></th>\n",
              "      <th></th>\n",
              "      <th></th>\n",
              "    </tr>\n",
              "  </thead>\n",
              "  <tbody>\n",
              "    <tr>\n",
              "      <th>frequent</th>\n",
              "      <td>English</td>\n",
              "      <td>frequent</td>\n",
              "      <td>4.371517</td>\n",
              "      <td>323</td>\n",
              "    </tr>\n",
              "    <tr>\n",
              "      <th>infrequent</th>\n",
              "      <td>English</td>\n",
              "      <td>infrequent</td>\n",
              "      <td>5.825243</td>\n",
              "      <td>1442</td>\n",
              "    </tr>\n",
              "    <tr>\n",
              "      <th>unique</th>\n",
              "      <td>English</td>\n",
              "      <td>unique</td>\n",
              "      <td>7.005675</td>\n",
              "      <td>3348</td>\n",
              "    </tr>\n",
              "    <tr>\n",
              "      <th>frequent</th>\n",
              "      <td>German</td>\n",
              "      <td>frequent</td>\n",
              "      <td>4.528053</td>\n",
              "      <td>303</td>\n",
              "    </tr>\n",
              "    <tr>\n",
              "      <th>infrequent</th>\n",
              "      <td>German</td>\n",
              "      <td>infrequent</td>\n",
              "      <td>6.481830</td>\n",
              "      <td>1596</td>\n",
              "    </tr>\n",
              "    <tr>\n",
              "      <th>unique</th>\n",
              "      <td>German</td>\n",
              "      <td>unique</td>\n",
              "      <td>9.006987</td>\n",
              "      <td>5582</td>\n",
              "    </tr>\n",
              "    <tr>\n",
              "      <th>frequent</th>\n",
              "      <td>Portuguese</td>\n",
              "      <td>frequent</td>\n",
              "      <td>4.417625</td>\n",
              "      <td>261</td>\n",
              "    </tr>\n",
              "    <tr>\n",
              "      <th>infrequent</th>\n",
              "      <td>Portuguese</td>\n",
              "      <td>infrequent</td>\n",
              "      <td>6.497870</td>\n",
              "      <td>1643</td>\n",
              "    </tr>\n",
              "    <tr>\n",
              "      <th>unique</th>\n",
              "      <td>Portuguese</td>\n",
              "      <td>unique</td>\n",
              "      <td>8.669778</td>\n",
              "      <td>5357</td>\n",
              "    </tr>\n",
              "  </tbody>\n",
              "</table>\n",
              "</div>"
            ],
            "text/plain": [
              "              language   frequency  mean_word_length  num_words\n",
              "frequency                                                      \n",
              "frequent       English    frequent          4.371517        323\n",
              "infrequent     English  infrequent          5.825243       1442\n",
              "unique         English      unique          7.005675       3348\n",
              "frequent        German    frequent          4.528053        303\n",
              "infrequent      German  infrequent          6.481830       1596\n",
              "unique          German      unique          9.006987       5582\n",
              "frequent    Portuguese    frequent          4.417625        261\n",
              "infrequent  Portuguese  infrequent          6.497870       1643\n",
              "unique      Portuguese      unique          8.669778       5357"
            ]
          },
          "metadata": {
            "tags": []
          },
          "execution_count": 36
        }
      ]
    },
    {
      "cell_type": "markdown",
      "metadata": {
        "id": "y8lJ-tLs01BY",
        "colab_type": "text"
      },
      "source": [
        "### Exercise 6\n",
        "\n",
        "In this exercise, we will plot our results and look for differences across each translation.\n",
        "\n",
        "#### Instructions \n",
        "- Plot the word statistics of each translations on a single plot. Note that we have already done most of the work for you.\n",
        "- Consider: do the word statistics differ by translation?"
      ]
    },
    {
      "cell_type": "code",
      "metadata": {
        "id": "skTO3mlf01BZ",
        "colab_type": "code",
        "colab": {
          "base_uri": "https://localhost:8080/",
          "height": 278
        },
        "outputId": "7e034c87-cfb4-454b-ebd9-1174e3ce03e4"
      },
      "source": [
        "colors = {\"Portuguese\": \"green\", \"English\": \"blue\", \"German\": \"red\"}\n",
        "markers = {\"frequent\": \"o\",\"infrequent\": \"s\", \"unique\": \"^\"}\n",
        "import matplotlib.pyplot as plt\n",
        "for i in range(grouped_data.shape[0]):\n",
        "    row = grouped_data.iloc[i]\n",
        "    plt.plot(row.mean_word_length, row.num_words,\n",
        "        marker=markers[row.frequency],\n",
        "        color = colors[row.language],\n",
        "        markersize = 10\n",
        "    )\n",
        "\n",
        "color_legend = []\n",
        "marker_legend = []\n",
        "for color in colors:\n",
        "    color_legend.append(\n",
        "        plt.plot([], [],\n",
        "        color=colors[color],\n",
        "        marker=\"o\",\n",
        "        label = color, markersize = 10, linestyle=\"None\")\n",
        "    )\n",
        "for marker in markers:\n",
        "    marker_legend.append(\n",
        "        plt.plot([], [],\n",
        "        color=\"k\",\n",
        "        marker=markers[marker],\n",
        "        label = marker, markersize = 10, linestyle=\"None\")\n",
        "    )\n",
        "plt.legend(numpoints=1, loc = \"upper left\")\n",
        "\n",
        "plt.xlabel(\"Mean Word Length\")\n",
        "plt.ylabel(\"Number of Words\")\n",
        "# write your code to display the plot here!\n",
        "plt.show()"
      ],
      "execution_count": 44,
      "outputs": [
        {
          "output_type": "display_data",
          "data": {
            "image/png": "[encoded data removed]",
            "text/plain": [
              "<Figure size 432x288 with 1 Axes>"
            ]
          },
          "metadata": {
            "tags": [],
            "needs_background": "light"
          }
        }
      ]
    },
    {
      "cell_type": "code",
      "metadata": {
        "id": "PmJUFz2zqzlA",
        "colab_type": "code",
        "colab": {}
      },
      "source": [
        ""
      ],
      "execution_count": 0,
      "outputs": []
    }
  ]
}