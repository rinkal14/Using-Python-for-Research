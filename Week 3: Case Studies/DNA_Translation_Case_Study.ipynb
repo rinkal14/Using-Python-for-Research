{
  "nbformat": 4,
  "nbformat_minor": 0,
  "metadata": {
    "colab": {
      "name": "DNA Translation Case Study.ipynb",
      "provenance": []
    },
    "kernelspec": {
      "name": "python3",
      "display_name": "Python 3"
    }
  },
  "cells": [
    {
      "cell_type": "code",
      "metadata": {
        "id": "GnFcJoMKqjnV",
        "colab_type": "code",
        "colab": {}
      },
      "source": [
        "def read_file(input_file):\n",
        "\n",
        "  #docstring\n",
        "  \"\"\" Reads and returns the sequence with special characters removed.\"\"\"\n",
        "\n",
        "  with open(input_file, \"r\") as f:\n",
        "    seq = f.read()\n",
        "  seq = seq.replace(\"\\n\" , \"\")\n",
        "  seq = seq.replace(\"\\r\" , \"\")\n",
        "  return seq\n"
      ],
      "execution_count": 0,
      "outputs": []
    },
    {
      "cell_type": "code",
      "metadata": {
        "id": "wjPaROx1ottG",
        "colab_type": "code",
        "colab": {}
      },
      "source": [
        "dna = read_file(\"drive/My Drive/dna_case_study/dna.txt\") \n",
        "prt = read_file(\"drive/My Drive/dna_case_study/protein.txt\")    #It is a amino acid sequence corresponding to the neucleotide sequence (dna) from character 21 to 938."
      ],
      "execution_count": 0,
      "outputs": []
    },
    {
      "cell_type": "code",
      "metadata": {
        "id": "OjywJXcRrDg9",
        "colab_type": "code",
        "colab": {}
      },
      "source": [
        "def translate(seq):\n",
        "\n",
        "  #docstring\n",
        "  \"\"\"Translate is a string containing a neucleotide sequence into a string containing\n",
        "  the corresponding sequence of amino acids. Neucleotides are translated in triplets \n",
        "  using the table dictionary; each amino acid is encoded with a string of length 1.\"\"\"\n",
        "\n",
        "  table = {\n",
        "      'ATA':'I', 'ATC':'I', 'ATT':'I', 'ATG':'M',\n",
        "      'ACA':'T', 'ACC':'T', 'ACG':'T', 'ACT':'T',\n",
        "      'AAC':'N', 'AAT':'N', 'AAA':'K', 'AAG':'K',\n",
        "      'AGC':'S', 'AGT':'S', 'AGA':'R', 'AGG':'R',\n",
        "      'CTA':'L', 'CTC':'L', 'CTG':'L', 'CTT':'L',\n",
        "      'CCA':'P', 'CCC':'P', 'CCG':'P', 'CCT':'P',\n",
        "      'CAC':'H', 'CAT':'H', 'CAA':'Q', 'CAG':'Q',\n",
        "      'CGA':'R', 'CGC':'R', 'CGG':'R', 'CGT':'R',\n",
        "      'GTA':'V', 'GTC':'V', 'GTG':'V', 'GTT':'V',\n",
        "      'GCA':'A', 'GCC':'A', 'GCG':'A', 'GCT':'A',\n",
        "      'GAC':'D', 'GAT':'D', 'GAA':'E', 'GAG':'E',\n",
        "      'GGA':'G', 'GGC':'G', 'GGG':'G', 'GGT':'G',\n",
        "      'TCA':'S', 'TCC':'S', 'TCG':'S', 'TCT':'S',\n",
        "      'TTC':'F', 'TTT':'F', 'TTA':'L', 'TTG':'L',\n",
        "      'TAC':'Y', 'TAT':'Y', 'TAA':'_', 'TAG':'_',\n",
        "      'TGC':'C', 'TGT':'C', 'TGA':'_', 'TGG':'W',\n",
        "  }\n",
        "\n",
        "  protein = \"\"\n",
        "  if (len(seq)%3 == 0):\n",
        "    \n",
        "    for i in range(0, len(seq), 3):\n",
        "      codon = seq[i : i+3]\n",
        "      protein += table[codon]\n",
        "    \n",
        "  return protein"
      ],
      "execution_count": 0,
      "outputs": []
    },
    {
      "cell_type": "code",
      "metadata": {
        "id": "N0XXN_rH5hPV",
        "colab_type": "code",
        "colab": {
          "base_uri": "https://localhost:8080/",
          "height": 33
        },
        "outputId": "20f8b215-2d6f-4f69-9cd8-203710c2fac4"
      },
      "source": [
        "translate(\"ATA\")"
      ],
      "execution_count": 4,
      "outputs": [
        {
          "output_type": "execute_result",
          "data": {
            "text/plain": [
              "'I'"
            ]
          },
          "metadata": {
            "tags": []
          },
          "execution_count": 4
        }
      ]
    },
    {
      "cell_type": "code",
      "metadata": {
        "id": "V9EjQNthMurr",
        "colab_type": "code",
        "colab": {
          "base_uri": "https://localhost:8080/",
          "height": 33
        },
        "outputId": "065c6bcf-7f05-4347-e939-86d9c452b80d"
      },
      "source": [
        "translate(\"GCC\")"
      ],
      "execution_count": 5,
      "outputs": [
        {
          "output_type": "execute_result",
          "data": {
            "text/plain": [
              "'A'"
            ]
          },
          "metadata": {
            "tags": []
          },
          "execution_count": 5
        }
      ]
    },
    {
      "cell_type": "code",
      "metadata": {
        "id": "iSwYLaU9Mwa8",
        "colab_type": "code",
        "colab": {
          "base_uri": "https://localhost:8080/",
          "height": 133
        },
        "outputId": "33b8092f-ff33-4f3c-9761-ee77eadc2d4e"
      },
      "source": [
        "help(translate)"
      ],
      "execution_count": 6,
      "outputs": [
        {
          "output_type": "stream",
          "text": [
            "Help on function translate in module __main__:\n",
            "\n",
            "translate(seq)\n",
            "    Translate is a string containing a neucleotide sequence into a string containing\n",
            "    the corresponding sequence of amino acids. Neucleotides are translated in triplets \n",
            "    using the table dictionary; each amino acid is encoded with a string of length 1.\n",
            "\n"
          ],
          "name": "stdout"
        }
      ]
    },
    {
      "cell_type": "code",
      "metadata": {
        "id": "K7eV8jqJNYZo",
        "colab_type": "code",
        "colab": {
          "base_uri": "https://localhost:8080/",
          "height": 53
        },
        "outputId": "b01624e2-e4f7-47b4-c157-c3c3a056375f"
      },
      "source": [
        "translate(dna[20:938])"
      ],
      "execution_count": 7,
      "outputs": [
        {
          "output_type": "execute_result",
          "data": {
            "text/plain": [
              "'MSTHDTSLKTTEEVAFQIILLCQFGVGTFANVFLFVYNFSPISTGSKQRPRQVILRHMAVANALTLFLTIFPNNMMTFAPIIPQTDLKCKLEFFTRLVARSTNLCSTCVLSIHQFVTLVPVNSGKGILRASVTNMASYSCYSCWFFSVLNNIYIPIKVTGPQLTDNNNNSKSKLFCSTSDFSVGIVFLRFAHDATFMSIMVWTSVSMVLLLHRHCQRMQYIFTLNQDPRGQAETTATHTILMLVVTFVGFYLLSLICIIFYTYFIYSHHSLRHCNDILVSGFPTISPLLLTFRDPKGPCSVFFNC_'"
            ]
          },
          "metadata": {
            "tags": []
          },
          "execution_count": 7
        }
      ]
    },
    {
      "cell_type": "code",
      "metadata": {
        "id": "KQhdm_8uRmF-",
        "colab_type": "code",
        "colab": {
          "base_uri": "https://localhost:8080/",
          "height": 53
        },
        "outputId": "ef95a086-b14e-4101-8a4b-990b12ba45cf"
      },
      "source": [
        "translate(dna[20:938])[:-1]"
      ],
      "execution_count": 8,
      "outputs": [
        {
          "output_type": "execute_result",
          "data": {
            "text/plain": [
              "'MSTHDTSLKTTEEVAFQIILLCQFGVGTFANVFLFVYNFSPISTGSKQRPRQVILRHMAVANALTLFLTIFPNNMMTFAPIIPQTDLKCKLEFFTRLVARSTNLCSTCVLSIHQFVTLVPVNSGKGILRASVTNMASYSCYSCWFFSVLNNIYIPIKVTGPQLTDNNNNSKSKLFCSTSDFSVGIVFLRFAHDATFMSIMVWTSVSMVLLLHRHCQRMQYIFTLNQDPRGQAETTATHTILMLVVTFVGFYLLSLICIIFYTYFIYSHHSLRHCNDILVSGFPTISPLLLTFRDPKGPCSVFFNC'"
            ]
          },
          "metadata": {
            "tags": []
          },
          "execution_count": 8
        }
      ]
    },
    {
      "cell_type": "code",
      "metadata": {
        "id": "KUZ5-9TNRtwG",
        "colab_type": "code",
        "colab": {
          "base_uri": "https://localhost:8080/",
          "height": 53
        },
        "outputId": "f6ad2fb6-aeca-4ab7-e073-d02ce033a289"
      },
      "source": [
        "prt"
      ],
      "execution_count": 9,
      "outputs": [
        {
          "output_type": "execute_result",
          "data": {
            "text/plain": [
              "'MSTHDTSLKTTEEVAFQIILLCQFGVGTFANVFLFVYNFSPISTGSKQRPRQVILRHMAVANALTLFLTIFPNNMMTFAPIIPQTDLKCKLEFFTRLVARSTNLCSTCVLSIHQFVTLVPVNSGKGILRASVTNMASYSCYSCWFFSVLNNIYIPIKVTGPQLTDNNNNSKSKLFCSTSDFSVGIVFLRFAHDATFMSIMVWTSVSMVLLLHRHCQRMQYIFTLNQDPRGQAETTATHTILMLVVTFVGFYLLSLICIIFYTYFIYSHHSLRHCNDILVSGFPTISPLLLTFRDPKGPCSVFFNC'"
            ]
          },
          "metadata": {
            "tags": []
          },
          "execution_count": 9
        }
      ]
    },
    {
      "cell_type": "code",
      "metadata": {
        "id": "9VH_fE4gRzWp",
        "colab_type": "code",
        "colab": {
          "base_uri": "https://localhost:8080/",
          "height": 33
        },
        "outputId": "e2ea0845-c45b-49b5-c8f2-01a44371f77d"
      },
      "source": [
        "prt == translate(dna[20:938])[:-1]"
      ],
      "execution_count": 10,
      "outputs": [
        {
          "output_type": "execute_result",
          "data": {
            "text/plain": [
              "True"
            ]
          },
          "metadata": {
            "tags": []
          },
          "execution_count": 10
        }
      ]
    },
    {
      "cell_type": "code",
      "metadata": {
        "id": "-COeZeiHVfYC",
        "colab_type": "code",
        "colab": {}
      },
      "source": [
        ""
      ],
      "execution_count": 0,
      "outputs": []
    }
  ]
}