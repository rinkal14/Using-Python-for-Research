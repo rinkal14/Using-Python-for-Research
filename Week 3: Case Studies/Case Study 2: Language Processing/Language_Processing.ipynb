{
  "nbformat": 4,
  "nbformat_minor": 0,
  "metadata": {
    "colab": {
      "name": "Language Processing.ipynb",
      "provenance": []
    },
    "kernelspec": {
      "name": "python3",
      "display_name": "Python 3"
    }
  },
  "cells": [
    {
      "cell_type": "code",
      "metadata": {
        "id": "24hbCQPLmpXv",
        "colab_type": "code",
        "colab": {}
      },
      "source": [
        "def count_words(text):\n",
        "\n",
        "  \"\"\"\" Counts and returns the dictionary of unique words in the text with its word counts\"\"\"\n",
        "  \n",
        "  text = text.lower()\n",
        "  skips = [\".\", \",\", \";\", \":\", \"'\", '\"']\n",
        "  for ch in skips:\n",
        "    text= text.replace(ch, \"\")\n",
        "  word_counts={}\n",
        "  for word in text.split(\" \"):\n",
        "    if (word in word_counts):\n",
        "      word_counts[word] += 1\n",
        "    else:\n",
        "      word_counts[word] = 1\n",
        "  return word_counts   "
      ],
      "execution_count": 0,
      "outputs": []
    },
    {
      "cell_type": "code",
      "metadata": {
        "id": "qwdbecZ38pIV",
        "colab_type": "code",
        "colab": {}
      },
      "source": [
        " from collections import Counter\n",
        "\n",
        " def count_words_fast(text):\n",
        "\n",
        "   \"\"\"\" Counts and returns the dictionary of unique words in the text with its word counts using Counter. \"\"\"\n",
        "\n",
        "  text = text.lower()\n",
        "  skips = [\".\", \",\", \";\", \":\", \"'\", '\"']\n",
        "  for ch in skips:\n",
        "    text= text.replace(ch, \"\")\n",
        "  word_counts = Counter(text.split(\" \"))\n",
        "  return word_counts"
      ],
      "execution_count": 0,
      "outputs": []
    },
    {
      "cell_type": "code",
      "metadata": {
        "id": "I3cq7uITiKjL",
        "colab_type": "code",
        "colab": {}
      },
      "source": [
        "text = \"This is my test text. We're keeping this text short to keep things manageable.\""
      ],
      "execution_count": 0,
      "outputs": []
    },
    {
      "cell_type": "code",
      "metadata": {
        "id": "lnjEnKmGiGbZ",
        "colab_type": "code",
        "colab": {
          "base_uri": "https://localhost:8080/",
          "height": 216
        },
        "outputId": "d61ab613-f883-4259-b2d3-62b806a08b30"
      },
      "source": [
        "count_words_fast(text)"
      ],
      "execution_count": 37,
      "outputs": [
        {
          "output_type": "execute_result",
          "data": {
            "text/plain": [
              "Counter({'is': 1,\n",
              "         'keep': 1,\n",
              "         'keeping': 1,\n",
              "         'manageable': 1,\n",
              "         'my': 1,\n",
              "         'short': 1,\n",
              "         'test': 1,\n",
              "         'text': 2,\n",
              "         'things': 1,\n",
              "         'this': 2,\n",
              "         'to': 1,\n",
              "         'were': 1})"
            ]
          },
          "metadata": {
            "tags": []
          },
          "execution_count": 37
        }
      ]
    },
    {
      "cell_type": "code",
      "metadata": {
        "id": "_ed8CBz2iOFG",
        "colab_type": "code",
        "colab": {
          "base_uri": "https://localhost:8080/",
          "height": 33
        },
        "outputId": "e36a808a-bd90-4003-a302-d07525f04738"
      },
      "source": [
        "len(count_words(\"This comprehension check is to check for comprehension.\"))"
      ],
      "execution_count": 38,
      "outputs": [
        {
          "output_type": "execute_result",
          "data": {
            "text/plain": [
              "6"
            ]
          },
          "metadata": {
            "tags": []
          },
          "execution_count": 38
        }
      ]
    },
    {
      "cell_type": "code",
      "metadata": {
        "id": "_jWZAp_3svGN",
        "colab_type": "code",
        "colab": {}
      },
      "source": [
        "def read_book(title):\n",
        "  \"\"\" Reads a book and return it as a string. \"\"\" \n",
        "  with open(title, \"r\", encoding= \"utf8\") as current_file:\n",
        "    text = current_file.read()\n",
        "    text.replace(\"\\n\", \"\").replace(\"\\r\", \"\")\n",
        "  return text"
      ],
      "execution_count": 0,
      "outputs": []
    },
    {
      "cell_type": "code",
      "metadata": {
        "id": "9wdJFv4mxPtF",
        "colab_type": "code",
        "colab": {}
      },
      "source": [
        "def word_stats(word_counts):\n",
        "  \"\"\" Returns number of  unique words and word frequencies.\"\"\"\n",
        "  num_unique = len(word_counts)\n",
        "  counts = word_counts.values()\n",
        "  return (num_unique, counts)"
      ],
      "execution_count": 0,
      "outputs": []
    },
    {
      "cell_type": "code",
      "metadata": {
        "id": "OUwVE5YlywH-",
        "colab_type": "code",
        "colab": {}
      },
      "source": [
        "import os\n",
        "import pandas as pd\n",
        "import matplotlib.pyplot as plt"
      ],
      "execution_count": 0,
      "outputs": []
    },
    {
      "cell_type": "code",
      "metadata": {
        "id": "tHWtWv8o-Unv",
        "colab_type": "code",
        "colab": {}
      },
      "source": [
        "book_dir = 'drive/My Drive/Language Processing Case Study/Books'"
      ],
      "execution_count": 0,
      "outputs": []
    },
    {
      "cell_type": "code",
      "metadata": {
        "id": "vw90IduO-XKA",
        "colab_type": "code",
        "colab": {
          "base_uri": "https://localhost:8080/",
          "height": 33
        },
        "outputId": "f973d5c1-0365-4a95-a76c-f228824da438"
      },
      "source": [
        "os.listdir(book_dir)"
      ],
      "execution_count": 45,
      "outputs": [
        {
          "output_type": "execute_result",
          "data": {
            "text/plain": [
              "['French', 'English', 'Portuguese', 'German']"
            ]
          },
          "metadata": {
            "tags": []
          },
          "execution_count": 45
        }
      ]
    },
    {
      "cell_type": "code",
      "metadata": {
        "id": "V9Dtc_bP-Z-t",
        "colab_type": "code",
        "colab": {
          "base_uri": "https://localhost:8080/",
          "height": 33
        },
        "outputId": "67535e72-ba92-4c85-ffb5-deb24ee2f596"
      },
      "source": [
        "print(type(os.listdir(book_dir)))"
      ],
      "execution_count": 46,
      "outputs": [
        {
          "output_type": "stream",
          "text": [
            "<class 'list'>\n"
          ],
          "name": "stdout"
        }
      ]
    },
    {
      "cell_type": "code",
      "metadata": {
        "id": "jVmeiIn3-a5N",
        "colab_type": "code",
        "colab": {
          "base_uri": "https://localhost:8080/",
          "height": 1000
        },
        "outputId": "215c5d2f-d348-4885-f466-e5c6832bf304"
      },
      "source": [
        "book_dir = 'drive/My Drive/Language Processing Case Study/Books'\n",
        "\n",
        "import pandas as pd\n",
        "stats = pd.DataFrame(columns = ('Language', 'Author', 'Title', 'Length', 'Unique' ))\n",
        "title_num = 1\n",
        "for language in os.listdir(book_dir):\n",
        "    for author in os.listdir(book_dir + \"/\" + language):\n",
        "        for title in os.listdir(book_dir + \"/\" + language + '/' + author):\n",
        "            inputfile = book_dir + '/' + language + '/' + author + '/' + title\n",
        "            print(inputfile)\n",
        "            text = read_book(inputfile)\n",
        "            (num_unique, counts) = word_stats(count_words(text))\n",
        "            #Capitalize Author\n",
        "            #remove txt from title\n",
        "            stats.loc[title_num] = language, author.capitalize(), title.replace('.txt', ''), sum(counts), num_unique\n",
        "            title_num += 1"
      ],
      "execution_count": 56,
      "outputs": [
        {
          "output_type": "stream",
          "text": [
            "drive/My Drive/Language Processing Case Study/Books/French/diderot/Entretien d'un pa╠êre avec ses enfants.txt\n",
            "drive/My Drive/Language Processing Case Study/Books/French/diderot/Regrets sur ma vieille robe de chambre.txt\n",
            "drive/My Drive/Language Processing Case Study/Books/French/diderot/L'oiseau blanc.txt\n",
            "drive/My Drive/Language Processing Case Study/Books/French/diderot/Les deux amis de Bourbonne.txt\n",
            "drive/My Drive/Language Processing Case Study/Books/French/diderot/Ceci n'est pas un conte.txt\n",
            "drive/My Drive/Language Processing Case Study/Books/French/sand/Jacques le fataliste et son maa╠ètre.txt\n",
            "drive/My Drive/Language Processing Case Study/Books/French/sand/La Coupe; Lupo Liverani; Le Toast; Garnier; Le Contrebandier; La Ra╠Çverie O╠ê Paris.txt\n",
            "drive/My Drive/Language Processing Case Study/Books/French/sand/cora.txt\n",
            "drive/My Drive/Language Processing Case Study/Books/French/sand/L' Orco.txt\n",
            "drive/My Drive/Language Processing Case Study/Books/French/sand/Metella.txt\n",
            "drive/My Drive/Language Processing Case Study/Books/French/sand/Mattea.txt\n",
            "drive/My Drive/Language Processing Case Study/Books/French/sand/Le Piccinino.txt\n",
            "drive/My Drive/Language Processing Case Study/Books/French/sand/Le poa╠éme de Myrza.txt\n",
            "drive/My Drive/Language Processing Case Study/Books/French/sand/Oeuvres illustrC╠ºes de George Sand.txt\n",
            "drive/My Drive/Language Processing Case Study/Books/French/sand/La Marquise.txt\n",
            "drive/My Drive/Language Processing Case Study/Books/French/sand/Pauline.txt\n",
            "drive/My Drive/Language Processing Case Study/Books/French/chevalier/Le chasseur noir.txt\n",
            "drive/My Drive/Language Processing Case Study/Books/French/chevalier/La fille du pirate.txt\n",
            "drive/My Drive/Language Processing Case Study/Books/French/chevalier/La capitaine.txt\n",
            "drive/My Drive/Language Processing Case Study/Books/French/chevalier/La fille des indiens rouges.txt\n",
            "drive/My Drive/Language Processing Case Study/Books/French/chevalier/Les derniers Iroquois.txt\n",
            "drive/My Drive/Language Processing Case Study/Books/French/chevalier/L'enfer et le paradis de l'autre monde.txt\n",
            "drive/My Drive/Language Processing Case Study/Books/French/chevalier/L'a╠èle de sable.txt\n",
            "drive/My Drive/Language Processing Case Study/Books/French/de Maupassant/Le Horla.txt\n",
            "drive/My Drive/Language Processing Case Study/Books/French/de Maupassant/Claire de Lune.txt\n",
            "drive/My Drive/Language Processing Case Study/Books/French/de Maupassant/Contes de la Becasse.txt\n",
            "drive/My Drive/Language Processing Case Study/Books/French/de Maupassant/Boule de Suif.txt\n",
            "drive/My Drive/Language Processing Case Study/Books/French/de Maupassant/La Maison Tellier.txt\n",
            "drive/My Drive/Language Processing Case Study/Books/French/de Maupassant/L'inutile beautC╠º.txt\n",
            "drive/My Drive/Language Processing Case Study/Books/French/de Maupassant/La petite roque.txt\n",
            "drive/My Drive/Language Processing Case Study/Books/French/de Maupassant/┼Æuvres comple╠Çtes de Guy de Maupassant.txt\n",
            "drive/My Drive/Language Processing Case Study/Books/French/de Maupassant/La Main Gauche.txt\n",
            "drive/My Drive/Language Processing Case Study/Books/English/shakespeare/The Merchant of Venice.txt\n",
            "drive/My Drive/Language Processing Case Study/Books/English/shakespeare/Romeo and Juliet.txt\n",
            "drive/My Drive/Language Processing Case Study/Books/English/shakespeare/A Midsummer Night's Dream.txt\n",
            "drive/My Drive/Language Processing Case Study/Books/English/shakespeare/Richard III.txt\n",
            "drive/My Drive/Language Processing Case Study/Books/English/shakespeare/Hamlet.txt\n",
            "drive/My Drive/Language Processing Case Study/Books/English/shakespeare/Othello.txt\n",
            "drive/My Drive/Language Processing Case Study/Books/English/shakespeare/Macbeth.txt\n",
            "drive/My Drive/Language Processing Case Study/Books/Portuguese/branco/O que fazem mulheres.txt\n",
            "drive/My Drive/Language Processing Case Study/Books/Portuguese/branco/O Regicida.txt\n",
            "drive/My Drive/Language Processing Case Study/Books/Portuguese/branco/Scenas Contemporaneas.txt\n",
            "drive/My Drive/Language Processing Case Study/Books/Portuguese/branco/Lagrimas Abena╠üoadas.txt\n",
            "drive/My Drive/Language Processing Case Study/Books/Portuguese/branco/O Olho de Vidro.txt\n",
            "drive/My Drive/Language Processing Case Study/Books/Portuguese/branco/Livro de Consolac╠ºa╠âo.txt\n",
            "drive/My Drive/Language Processing Case Study/Books/Portuguese/branco/A Filha do Arcediago.txt\n",
            "drive/My Drive/Language Processing Case Study/Books/Portuguese/branco/A Queda d'um Anjo.txt\n",
            "drive/My Drive/Language Processing Case Study/Books/Portuguese/branco/A Neta do Arcediago.txt\n",
            "drive/My Drive/Language Processing Case Study/Books/Portuguese/branco/Agulha em Palheiro.txt\n",
            "drive/My Drive/Language Processing Case Study/Books/Portuguese/branco/Amor de Perdic╠ºa╠âo.txt\n",
            "drive/My Drive/Language Processing Case Study/Books/Portuguese/branco/Amor de Salvac╠ºa╠âo.txt\n",
            "drive/My Drive/Language Processing Case Study/Books/Portuguese/branco/Annos de Prosa.txt\n",
            "drive/My Drive/Language Processing Case Study/Books/Portuguese/branco/Carlota Angela.txt\n",
            "drive/My Drive/Language Processing Case Study/Books/Portuguese/branco/Estrellas Prop┬░cias.txt\n",
            "drive/My Drive/Language Processing Case Study/Books/Portuguese/branco/Estrellas Funestas.txt\n",
            "drive/My Drive/Language Processing Case Study/Books/Portuguese/dinis/A Morgadinha dos Cannaviaes.txt\n",
            "drive/My Drive/Language Processing Case Study/Books/Portuguese/dinis/Uma fam┬░lia ingleza.txt\n",
            "drive/My Drive/Language Processing Case Study/Books/Portuguese/dinis/Os fidalgos da Casa Mourisca.txt\n",
            "drive/My Drive/Language Processing Case Study/Books/Portuguese/shakespeare/Hamlet.txt\n",
            "drive/My Drive/Language Processing Case Study/Books/Portuguese/Queir┬ós/A Cidade e as Serras.txt\n",
            "drive/My Drive/Language Processing Case Study/Books/Portuguese/Queir┬ós/A corresponda╠Çncia de Fradique Mendes.txt\n",
            "drive/My Drive/Language Processing Case Study/Books/Portuguese/Queir┬ós/A Illustre Casa de Ramires.txt\n",
            "drive/My Drive/Language Processing Case Study/Books/Portuguese/Queir┬ós/A Rel┬░quia.txt\n",
            "drive/My Drive/Language Processing Case Study/Books/Portuguese/Queir┬ós/Cartas de Inglaterra.txt\n",
            "drive/My Drive/Language Processing Case Study/Books/Portuguese/Queir┬ós/O crime do padre Amaro.txt\n",
            "drive/My Drive/Language Processing Case Study/Books/Portuguese/Queir┬ós/Os Maias.txt\n",
            "drive/My Drive/Language Processing Case Study/Books/Portuguese/Queir┬ós/O Primo Bazilio.txt\n",
            "drive/My Drive/Language Processing Case Study/Books/Portuguese/Queir┬ós/O Mandarim.txt\n",
            "drive/My Drive/Language Processing Case Study/Books/German/lessing/der junge gelehrte.txt\n",
            "drive/My Drive/Language Processing Case Study/Books/German/lessing/minna von barnhelm.txt\n",
            "drive/My Drive/Language Processing Case Study/Books/German/lessing/miss sara sampson.txt\n",
            "drive/My Drive/Language Processing Case Study/Books/German/lessing/emilia galotti.txt\n",
            "drive/My Drive/Language Processing Case Study/Books/German/lessing/philotas.txt\n",
            "drive/My Drive/Language Processing Case Study/Books/German/lessing/hamburgische dramaturgie.txt\n",
            "drive/My Drive/Language Processing Case Study/Books/German/lessing/die juden.txt\n",
            "drive/My Drive/Language Processing Case Study/Books/German/lessing/der freigeist.txt\n",
            "drive/My Drive/Language Processing Case Study/Books/German/raimund/Die unheilbringende Krone.txt\n",
            "drive/My Drive/Language Processing Case Study/Books/German/raimund/Der Verschwender.txt\n",
            "drive/My Drive/Language Processing Case Study/Books/German/raimund/Der Diamant des Geisterki╠énigs.txt\n",
            "drive/My Drive/Language Processing Case Study/Books/German/raimund/Das MN╠âdchen aus der Feenwelt.txt\n",
            "drive/My Drive/Language Processing Case Study/Books/German/raimund/Die gefesselte Phantasie.txt\n",
            "drive/My Drive/Language Processing Case Study/Books/German/raimund/Der Alpenki╠énig und der Menschenfeind.txt\n",
            "drive/My Drive/Language Processing Case Study/Books/German/raimund/Moisasurs Zauberfluch.txt\n",
            "drive/My Drive/Language Processing Case Study/Books/German/raimund/Der Barometermacher auf der Zauberinsel.txt\n",
            "drive/My Drive/Language Processing Case Study/Books/German/schiller/Wallensteins Tod.txt\n",
            "drive/My Drive/Language Processing Case Study/Books/German/schiller/die braut von messina.txt\n",
            "drive/My Drive/Language Processing Case Study/Books/German/schiller/Die Verschwi╠érung des Fiesco zu Genua.txt\n",
            "drive/My Drive/Language Processing Case Study/Books/German/schiller/Der Parasit, oder die Kunst, sein GlA╠èck zu machen.txt\n",
            "drive/My Drive/Language Processing Case Study/Books/German/schiller/Die Jungfrau von Orleans.txt\n",
            "drive/My Drive/Language Processing Case Study/Books/German/schiller/Die Piccolomini.txt\n",
            "drive/My Drive/Language Processing Case Study/Books/German/schiller/Der Neffe als Onkel.txt\n",
            "drive/My Drive/Language Processing Case Study/Books/German/schiller/Turandot, Prinzessin von China.txt\n",
            "drive/My Drive/Language Processing Case Study/Books/German/schiller/Kabale und Liebe.txt\n",
            "drive/My Drive/Language Processing Case Study/Books/German/schiller/Wallensteins Lager.txt\n",
            "drive/My Drive/Language Processing Case Study/Books/German/schiller/Die Huldigung der KA╠ènste.txt\n",
            "drive/My Drive/Language Processing Case Study/Books/German/shakespeare/Othello.txt\n",
            "drive/My Drive/Language Processing Case Study/Books/German/shakespeare/Richard III.txt\n",
            "drive/My Drive/Language Processing Case Study/Books/German/shakespeare/Romeo und Julia.txt\n",
            "drive/My Drive/Language Processing Case Study/Books/German/shakespeare/Hamlet.txt\n",
            "drive/My Drive/Language Processing Case Study/Books/German/shakespeare/Macbeth.txt\n",
            "drive/My Drive/Language Processing Case Study/Books/German/shakespeare/Der Kaufmann von Venedig.txt\n",
            "drive/My Drive/Language Processing Case Study/Books/German/shakespeare/Ein Sommernachtstraum.txt\n"
          ],
          "name": "stdout"
        }
      ]
    },
    {
      "cell_type": "code",
      "metadata": {
        "id": "iyNdU8UO-xnA",
        "colab_type": "code",
        "colab": {
          "base_uri": "https://localhost:8080/",
          "height": 406
        },
        "outputId": "12664724-faad-42e9-c82e-d382875874e3"
      },
      "source": [
        "stats"
      ],
      "execution_count": 57,
      "outputs": [
        {
          "output_type": "execute_result",
          "data": {
            "text/html": [
              "<div>\n",
              "<style scoped>\n",
              "    .dataframe tbody tr th:only-of-type {\n",
              "        vertical-align: middle;\n",
              "    }\n",
              "\n",
              "    .dataframe tbody tr th {\n",
              "        vertical-align: top;\n",
              "    }\n",
              "\n",
              "    .dataframe thead th {\n",
              "        text-align: right;\n",
              "    }\n",
              "</style>\n",
              "<table border=\"1\" class=\"dataframe\">\n",
              "  <thead>\n",
              "    <tr style=\"text-align: right;\">\n",
              "      <th></th>\n",
              "      <th>Language</th>\n",
              "      <th>Author</th>\n",
              "      <th>Title</th>\n",
              "      <th>Length</th>\n",
              "      <th>Unique</th>\n",
              "    </tr>\n",
              "  </thead>\n",
              "  <tbody>\n",
              "    <tr>\n",
              "      <th>1</th>\n",
              "      <td>French</td>\n",
              "      <td>Diderot</td>\n",
              "      <td>Entretien d'un pa╠êre avec ses enfants</td>\n",
              "      <td>11125</td>\n",
              "      <td>3748</td>\n",
              "    </tr>\n",
              "    <tr>\n",
              "      <th>2</th>\n",
              "      <td>French</td>\n",
              "      <td>Diderot</td>\n",
              "      <td>Regrets sur ma vieille robe de chambre</td>\n",
              "      <td>4980</td>\n",
              "      <td>1895</td>\n",
              "    </tr>\n",
              "    <tr>\n",
              "      <th>3</th>\n",
              "      <td>French</td>\n",
              "      <td>Diderot</td>\n",
              "      <td>L'oiseau blanc</td>\n",
              "      <td>21973</td>\n",
              "      <td>6371</td>\n",
              "    </tr>\n",
              "    <tr>\n",
              "      <th>4</th>\n",
              "      <td>French</td>\n",
              "      <td>Diderot</td>\n",
              "      <td>Les deux amis de Bourbonne</td>\n",
              "      <td>8510</td>\n",
              "      <td>2977</td>\n",
              "    </tr>\n",
              "    <tr>\n",
              "      <th>5</th>\n",
              "      <td>French</td>\n",
              "      <td>Diderot</td>\n",
              "      <td>Ceci n'est pas un conte</td>\n",
              "      <td>10938</td>\n",
              "      <td>3741</td>\n",
              "    </tr>\n",
              "    <tr>\n",
              "      <th>...</th>\n",
              "      <td>...</td>\n",
              "      <td>...</td>\n",
              "      <td>...</td>\n",
              "      <td>...</td>\n",
              "      <td>...</td>\n",
              "    </tr>\n",
              "    <tr>\n",
              "      <th>98</th>\n",
              "      <td>German</td>\n",
              "      <td>Shakespeare</td>\n",
              "      <td>Romeo und Julia</td>\n",
              "      <td>20311</td>\n",
              "      <td>7564</td>\n",
              "    </tr>\n",
              "    <tr>\n",
              "      <th>99</th>\n",
              "      <td>German</td>\n",
              "      <td>Shakespeare</td>\n",
              "      <td>Hamlet</td>\n",
              "      <td>31635</td>\n",
              "      <td>9717</td>\n",
              "    </tr>\n",
              "    <tr>\n",
              "      <th>100</th>\n",
              "      <td>German</td>\n",
              "      <td>Shakespeare</td>\n",
              "      <td>Macbeth</td>\n",
              "      <td>19311</td>\n",
              "      <td>6782</td>\n",
              "    </tr>\n",
              "    <tr>\n",
              "      <th>101</th>\n",
              "      <td>German</td>\n",
              "      <td>Shakespeare</td>\n",
              "      <td>Der Kaufmann von Venedig</td>\n",
              "      <td>20600</td>\n",
              "      <td>7152</td>\n",
              "    </tr>\n",
              "    <tr>\n",
              "      <th>102</th>\n",
              "      <td>German</td>\n",
              "      <td>Shakespeare</td>\n",
              "      <td>Ein Sommernachtstraum</td>\n",
              "      <td>16648</td>\n",
              "      <td>6488</td>\n",
              "    </tr>\n",
              "  </tbody>\n",
              "</table>\n",
              "<p>102 rows × 5 columns</p>\n",
              "</div>"
            ],
            "text/plain": [
              "    Language       Author  ... Length Unique\n",
              "1     French      Diderot  ...  11125   3748\n",
              "2     French      Diderot  ...   4980   1895\n",
              "3     French      Diderot  ...  21973   6371\n",
              "4     French      Diderot  ...   8510   2977\n",
              "5     French      Diderot  ...  10938   3741\n",
              "..       ...          ...  ...    ...    ...\n",
              "98    German  Shakespeare  ...  20311   7564\n",
              "99    German  Shakespeare  ...  31635   9717\n",
              "100   German  Shakespeare  ...  19311   6782\n",
              "101   German  Shakespeare  ...  20600   7152\n",
              "102   German  Shakespeare  ...  16648   6488\n",
              "\n",
              "[102 rows x 5 columns]"
            ]
          },
          "metadata": {
            "tags": []
          },
          "execution_count": 57
        }
      ]
    },
    {
      "cell_type": "code",
      "metadata": {
        "id": "H00_qQ3sFiKE",
        "colab_type": "code",
        "colab": {
          "base_uri": "https://localhost:8080/",
          "height": 264
        },
        "outputId": "1b139d75-ef3b-41bf-b6b3-084e91c75764"
      },
      "source": [
        "plt.plot(stats.Length, stats.Unique, 'bo')\n",
        "plt.show()"
      ],
      "execution_count": 59,
      "outputs": [
        {
          "output_type": "display_data",
          "data": {
            "image/png": "[encoded data removed]",
            "text/plain": [
              "<Figure size 432x288 with 1 Axes>"
            ]
          },
          "metadata": {
            "tags": [],
            "needs_background": "light"
          }
        }
      ]
    },
    {
      "cell_type": "code",
      "metadata": {
        "id": "RcDYJeFgFmhc",
        "colab_type": "code",
        "colab": {
          "base_uri": "https://localhost:8080/",
          "height": 268
        },
        "outputId": "f059fcde-fa42-44b1-a07d-d06d3f4480d3"
      },
      "source": [
        "plt.loglog(stats.Length, stats.Unique, 'bo')\n",
        "plt.show()"
      ],
      "execution_count": 60,
      "outputs": [
        {
          "output_type": "display_data",
          "data": {
            "image/png": "[encoded data removed]",
            "text/plain": [
              "<Figure size 432x288 with 1 Axes>"
            ]
          },
          "metadata": {
            "tags": [],
            "needs_background": "light"
          }
        }
      ]
    },
    {
      "cell_type": "code",
      "metadata": {
        "id": "79qGu_wLFsWg",
        "colab_type": "code",
        "colab": {
          "base_uri": "https://localhost:8080/",
          "height": 257
        },
        "outputId": "126353dc-2477-4dc2-e394-5298b5c6189d"
      },
      "source": [
        "stats[stats.Language == 'English']"
      ],
      "execution_count": 61,
      "outputs": [
        {
          "output_type": "execute_result",
          "data": {
            "text/html": [
              "<div>\n",
              "<style scoped>\n",
              "    .dataframe tbody tr th:only-of-type {\n",
              "        vertical-align: middle;\n",
              "    }\n",
              "\n",
              "    .dataframe tbody tr th {\n",
              "        vertical-align: top;\n",
              "    }\n",
              "\n",
              "    .dataframe thead th {\n",
              "        text-align: right;\n",
              "    }\n",
              "</style>\n",
              "<table border=\"1\" class=\"dataframe\">\n",
              "  <thead>\n",
              "    <tr style=\"text-align: right;\">\n",
              "      <th></th>\n",
              "      <th>Language</th>\n",
              "      <th>Author</th>\n",
              "      <th>Title</th>\n",
              "      <th>Length</th>\n",
              "      <th>Unique</th>\n",
              "    </tr>\n",
              "  </thead>\n",
              "  <tbody>\n",
              "    <tr>\n",
              "      <th>33</th>\n",
              "      <td>English</td>\n",
              "      <td>Shakespeare</td>\n",
              "      <td>The Merchant of Venice</td>\n",
              "      <td>20949</td>\n",
              "      <td>5292</td>\n",
              "    </tr>\n",
              "    <tr>\n",
              "      <th>34</th>\n",
              "      <td>English</td>\n",
              "      <td>Shakespeare</td>\n",
              "      <td>Romeo and Juliet</td>\n",
              "      <td>40776</td>\n",
              "      <td>6251</td>\n",
              "    </tr>\n",
              "    <tr>\n",
              "      <th>35</th>\n",
              "      <td>English</td>\n",
              "      <td>Shakespeare</td>\n",
              "      <td>A Midsummer Night's Dream</td>\n",
              "      <td>16103</td>\n",
              "      <td>4602</td>\n",
              "    </tr>\n",
              "    <tr>\n",
              "      <th>36</th>\n",
              "      <td>English</td>\n",
              "      <td>Shakespeare</td>\n",
              "      <td>Richard III</td>\n",
              "      <td>48315</td>\n",
              "      <td>6508</td>\n",
              "    </tr>\n",
              "    <tr>\n",
              "      <th>37</th>\n",
              "      <td>English</td>\n",
              "      <td>Shakespeare</td>\n",
              "      <td>Hamlet</td>\n",
              "      <td>28551</td>\n",
              "      <td>7236</td>\n",
              "    </tr>\n",
              "    <tr>\n",
              "      <th>38</th>\n",
              "      <td>English</td>\n",
              "      <td>Shakespeare</td>\n",
              "      <td>Othello</td>\n",
              "      <td>26590</td>\n",
              "      <td>6350</td>\n",
              "    </tr>\n",
              "    <tr>\n",
              "      <th>39</th>\n",
              "      <td>English</td>\n",
              "      <td>Shakespeare</td>\n",
              "      <td>Macbeth</td>\n",
              "      <td>16874</td>\n",
              "      <td>5109</td>\n",
              "    </tr>\n",
              "  </tbody>\n",
              "</table>\n",
              "</div>"
            ],
            "text/plain": [
              "   Language       Author                      Title Length Unique\n",
              "33  English  Shakespeare     The Merchant of Venice  20949   5292\n",
              "34  English  Shakespeare           Romeo and Juliet  40776   6251\n",
              "35  English  Shakespeare  A Midsummer Night's Dream  16103   4602\n",
              "36  English  Shakespeare                Richard III  48315   6508\n",
              "37  English  Shakespeare                     Hamlet  28551   7236\n",
              "38  English  Shakespeare                    Othello  26590   6350\n",
              "39  English  Shakespeare                    Macbeth  16874   5109"
            ]
          },
          "metadata": {
            "tags": []
          },
          "execution_count": 61
        }
      ]
    },
    {
      "cell_type": "code",
      "metadata": {
        "id": "8GKuy5t2Fvz2",
        "colab_type": "code",
        "colab": {
          "base_uri": "https://localhost:8080/",
          "height": 1000
        },
        "outputId": "bfd1fed2-99ac-4756-dbd0-0318a6273058"
      },
      "source": [
        "stats[stats.Language == 'French']"
      ],
      "execution_count": 62,
      "outputs": [
        {
          "output_type": "execute_result",
          "data": {
            "text/html": [
              "<div>\n",
              "<style scoped>\n",
              "    .dataframe tbody tr th:only-of-type {\n",
              "        vertical-align: middle;\n",
              "    }\n",
              "\n",
              "    .dataframe tbody tr th {\n",
              "        vertical-align: top;\n",
              "    }\n",
              "\n",
              "    .dataframe thead th {\n",
              "        text-align: right;\n",
              "    }\n",
              "</style>\n",
              "<table border=\"1\" class=\"dataframe\">\n",
              "  <thead>\n",
              "    <tr style=\"text-align: right;\">\n",
              "      <th></th>\n",
              "      <th>Language</th>\n",
              "      <th>Author</th>\n",
              "      <th>Title</th>\n",
              "      <th>Length</th>\n",
              "      <th>Unique</th>\n",
              "    </tr>\n",
              "  </thead>\n",
              "  <tbody>\n",
              "    <tr>\n",
              "      <th>1</th>\n",
              "      <td>French</td>\n",
              "      <td>Diderot</td>\n",
              "      <td>Entretien d'un pa╠êre avec ses enfants</td>\n",
              "      <td>11125</td>\n",
              "      <td>3748</td>\n",
              "    </tr>\n",
              "    <tr>\n",
              "      <th>2</th>\n",
              "      <td>French</td>\n",
              "      <td>Diderot</td>\n",
              "      <td>Regrets sur ma vieille robe de chambre</td>\n",
              "      <td>4980</td>\n",
              "      <td>1895</td>\n",
              "    </tr>\n",
              "    <tr>\n",
              "      <th>3</th>\n",
              "      <td>French</td>\n",
              "      <td>Diderot</td>\n",
              "      <td>L'oiseau blanc</td>\n",
              "      <td>21973</td>\n",
              "      <td>6371</td>\n",
              "    </tr>\n",
              "    <tr>\n",
              "      <th>4</th>\n",
              "      <td>French</td>\n",
              "      <td>Diderot</td>\n",
              "      <td>Les deux amis de Bourbonne</td>\n",
              "      <td>8510</td>\n",
              "      <td>2977</td>\n",
              "    </tr>\n",
              "    <tr>\n",
              "      <th>5</th>\n",
              "      <td>French</td>\n",
              "      <td>Diderot</td>\n",
              "      <td>Ceci n'est pas un conte</td>\n",
              "      <td>10938</td>\n",
              "      <td>3741</td>\n",
              "    </tr>\n",
              "    <tr>\n",
              "      <th>6</th>\n",
              "      <td>French</td>\n",
              "      <td>Sand</td>\n",
              "      <td>Jacques le fataliste et son maa╠ètre</td>\n",
              "      <td>85756</td>\n",
              "      <td>18879</td>\n",
              "    </tr>\n",
              "    <tr>\n",
              "      <th>7</th>\n",
              "      <td>French</td>\n",
              "      <td>Sand</td>\n",
              "      <td>La Coupe; Lupo Liverani; Le Toast; Garnier; Le...</td>\n",
              "      <td>47831</td>\n",
              "      <td>12590</td>\n",
              "    </tr>\n",
              "    <tr>\n",
              "      <th>8</th>\n",
              "      <td>French</td>\n",
              "      <td>Sand</td>\n",
              "      <td>cora</td>\n",
              "      <td>12370</td>\n",
              "      <td>4392</td>\n",
              "    </tr>\n",
              "    <tr>\n",
              "      <th>9</th>\n",
              "      <td>French</td>\n",
              "      <td>Sand</td>\n",
              "      <td>L' Orco</td>\n",
              "      <td>8748</td>\n",
              "      <td>3180</td>\n",
              "    </tr>\n",
              "    <tr>\n",
              "      <th>10</th>\n",
              "      <td>French</td>\n",
              "      <td>Sand</td>\n",
              "      <td>Metella</td>\n",
              "      <td>19600</td>\n",
              "      <td>5737</td>\n",
              "    </tr>\n",
              "    <tr>\n",
              "      <th>11</th>\n",
              "      <td>French</td>\n",
              "      <td>Sand</td>\n",
              "      <td>Mattea</td>\n",
              "      <td>21089</td>\n",
              "      <td>6450</td>\n",
              "    </tr>\n",
              "    <tr>\n",
              "      <th>12</th>\n",
              "      <td>French</td>\n",
              "      <td>Sand</td>\n",
              "      <td>Le Piccinino</td>\n",
              "      <td>151405</td>\n",
              "      <td>27480</td>\n",
              "    </tr>\n",
              "    <tr>\n",
              "      <th>13</th>\n",
              "      <td>French</td>\n",
              "      <td>Sand</td>\n",
              "      <td>Le poa╠éme de Myrza</td>\n",
              "      <td>12771</td>\n",
              "      <td>4368</td>\n",
              "    </tr>\n",
              "    <tr>\n",
              "      <th>14</th>\n",
              "      <td>French</td>\n",
              "      <td>Sand</td>\n",
              "      <td>Oeuvres illustrC╠ºes de George Sand</td>\n",
              "      <td>23210</td>\n",
              "      <td>7536</td>\n",
              "    </tr>\n",
              "    <tr>\n",
              "      <th>15</th>\n",
              "      <td>French</td>\n",
              "      <td>Sand</td>\n",
              "      <td>La Marquise</td>\n",
              "      <td>14716</td>\n",
              "      <td>4805</td>\n",
              "    </tr>\n",
              "    <tr>\n",
              "      <th>16</th>\n",
              "      <td>French</td>\n",
              "      <td>Sand</td>\n",
              "      <td>Pauline</td>\n",
              "      <td>27486</td>\n",
              "      <td>7924</td>\n",
              "    </tr>\n",
              "    <tr>\n",
              "      <th>17</th>\n",
              "      <td>French</td>\n",
              "      <td>Chevalier</td>\n",
              "      <td>Le chasseur noir</td>\n",
              "      <td>51341</td>\n",
              "      <td>13030</td>\n",
              "    </tr>\n",
              "    <tr>\n",
              "      <th>18</th>\n",
              "      <td>French</td>\n",
              "      <td>Chevalier</td>\n",
              "      <td>La fille du pirate</td>\n",
              "      <td>52519</td>\n",
              "      <td>14774</td>\n",
              "    </tr>\n",
              "    <tr>\n",
              "      <th>19</th>\n",
              "      <td>French</td>\n",
              "      <td>Chevalier</td>\n",
              "      <td>La capitaine</td>\n",
              "      <td>46306</td>\n",
              "      <td>13235</td>\n",
              "    </tr>\n",
              "    <tr>\n",
              "      <th>20</th>\n",
              "      <td>French</td>\n",
              "      <td>Chevalier</td>\n",
              "      <td>La fille des indiens rouges</td>\n",
              "      <td>66621</td>\n",
              "      <td>17941</td>\n",
              "    </tr>\n",
              "    <tr>\n",
              "      <th>21</th>\n",
              "      <td>French</td>\n",
              "      <td>Chevalier</td>\n",
              "      <td>Les derniers Iroquois</td>\n",
              "      <td>55565</td>\n",
              "      <td>15679</td>\n",
              "    </tr>\n",
              "    <tr>\n",
              "      <th>22</th>\n",
              "      <td>French</td>\n",
              "      <td>Chevalier</td>\n",
              "      <td>L'enfer et le paradis de l'autre monde</td>\n",
              "      <td>40827</td>\n",
              "      <td>10891</td>\n",
              "    </tr>\n",
              "    <tr>\n",
              "      <th>23</th>\n",
              "      <td>French</td>\n",
              "      <td>Chevalier</td>\n",
              "      <td>L'a╠èle de sable</td>\n",
              "      <td>73801</td>\n",
              "      <td>19131</td>\n",
              "    </tr>\n",
              "    <tr>\n",
              "      <th>24</th>\n",
              "      <td>French</td>\n",
              "      <td>De maupassant</td>\n",
              "      <td>Le Horla</td>\n",
              "      <td>41485</td>\n",
              "      <td>11145</td>\n",
              "    </tr>\n",
              "    <tr>\n",
              "      <th>25</th>\n",
              "      <td>French</td>\n",
              "      <td>De maupassant</td>\n",
              "      <td>Claire de Lune</td>\n",
              "      <td>25975</td>\n",
              "      <td>8113</td>\n",
              "    </tr>\n",
              "    <tr>\n",
              "      <th>26</th>\n",
              "      <td>French</td>\n",
              "      <td>De maupassant</td>\n",
              "      <td>Contes de la Becasse</td>\n",
              "      <td>34723</td>\n",
              "      <td>10254</td>\n",
              "    </tr>\n",
              "    <tr>\n",
              "      <th>27</th>\n",
              "      <td>French</td>\n",
              "      <td>De maupassant</td>\n",
              "      <td>Boule de Suif</td>\n",
              "      <td>35905</td>\n",
              "      <td>10794</td>\n",
              "    </tr>\n",
              "    <tr>\n",
              "      <th>28</th>\n",
              "      <td>French</td>\n",
              "      <td>De maupassant</td>\n",
              "      <td>La Maison Tellier</td>\n",
              "      <td>43685</td>\n",
              "      <td>12352</td>\n",
              "    </tr>\n",
              "    <tr>\n",
              "      <th>29</th>\n",
              "      <td>French</td>\n",
              "      <td>De maupassant</td>\n",
              "      <td>L'inutile beautC╠º</td>\n",
              "      <td>37840</td>\n",
              "      <td>10841</td>\n",
              "    </tr>\n",
              "    <tr>\n",
              "      <th>30</th>\n",
              "      <td>French</td>\n",
              "      <td>De maupassant</td>\n",
              "      <td>La petite roque</td>\n",
              "      <td>40688</td>\n",
              "      <td>10929</td>\n",
              "    </tr>\n",
              "    <tr>\n",
              "      <th>31</th>\n",
              "      <td>French</td>\n",
              "      <td>De maupassant</td>\n",
              "      <td>┼Æuvres comple╠Çtes de Guy de Maupassant</td>\n",
              "      <td>54772</td>\n",
              "      <td>15300</td>\n",
              "    </tr>\n",
              "    <tr>\n",
              "      <th>32</th>\n",
              "      <td>French</td>\n",
              "      <td>De maupassant</td>\n",
              "      <td>La Main Gauche</td>\n",
              "      <td>33481</td>\n",
              "      <td>10012</td>\n",
              "    </tr>\n",
              "  </tbody>\n",
              "</table>\n",
              "</div>"
            ],
            "text/plain": [
              "   Language         Author  ...  Length Unique\n",
              "1    French        Diderot  ...   11125   3748\n",
              "2    French        Diderot  ...    4980   1895\n",
              "3    French        Diderot  ...   21973   6371\n",
              "4    French        Diderot  ...    8510   2977\n",
              "5    French        Diderot  ...   10938   3741\n",
              "6    French           Sand  ...   85756  18879\n",
              "7    French           Sand  ...   47831  12590\n",
              "8    French           Sand  ...   12370   4392\n",
              "9    French           Sand  ...    8748   3180\n",
              "10   French           Sand  ...   19600   5737\n",
              "11   French           Sand  ...   21089   6450\n",
              "12   French           Sand  ...  151405  27480\n",
              "13   French           Sand  ...   12771   4368\n",
              "14   French           Sand  ...   23210   7536\n",
              "15   French           Sand  ...   14716   4805\n",
              "16   French           Sand  ...   27486   7924\n",
              "17   French      Chevalier  ...   51341  13030\n",
              "18   French      Chevalier  ...   52519  14774\n",
              "19   French      Chevalier  ...   46306  13235\n",
              "20   French      Chevalier  ...   66621  17941\n",
              "21   French      Chevalier  ...   55565  15679\n",
              "22   French      Chevalier  ...   40827  10891\n",
              "23   French      Chevalier  ...   73801  19131\n",
              "24   French  De maupassant  ...   41485  11145\n",
              "25   French  De maupassant  ...   25975   8113\n",
              "26   French  De maupassant  ...   34723  10254\n",
              "27   French  De maupassant  ...   35905  10794\n",
              "28   French  De maupassant  ...   43685  12352\n",
              "29   French  De maupassant  ...   37840  10841\n",
              "30   French  De maupassant  ...   40688  10929\n",
              "31   French  De maupassant  ...   54772  15300\n",
              "32   French  De maupassant  ...   33481  10012\n",
              "\n",
              "[32 rows x 5 columns]"
            ]
          },
          "metadata": {
            "tags": []
          },
          "execution_count": 62
        }
      ]
    },
    {
      "cell_type": "code",
      "metadata": {
        "id": "o7Ou-goAF0Mt",
        "colab_type": "code",
        "colab": {
          "base_uri": "https://localhost:8080/",
          "height": 608
        },
        "outputId": "bdbc1173-60ab-4987-a4f2-d1c40f8c343c"
      },
      "source": [
        "plt.figure(figsize = (10,10))\n",
        "subset = stats[stats.Language == 'English']\n",
        "plt.loglog(subset.Length, subset.Unique, 'o', label = 'English', color = 'crimson')\n",
        "subset = stats[stats.Language == 'German']\n",
        "plt.loglog(subset.Length, subset.Unique, 'o', label = 'German', color = 'orange')\n",
        "subset = stats[stats.Language == 'French']\n",
        "plt.loglog(subset.Length, subset.Unique, 'o', label = 'French', color = 'forestgreen')\n",
        "subset = stats[stats.Language == 'Portuguese']\n",
        "plt.loglog(subset.Length, subset.Unique, 'o', label = 'Portuguese', color = 'blueviolet')\n",
        "plt.legend();\n",
        "plt.xlabel('Book Length')\n",
        "plt.ylabel('Number of Unique Words')\n",
        "plt.savefig('drive/My Drive/Language Processing Case Study/lang_plot.pdf')\n",
        "plt.show()"
      ],
      "execution_count": 67,
      "outputs": [
        {
          "output_type": "display_data",
          "data": {
            "image/png": "[encoded data removed]",
            "text/plain": [
              "<Figure size 720x720 with 1 Axes>"
            ]
          },
          "metadata": {
            "tags": [],
            "needs_background": "light"
          }
        }
      ]
    },
    {
      "cell_type": "code",
      "metadata": {
        "id": "Iyins9AEMBdX",
        "colab_type": "code",
        "colab": {}
      },
      "source": [
        ""
      ],
      "execution_count": 0,
      "outputs": []
    }
  ]
}